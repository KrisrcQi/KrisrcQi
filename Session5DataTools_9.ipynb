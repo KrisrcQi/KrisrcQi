{
  "cells": [
    {
      "cell_type": "markdown",
      "metadata": {
        "id": "view-in-github",
        "colab_type": "text"
      },
      "source": [
        "<a href=\"https://colab.research.google.com/github/KrisrcQi/KrisrcQi/blob/main/Session5DataTools_9.ipynb\" target=\"_parent\"><img src=\"https://colab.research.google.com/assets/colab-badge.svg\" alt=\"Open In Colab\"/></a>"
      ]
    },
    {
      "cell_type": "code",
      "execution_count": 1,
      "metadata": {
        "id": "ni_0enJ0gCjG"
      },
      "outputs": [],
      "source": [
        "import numpy as np"
      ]
    },
    {
      "cell_type": "code",
      "execution_count": null,
      "metadata": {
        "id": "5PVZdsk9gCjI"
      },
      "outputs": [],
      "source": [
        "#Below an array shows information about Tesla stock for 3 days: first raw-opening price, second raw-number of transactions, third raw-closing price"
      ]
    },
    {
      "cell_type": "code",
      "execution_count": 2,
      "metadata": {
        "id": "So4N9Vh8gCjI"
      },
      "outputs": [],
      "source": [
        "stock_Tesla_info = np.array(([12,10,15],[20,25,24],[42,40,45]))"
      ]
    },
    {
      "cell_type": "code",
      "execution_count": null,
      "metadata": {
        "id": "IapTXB2vgCjI",
        "outputId": "e9866276-1ecb-4ff1-bb2f-7b7304da4020"
      },
      "outputs": [
        {
          "data": {
            "text/plain": [
              "array([[12, 10, 15],\n",
              "       [20, 25, 24],\n",
              "       [42, 40, 45]])"
            ]
          },
          "execution_count": 4,
          "metadata": {},
          "output_type": "execute_result"
        }
      ],
      "source": [
        "stock_\n",
        "\n",
        "Tesla_info"
      ]
    },
    {
      "cell_type": "code",
      "execution_count": 3,
      "metadata": {
        "id": "6Y6nCOuggCjJ"
      },
      "outputs": [],
      "source": [
        "#using arrays, numpy tools, find maix and min opening price (and when it took place), max and min number of transactions, max and min closing price; calculate the difference between clsing price and opeinign price.\n",
        "#Calculate \"Total Traded\" on the first day which is the Open Price multiplied by the Volume Traded"
      ]
    },
    {
      "cell_type": "code",
      "execution_count": 4,
      "metadata": {
        "colab": {
          "base_uri": "https://localhost:8080/"
        },
        "id": "ZCREhZ7NgCjJ",
        "outputId": "ecd77d8d-76c8-4242-b007-2ee9822fde22"
      },
      "outputs": [
        {
          "output_type": "execute_result",
          "data": {
            "text/plain": [
              "15"
            ]
          },
          "metadata": {},
          "execution_count": 4
        }
      ],
      "source": [
        "np.max(stock_Tesla_info[0])"
      ]
    },
    {
      "cell_type": "code",
      "execution_count": 5,
      "metadata": {
        "colab": {
          "base_uri": "https://localhost:8080/"
        },
        "id": "BALmtjRBgCjK",
        "outputId": "eb38f1bf-e1eb-416a-bcc3-2664e682c936"
      },
      "outputs": [
        {
          "output_type": "execute_result",
          "data": {
            "text/plain": [
              "2"
            ]
          },
          "metadata": {},
          "execution_count": 5
        }
      ],
      "source": [
        "stock_Tesla_info[0].argmax()"
      ]
    },
    {
      "cell_type": "code",
      "execution_count": 6,
      "metadata": {
        "colab": {
          "base_uri": "https://localhost:8080/"
        },
        "id": "KVh8YTjGgCjK",
        "outputId": "a42fbf2e-85b6-4b95-e77c-ad53d6a60d6a"
      },
      "outputs": [
        {
          "output_type": "execute_result",
          "data": {
            "text/plain": [
              "10"
            ]
          },
          "metadata": {},
          "execution_count": 6
        }
      ],
      "source": [
        "np.min(stock_Tesla_info[0])"
      ]
    },
    {
      "cell_type": "code",
      "execution_count": 7,
      "metadata": {
        "colab": {
          "base_uri": "https://localhost:8080/"
        },
        "id": "lrZ29IrMgCjK",
        "outputId": "df6651c7-2a60-426f-8811-4395a927b0bd"
      },
      "outputs": [
        {
          "output_type": "execute_result",
          "data": {
            "text/plain": [
              "1"
            ]
          },
          "metadata": {},
          "execution_count": 7
        }
      ],
      "source": [
        "stock_Tesla_info[0].argmin()"
      ]
    },
    {
      "cell_type": "code",
      "execution_count": 8,
      "metadata": {
        "colab": {
          "base_uri": "https://localhost:8080/"
        },
        "id": "HEUP94pYgCjK",
        "outputId": "88346309-63e8-433d-c473-1c020f4438cc"
      },
      "outputs": [
        {
          "output_type": "execute_result",
          "data": {
            "text/plain": [
              "25"
            ]
          },
          "metadata": {},
          "execution_count": 8
        }
      ],
      "source": [
        "np.max(stock_Tesla_info[1])"
      ]
    },
    {
      "cell_type": "code",
      "execution_count": 9,
      "metadata": {
        "colab": {
          "base_uri": "https://localhost:8080/"
        },
        "id": "IddeCj7SgCjL",
        "outputId": "0d802ed9-5485-4662-fe0f-c8a79d7fa3dc"
      },
      "outputs": [
        {
          "output_type": "execute_result",
          "data": {
            "text/plain": [
              "45"
            ]
          },
          "metadata": {},
          "execution_count": 9
        }
      ],
      "source": [
        "np.max(stock_Tesla_info[2])"
      ]
    },
    {
      "cell_type": "code",
      "execution_count": 10,
      "metadata": {
        "colab": {
          "base_uri": "https://localhost:8080/"
        },
        "id": "1vwwmtURgCjL",
        "outputId": "f9d328b7-a774-4a30-eeff-c12bc2757dd1"
      },
      "outputs": [
        {
          "output_type": "execute_result",
          "data": {
            "text/plain": [
              "array([240, 250, 360])"
            ]
          },
          "metadata": {},
          "execution_count": 10
        }
      ],
      "source": [
        "stock_Tesla_info[0]*stock_Tesla_info[1]"
      ]
    },
    {
      "cell_type": "code",
      "execution_count": null,
      "metadata": {
        "id": "juJZ7BoxgCjL"
      },
      "outputs": [],
      "source": [
        "#Interesting, looks like there was huge amount of money traded for Tesla on the last day**"
      ]
    },
    {
      "cell_type": "code",
      "execution_count": null,
      "metadata": {
        "id": "5Y4qDuUegCjL"
      },
      "outputs": [],
      "source": []
    },
    {
      "cell_type": "code",
      "execution_count": null,
      "metadata": {
        "id": "rGOJTamYgCjL"
      },
      "outputs": [],
      "source": [
        "# Great Job!"
      ]
    },
    {
      "cell_type": "code",
      "execution_count": null,
      "metadata": {
        "id": "D6l5E54wgCjL"
      },
      "outputs": [],
      "source": []
    },
    {
      "cell_type": "code",
      "execution_count": 11,
      "metadata": {
        "id": "mlj7HxNqgCjL"
      },
      "outputs": [],
      "source": [
        "import pandas as pd"
      ]
    },
    {
      "cell_type": "code",
      "execution_count": 12,
      "metadata": {
        "id": "YG4x8ZlLgCjL"
      },
      "outputs": [],
      "source": [
        "ser2 = pd.Series([1,2,3,4],index = ['USA', 'Germany','China', 'Japan'])  "
      ]
    },
    {
      "cell_type": "code",
      "execution_count": 13,
      "metadata": {
        "colab": {
          "base_uri": "https://localhost:8080/"
        },
        "id": "GANvo-aDgCjM",
        "outputId": "1b93ebac-628d-47ac-8186-b077f9e0f13f"
      },
      "outputs": [
        {
          "output_type": "execute_result",
          "data": {
            "text/plain": [
              "USA        1\n",
              "Germany    2\n",
              "China      3\n",
              "Japan      4\n",
              "dtype: int64"
            ]
          },
          "metadata": {},
          "execution_count": 13
        }
      ],
      "source": [
        "ser2"
      ]
    },
    {
      "cell_type": "code",
      "execution_count": 14,
      "metadata": {
        "id": "KttcfRqmgCjM"
      },
      "outputs": [],
      "source": [
        "ser3 = pd.Series([6,4,3,4],index = ['USA', 'Germany','China', 'Japan'])  "
      ]
    },
    {
      "cell_type": "code",
      "execution_count": null,
      "metadata": {
        "id": "6s_91KhWgCjM",
        "outputId": "57705ebc-2c01-4c72-d201-e5d745e8fd89"
      },
      "outputs": [
        {
          "data": {
            "text/plain": [
              "USA        6\n",
              "Germany    4\n",
              "China      3\n",
              "Japan      4\n",
              "dtype: int64"
            ]
          },
          "execution_count": 19,
          "metadata": {},
          "output_type": "execute_result"
        }
      ],
      "source": [
        "ser3"
      ]
    },
    {
      "cell_type": "code",
      "execution_count": null,
      "metadata": {
        "id": "5WYDRiQ4gCjM",
        "outputId": "5ba777ea-88d9-496a-8787-3e0d844f8338"
      },
      "outputs": [
        {
          "data": {
            "text/plain": [
              "1"
            ]
          },
          "execution_count": 20,
          "metadata": {},
          "output_type": "execute_result"
        }
      ],
      "source": [
        "ser2['USA']"
      ]
    },
    {
      "cell_type": "code",
      "execution_count": null,
      "metadata": {
        "id": "G2vZjgDsgCjM"
      },
      "outputs": [],
      "source": [
        "#Operations are then also done based off of index:"
      ]
    },
    {
      "cell_type": "code",
      "execution_count": null,
      "metadata": {
        "id": "OIMFKAowgCjM",
        "outputId": "f3ecca05-b6c8-453f-c855-1ce2257e5881"
      },
      "outputs": [
        {
          "data": {
            "text/plain": [
              "USA        7\n",
              "Germany    6\n",
              "China      6\n",
              "Japan      8\n",
              "dtype: int64"
            ]
          },
          "execution_count": 22,
          "metadata": {},
          "output_type": "execute_result"
        }
      ],
      "source": [
        "ser2 + ser3"
      ]
    },
    {
      "cell_type": "code",
      "execution_count": null,
      "metadata": {
        "id": "KOJy6F6agCjM"
      },
      "outputs": [],
      "source": [
        "#Let's stop here for now and move on to DataFrames, which will expand on the concept of Series!"
      ]
    },
    {
      "cell_type": "code",
      "execution_count": 21,
      "metadata": {
        "id": "-dMzlXb_gCjN"
      },
      "outputs": [],
      "source": [
        "#DataFrames\n",
        "#DataFrames are the workhorse of pandas and are directly inspired by the R programming language. We can think of a DataFrame as a bunch of Series objects put together to share the same index. Let's use pandas to explore this topic!"
      ]
    },
    {
      "cell_type": "code",
      "execution_count": 16,
      "metadata": {
        "id": "taX_H1ehgCjN"
      },
      "outputs": [],
      "source": [
        "list1 = [[12,10,15],[20,25,24],[42,40,45]]"
      ]
    },
    {
      "cell_type": "code",
      "execution_count": 17,
      "metadata": {
        "id": "wR9NbAadgCjN"
      },
      "outputs": [],
      "source": [
        "df = pd.DataFrame(list1)"
      ]
    },
    {
      "cell_type": "code",
      "execution_count": 18,
      "metadata": {
        "colab": {
          "base_uri": "https://localhost:8080/",
          "height": 143
        },
        "id": "mM3g8pMwgCjN",
        "outputId": "2f15fe4b-da87-4420-bb23-d976a35870e2"
      },
      "outputs": [
        {
          "output_type": "execute_result",
          "data": {
            "text/plain": [
              "    0   1   2\n",
              "0  12  10  15\n",
              "1  20  25  24\n",
              "2  42  40  45"
            ],
            "text/html": [
              "\n",
              "  <div id=\"df-54d932ef-c90d-4e2d-9156-81493bcc2190\">\n",
              "    <div class=\"colab-df-container\">\n",
              "      <div>\n",
              "<style scoped>\n",
              "    .dataframe tbody tr th:only-of-type {\n",
              "        vertical-align: middle;\n",
              "    }\n",
              "\n",
              "    .dataframe tbody tr th {\n",
              "        vertical-align: top;\n",
              "    }\n",
              "\n",
              "    .dataframe thead th {\n",
              "        text-align: right;\n",
              "    }\n",
              "</style>\n",
              "<table border=\"1\" class=\"dataframe\">\n",
              "  <thead>\n",
              "    <tr style=\"text-align: right;\">\n",
              "      <th></th>\n",
              "      <th>0</th>\n",
              "      <th>1</th>\n",
              "      <th>2</th>\n",
              "    </tr>\n",
              "  </thead>\n",
              "  <tbody>\n",
              "    <tr>\n",
              "      <th>0</th>\n",
              "      <td>12</td>\n",
              "      <td>10</td>\n",
              "      <td>15</td>\n",
              "    </tr>\n",
              "    <tr>\n",
              "      <th>1</th>\n",
              "      <td>20</td>\n",
              "      <td>25</td>\n",
              "      <td>24</td>\n",
              "    </tr>\n",
              "    <tr>\n",
              "      <th>2</th>\n",
              "      <td>42</td>\n",
              "      <td>40</td>\n",
              "      <td>45</td>\n",
              "    </tr>\n",
              "  </tbody>\n",
              "</table>\n",
              "</div>\n",
              "      <button class=\"colab-df-convert\" onclick=\"convertToInteractive('df-54d932ef-c90d-4e2d-9156-81493bcc2190')\"\n",
              "              title=\"Convert this dataframe to an interactive table.\"\n",
              "              style=\"display:none;\">\n",
              "        \n",
              "  <svg xmlns=\"http://www.w3.org/2000/svg\" height=\"24px\"viewBox=\"0 0 24 24\"\n",
              "       width=\"24px\">\n",
              "    <path d=\"M0 0h24v24H0V0z\" fill=\"none\"/>\n",
              "    <path d=\"M18.56 5.44l.94 2.06.94-2.06 2.06-.94-2.06-.94-.94-2.06-.94 2.06-2.06.94zm-11 1L8.5 8.5l.94-2.06 2.06-.94-2.06-.94L8.5 2.5l-.94 2.06-2.06.94zm10 10l.94 2.06.94-2.06 2.06-.94-2.06-.94-.94-2.06-.94 2.06-2.06.94z\"/><path d=\"M17.41 7.96l-1.37-1.37c-.4-.4-.92-.59-1.43-.59-.52 0-1.04.2-1.43.59L10.3 9.45l-7.72 7.72c-.78.78-.78 2.05 0 2.83L4 21.41c.39.39.9.59 1.41.59.51 0 1.02-.2 1.41-.59l7.78-7.78 2.81-2.81c.8-.78.8-2.07 0-2.86zM5.41 20L4 18.59l7.72-7.72 1.47 1.35L5.41 20z\"/>\n",
              "  </svg>\n",
              "      </button>\n",
              "      \n",
              "  <style>\n",
              "    .colab-df-container {\n",
              "      display:flex;\n",
              "      flex-wrap:wrap;\n",
              "      gap: 12px;\n",
              "    }\n",
              "\n",
              "    .colab-df-convert {\n",
              "      background-color: #E8F0FE;\n",
              "      border: none;\n",
              "      border-radius: 50%;\n",
              "      cursor: pointer;\n",
              "      display: none;\n",
              "      fill: #1967D2;\n",
              "      height: 32px;\n",
              "      padding: 0 0 0 0;\n",
              "      width: 32px;\n",
              "    }\n",
              "\n",
              "    .colab-df-convert:hover {\n",
              "      background-color: #E2EBFA;\n",
              "      box-shadow: 0px 1px 2px rgba(60, 64, 67, 0.3), 0px 1px 3px 1px rgba(60, 64, 67, 0.15);\n",
              "      fill: #174EA6;\n",
              "    }\n",
              "\n",
              "    [theme=dark] .colab-df-convert {\n",
              "      background-color: #3B4455;\n",
              "      fill: #D2E3FC;\n",
              "    }\n",
              "\n",
              "    [theme=dark] .colab-df-convert:hover {\n",
              "      background-color: #434B5C;\n",
              "      box-shadow: 0px 1px 3px 1px rgba(0, 0, 0, 0.15);\n",
              "      filter: drop-shadow(0px 1px 2px rgba(0, 0, 0, 0.3));\n",
              "      fill: #FFFFFF;\n",
              "    }\n",
              "  </style>\n",
              "\n",
              "      <script>\n",
              "        const buttonEl =\n",
              "          document.querySelector('#df-54d932ef-c90d-4e2d-9156-81493bcc2190 button.colab-df-convert');\n",
              "        buttonEl.style.display =\n",
              "          google.colab.kernel.accessAllowed ? 'block' : 'none';\n",
              "\n",
              "        async function convertToInteractive(key) {\n",
              "          const element = document.querySelector('#df-54d932ef-c90d-4e2d-9156-81493bcc2190');\n",
              "          const dataTable =\n",
              "            await google.colab.kernel.invokeFunction('convertToInteractive',\n",
              "                                                     [key], {});\n",
              "          if (!dataTable) return;\n",
              "\n",
              "          const docLinkHtml = 'Like what you see? Visit the ' +\n",
              "            '<a target=\"_blank\" href=https://colab.research.google.com/notebooks/data_table.ipynb>data table notebook</a>'\n",
              "            + ' to learn more about interactive tables.';\n",
              "          element.innerHTML = '';\n",
              "          dataTable['output_type'] = 'display_data';\n",
              "          await google.colab.output.renderOutput(dataTable, element);\n",
              "          const docLink = document.createElement('div');\n",
              "          docLink.innerHTML = docLinkHtml;\n",
              "          element.appendChild(docLink);\n",
              "        }\n",
              "      </script>\n",
              "    </div>\n",
              "  </div>\n",
              "  "
            ]
          },
          "metadata": {},
          "execution_count": 18
        }
      ],
      "source": [
        "df"
      ]
    },
    {
      "cell_type": "code",
      "execution_count": 19,
      "metadata": {
        "id": "2RV_a3cPgCjN"
      },
      "outputs": [],
      "source": [
        "from numpy.random import randn\n",
        "np.random.seed(101)"
      ]
    },
    {
      "cell_type": "code",
      "execution_count": 20,
      "metadata": {
        "id": "Ie9UpOYwgCjN"
      },
      "outputs": [],
      "source": [
        "df = pd.DataFrame(randn(5,4),index='A B C D E'.split(),columns='W X Y Z'.split())"
      ]
    },
    {
      "cell_type": "code",
      "execution_count": 22,
      "metadata": {
        "colab": {
          "base_uri": "https://localhost:8080/",
          "height": 206
        },
        "id": "SAH5tBLigCjN",
        "outputId": "b69c55f3-6ad2-4475-a316-bb97ed865a62"
      },
      "outputs": [
        {
          "output_type": "execute_result",
          "data": {
            "text/plain": [
              "          W         X         Y         Z\n",
              "A  2.706850  0.628133  0.907969  0.503826\n",
              "B  0.651118 -0.319318 -0.848077  0.605965\n",
              "C -2.018168  0.740122  0.528813 -0.589001\n",
              "D  0.188695 -0.758872 -0.933237  0.955057\n",
              "E  0.190794  1.978757  2.605967  0.683509"
            ],
            "text/html": [
              "\n",
              "  <div id=\"df-bd4c3eb9-7707-4567-aa46-e7681827d634\">\n",
              "    <div class=\"colab-df-container\">\n",
              "      <div>\n",
              "<style scoped>\n",
              "    .dataframe tbody tr th:only-of-type {\n",
              "        vertical-align: middle;\n",
              "    }\n",
              "\n",
              "    .dataframe tbody tr th {\n",
              "        vertical-align: top;\n",
              "    }\n",
              "\n",
              "    .dataframe thead th {\n",
              "        text-align: right;\n",
              "    }\n",
              "</style>\n",
              "<table border=\"1\" class=\"dataframe\">\n",
              "  <thead>\n",
              "    <tr style=\"text-align: right;\">\n",
              "      <th></th>\n",
              "      <th>W</th>\n",
              "      <th>X</th>\n",
              "      <th>Y</th>\n",
              "      <th>Z</th>\n",
              "    </tr>\n",
              "  </thead>\n",
              "  <tbody>\n",
              "    <tr>\n",
              "      <th>A</th>\n",
              "      <td>2.706850</td>\n",
              "      <td>0.628133</td>\n",
              "      <td>0.907969</td>\n",
              "      <td>0.503826</td>\n",
              "    </tr>\n",
              "    <tr>\n",
              "      <th>B</th>\n",
              "      <td>0.651118</td>\n",
              "      <td>-0.319318</td>\n",
              "      <td>-0.848077</td>\n",
              "      <td>0.605965</td>\n",
              "    </tr>\n",
              "    <tr>\n",
              "      <th>C</th>\n",
              "      <td>-2.018168</td>\n",
              "      <td>0.740122</td>\n",
              "      <td>0.528813</td>\n",
              "      <td>-0.589001</td>\n",
              "    </tr>\n",
              "    <tr>\n",
              "      <th>D</th>\n",
              "      <td>0.188695</td>\n",
              "      <td>-0.758872</td>\n",
              "      <td>-0.933237</td>\n",
              "      <td>0.955057</td>\n",
              "    </tr>\n",
              "    <tr>\n",
              "      <th>E</th>\n",
              "      <td>0.190794</td>\n",
              "      <td>1.978757</td>\n",
              "      <td>2.605967</td>\n",
              "      <td>0.683509</td>\n",
              "    </tr>\n",
              "  </tbody>\n",
              "</table>\n",
              "</div>\n",
              "      <button class=\"colab-df-convert\" onclick=\"convertToInteractive('df-bd4c3eb9-7707-4567-aa46-e7681827d634')\"\n",
              "              title=\"Convert this dataframe to an interactive table.\"\n",
              "              style=\"display:none;\">\n",
              "        \n",
              "  <svg xmlns=\"http://www.w3.org/2000/svg\" height=\"24px\"viewBox=\"0 0 24 24\"\n",
              "       width=\"24px\">\n",
              "    <path d=\"M0 0h24v24H0V0z\" fill=\"none\"/>\n",
              "    <path d=\"M18.56 5.44l.94 2.06.94-2.06 2.06-.94-2.06-.94-.94-2.06-.94 2.06-2.06.94zm-11 1L8.5 8.5l.94-2.06 2.06-.94-2.06-.94L8.5 2.5l-.94 2.06-2.06.94zm10 10l.94 2.06.94-2.06 2.06-.94-2.06-.94-.94-2.06-.94 2.06-2.06.94z\"/><path d=\"M17.41 7.96l-1.37-1.37c-.4-.4-.92-.59-1.43-.59-.52 0-1.04.2-1.43.59L10.3 9.45l-7.72 7.72c-.78.78-.78 2.05 0 2.83L4 21.41c.39.39.9.59 1.41.59.51 0 1.02-.2 1.41-.59l7.78-7.78 2.81-2.81c.8-.78.8-2.07 0-2.86zM5.41 20L4 18.59l7.72-7.72 1.47 1.35L5.41 20z\"/>\n",
              "  </svg>\n",
              "      </button>\n",
              "      \n",
              "  <style>\n",
              "    .colab-df-container {\n",
              "      display:flex;\n",
              "      flex-wrap:wrap;\n",
              "      gap: 12px;\n",
              "    }\n",
              "\n",
              "    .colab-df-convert {\n",
              "      background-color: #E8F0FE;\n",
              "      border: none;\n",
              "      border-radius: 50%;\n",
              "      cursor: pointer;\n",
              "      display: none;\n",
              "      fill: #1967D2;\n",
              "      height: 32px;\n",
              "      padding: 0 0 0 0;\n",
              "      width: 32px;\n",
              "    }\n",
              "\n",
              "    .colab-df-convert:hover {\n",
              "      background-color: #E2EBFA;\n",
              "      box-shadow: 0px 1px 2px rgba(60, 64, 67, 0.3), 0px 1px 3px 1px rgba(60, 64, 67, 0.15);\n",
              "      fill: #174EA6;\n",
              "    }\n",
              "\n",
              "    [theme=dark] .colab-df-convert {\n",
              "      background-color: #3B4455;\n",
              "      fill: #D2E3FC;\n",
              "    }\n",
              "\n",
              "    [theme=dark] .colab-df-convert:hover {\n",
              "      background-color: #434B5C;\n",
              "      box-shadow: 0px 1px 3px 1px rgba(0, 0, 0, 0.15);\n",
              "      filter: drop-shadow(0px 1px 2px rgba(0, 0, 0, 0.3));\n",
              "      fill: #FFFFFF;\n",
              "    }\n",
              "  </style>\n",
              "\n",
              "      <script>\n",
              "        const buttonEl =\n",
              "          document.querySelector('#df-bd4c3eb9-7707-4567-aa46-e7681827d634 button.colab-df-convert');\n",
              "        buttonEl.style.display =\n",
              "          google.colab.kernel.accessAllowed ? 'block' : 'none';\n",
              "\n",
              "        async function convertToInteractive(key) {\n",
              "          const element = document.querySelector('#df-bd4c3eb9-7707-4567-aa46-e7681827d634');\n",
              "          const dataTable =\n",
              "            await google.colab.kernel.invokeFunction('convertToInteractive',\n",
              "                                                     [key], {});\n",
              "          if (!dataTable) return;\n",
              "\n",
              "          const docLinkHtml = 'Like what you see? Visit the ' +\n",
              "            '<a target=\"_blank\" href=https://colab.research.google.com/notebooks/data_table.ipynb>data table notebook</a>'\n",
              "            + ' to learn more about interactive tables.';\n",
              "          element.innerHTML = '';\n",
              "          dataTable['output_type'] = 'display_data';\n",
              "          await google.colab.output.renderOutput(dataTable, element);\n",
              "          const docLink = document.createElement('div');\n",
              "          docLink.innerHTML = docLinkHtml;\n",
              "          element.appendChild(docLink);\n",
              "        }\n",
              "      </script>\n",
              "    </div>\n",
              "  </div>\n",
              "  "
            ]
          },
          "metadata": {},
          "execution_count": 22
        }
      ],
      "source": [
        "df"
      ]
    },
    {
      "cell_type": "code",
      "execution_count": 23,
      "metadata": {
        "id": "Ql-xCFxJgCjN"
      },
      "outputs": [],
      "source": [
        "#Selection and Indexing\n",
        "#Let's learn the various methods to grab data from a DataFrame"
      ]
    },
    {
      "cell_type": "code",
      "execution_count": 24,
      "metadata": {
        "colab": {
          "base_uri": "https://localhost:8080/"
        },
        "id": "elCMsRDNgCjN",
        "outputId": "7aae93dd-69ff-402e-dd13-0f8d11147015"
      },
      "outputs": [
        {
          "output_type": "execute_result",
          "data": {
            "text/plain": [
              "A    2.706850\n",
              "B    0.651118\n",
              "C   -2.018168\n",
              "D    0.188695\n",
              "E    0.190794\n",
              "Name: W, dtype: float64"
            ]
          },
          "metadata": {},
          "execution_count": 24
        }
      ],
      "source": [
        "df['W']"
      ]
    },
    {
      "cell_type": "code",
      "execution_count": 25,
      "metadata": {
        "colab": {
          "base_uri": "https://localhost:8080/",
          "height": 206
        },
        "id": "Tv1b-W1ugCjO",
        "outputId": "2e585bc7-ff36-4015-d6b3-7ed7576c24bd"
      },
      "outputs": [
        {
          "output_type": "execute_result",
          "data": {
            "text/plain": [
              "          W         Z\n",
              "A  2.706850  0.503826\n",
              "B  0.651118  0.605965\n",
              "C -2.018168 -0.589001\n",
              "D  0.188695  0.955057\n",
              "E  0.190794  0.683509"
            ],
            "text/html": [
              "\n",
              "  <div id=\"df-40008714-27c7-4b5b-9cad-4308e07ab467\">\n",
              "    <div class=\"colab-df-container\">\n",
              "      <div>\n",
              "<style scoped>\n",
              "    .dataframe tbody tr th:only-of-type {\n",
              "        vertical-align: middle;\n",
              "    }\n",
              "\n",
              "    .dataframe tbody tr th {\n",
              "        vertical-align: top;\n",
              "    }\n",
              "\n",
              "    .dataframe thead th {\n",
              "        text-align: right;\n",
              "    }\n",
              "</style>\n",
              "<table border=\"1\" class=\"dataframe\">\n",
              "  <thead>\n",
              "    <tr style=\"text-align: right;\">\n",
              "      <th></th>\n",
              "      <th>W</th>\n",
              "      <th>Z</th>\n",
              "    </tr>\n",
              "  </thead>\n",
              "  <tbody>\n",
              "    <tr>\n",
              "      <th>A</th>\n",
              "      <td>2.706850</td>\n",
              "      <td>0.503826</td>\n",
              "    </tr>\n",
              "    <tr>\n",
              "      <th>B</th>\n",
              "      <td>0.651118</td>\n",
              "      <td>0.605965</td>\n",
              "    </tr>\n",
              "    <tr>\n",
              "      <th>C</th>\n",
              "      <td>-2.018168</td>\n",
              "      <td>-0.589001</td>\n",
              "    </tr>\n",
              "    <tr>\n",
              "      <th>D</th>\n",
              "      <td>0.188695</td>\n",
              "      <td>0.955057</td>\n",
              "    </tr>\n",
              "    <tr>\n",
              "      <th>E</th>\n",
              "      <td>0.190794</td>\n",
              "      <td>0.683509</td>\n",
              "    </tr>\n",
              "  </tbody>\n",
              "</table>\n",
              "</div>\n",
              "      <button class=\"colab-df-convert\" onclick=\"convertToInteractive('df-40008714-27c7-4b5b-9cad-4308e07ab467')\"\n",
              "              title=\"Convert this dataframe to an interactive table.\"\n",
              "              style=\"display:none;\">\n",
              "        \n",
              "  <svg xmlns=\"http://www.w3.org/2000/svg\" height=\"24px\"viewBox=\"0 0 24 24\"\n",
              "       width=\"24px\">\n",
              "    <path d=\"M0 0h24v24H0V0z\" fill=\"none\"/>\n",
              "    <path d=\"M18.56 5.44l.94 2.06.94-2.06 2.06-.94-2.06-.94-.94-2.06-.94 2.06-2.06.94zm-11 1L8.5 8.5l.94-2.06 2.06-.94-2.06-.94L8.5 2.5l-.94 2.06-2.06.94zm10 10l.94 2.06.94-2.06 2.06-.94-2.06-.94-.94-2.06-.94 2.06-2.06.94z\"/><path d=\"M17.41 7.96l-1.37-1.37c-.4-.4-.92-.59-1.43-.59-.52 0-1.04.2-1.43.59L10.3 9.45l-7.72 7.72c-.78.78-.78 2.05 0 2.83L4 21.41c.39.39.9.59 1.41.59.51 0 1.02-.2 1.41-.59l7.78-7.78 2.81-2.81c.8-.78.8-2.07 0-2.86zM5.41 20L4 18.59l7.72-7.72 1.47 1.35L5.41 20z\"/>\n",
              "  </svg>\n",
              "      </button>\n",
              "      \n",
              "  <style>\n",
              "    .colab-df-container {\n",
              "      display:flex;\n",
              "      flex-wrap:wrap;\n",
              "      gap: 12px;\n",
              "    }\n",
              "\n",
              "    .colab-df-convert {\n",
              "      background-color: #E8F0FE;\n",
              "      border: none;\n",
              "      border-radius: 50%;\n",
              "      cursor: pointer;\n",
              "      display: none;\n",
              "      fill: #1967D2;\n",
              "      height: 32px;\n",
              "      padding: 0 0 0 0;\n",
              "      width: 32px;\n",
              "    }\n",
              "\n",
              "    .colab-df-convert:hover {\n",
              "      background-color: #E2EBFA;\n",
              "      box-shadow: 0px 1px 2px rgba(60, 64, 67, 0.3), 0px 1px 3px 1px rgba(60, 64, 67, 0.15);\n",
              "      fill: #174EA6;\n",
              "    }\n",
              "\n",
              "    [theme=dark] .colab-df-convert {\n",
              "      background-color: #3B4455;\n",
              "      fill: #D2E3FC;\n",
              "    }\n",
              "\n",
              "    [theme=dark] .colab-df-convert:hover {\n",
              "      background-color: #434B5C;\n",
              "      box-shadow: 0px 1px 3px 1px rgba(0, 0, 0, 0.15);\n",
              "      filter: drop-shadow(0px 1px 2px rgba(0, 0, 0, 0.3));\n",
              "      fill: #FFFFFF;\n",
              "    }\n",
              "  </style>\n",
              "\n",
              "      <script>\n",
              "        const buttonEl =\n",
              "          document.querySelector('#df-40008714-27c7-4b5b-9cad-4308e07ab467 button.colab-df-convert');\n",
              "        buttonEl.style.display =\n",
              "          google.colab.kernel.accessAllowed ? 'block' : 'none';\n",
              "\n",
              "        async function convertToInteractive(key) {\n",
              "          const element = document.querySelector('#df-40008714-27c7-4b5b-9cad-4308e07ab467');\n",
              "          const dataTable =\n",
              "            await google.colab.kernel.invokeFunction('convertToInteractive',\n",
              "                                                     [key], {});\n",
              "          if (!dataTable) return;\n",
              "\n",
              "          const docLinkHtml = 'Like what you see? Visit the ' +\n",
              "            '<a target=\"_blank\" href=https://colab.research.google.com/notebooks/data_table.ipynb>data table notebook</a>'\n",
              "            + ' to learn more about interactive tables.';\n",
              "          element.innerHTML = '';\n",
              "          dataTable['output_type'] = 'display_data';\n",
              "          await google.colab.output.renderOutput(dataTable, element);\n",
              "          const docLink = document.createElement('div');\n",
              "          docLink.innerHTML = docLinkHtml;\n",
              "          element.appendChild(docLink);\n",
              "        }\n",
              "      </script>\n",
              "    </div>\n",
              "  </div>\n",
              "  "
            ]
          },
          "metadata": {},
          "execution_count": 25
        }
      ],
      "source": [
        "# Pass a list of column names/double-brackets-output df\n",
        "df[['W','Z']]"
      ]
    },
    {
      "cell_type": "code",
      "execution_count": 26,
      "metadata": {
        "id": "0AX1xE5zgCjO"
      },
      "outputs": [],
      "source": [
        "#DataFrame Columns are just Series"
      ]
    },
    {
      "cell_type": "code",
      "execution_count": 27,
      "metadata": {
        "colab": {
          "base_uri": "https://localhost:8080/"
        },
        "id": "VabUWSPpgCjO",
        "outputId": "9bd3ef3a-3fd0-4c45-da53-e0789abe0fb2"
      },
      "outputs": [
        {
          "output_type": "execute_result",
          "data": {
            "text/plain": [
              "pandas.core.series.Series"
            ]
          },
          "metadata": {},
          "execution_count": 27
        }
      ],
      "source": [
        "type(df['W'])"
      ]
    },
    {
      "cell_type": "code",
      "execution_count": null,
      "metadata": {
        "id": "QM2YLvGDgCjO"
      },
      "outputs": [],
      "source": [
        "#Creating a new column:"
      ]
    },
    {
      "cell_type": "code",
      "execution_count": null,
      "metadata": {
        "id": "0pTv4UsPgCjO"
      },
      "outputs": [],
      "source": [
        "df['new'] = df['W'] + df['Y']"
      ]
    },
    {
      "cell_type": "code",
      "execution_count": null,
      "metadata": {
        "id": "k9aTHRPggCjO",
        "outputId": "da64a3f1-a055-4c78-cf2d-054b34b05e21"
      },
      "outputs": [
        {
          "data": {
            "text/html": [
              "<div>\n",
              "<style scoped>\n",
              "    .dataframe tbody tr th:only-of-type {\n",
              "        vertical-align: middle;\n",
              "    }\n",
              "\n",
              "    .dataframe tbody tr th {\n",
              "        vertical-align: top;\n",
              "    }\n",
              "\n",
              "    .dataframe thead th {\n",
              "        text-align: right;\n",
              "    }\n",
              "</style>\n",
              "<table border=\"1\" class=\"dataframe\">\n",
              "  <thead>\n",
              "    <tr style=\"text-align: right;\">\n",
              "      <th></th>\n",
              "      <th>W</th>\n",
              "      <th>X</th>\n",
              "      <th>Y</th>\n",
              "      <th>Z</th>\n",
              "      <th>new</th>\n",
              "    </tr>\n",
              "  </thead>\n",
              "  <tbody>\n",
              "    <tr>\n",
              "      <th>A</th>\n",
              "      <td>2.706850</td>\n",
              "      <td>0.628133</td>\n",
              "      <td>0.907969</td>\n",
              "      <td>0.503826</td>\n",
              "      <td>3.614819</td>\n",
              "    </tr>\n",
              "    <tr>\n",
              "      <th>B</th>\n",
              "      <td>0.651118</td>\n",
              "      <td>-0.319318</td>\n",
              "      <td>-0.848077</td>\n",
              "      <td>0.605965</td>\n",
              "      <td>-0.196959</td>\n",
              "    </tr>\n",
              "    <tr>\n",
              "      <th>C</th>\n",
              "      <td>-2.018168</td>\n",
              "      <td>0.740122</td>\n",
              "      <td>0.528813</td>\n",
              "      <td>-0.589001</td>\n",
              "      <td>-1.489355</td>\n",
              "    </tr>\n",
              "    <tr>\n",
              "      <th>D</th>\n",
              "      <td>0.188695</td>\n",
              "      <td>-0.758872</td>\n",
              "      <td>-0.933237</td>\n",
              "      <td>0.955057</td>\n",
              "      <td>-0.744542</td>\n",
              "    </tr>\n",
              "    <tr>\n",
              "      <th>E</th>\n",
              "      <td>0.190794</td>\n",
              "      <td>1.978757</td>\n",
              "      <td>2.605967</td>\n",
              "      <td>0.683509</td>\n",
              "      <td>2.796762</td>\n",
              "    </tr>\n",
              "  </tbody>\n",
              "</table>\n",
              "</div>"
            ],
            "text/plain": [
              "          W         X         Y         Z       new\n",
              "A  2.706850  0.628133  0.907969  0.503826  3.614819\n",
              "B  0.651118 -0.319318 -0.848077  0.605965 -0.196959\n",
              "C -2.018168  0.740122  0.528813 -0.589001 -1.489355\n",
              "D  0.188695 -0.758872 -0.933237  0.955057 -0.744542\n",
              "E  0.190794  1.978757  2.605967  0.683509  2.796762"
            ]
          },
          "execution_count": 38,
          "metadata": {},
          "output_type": "execute_result"
        }
      ],
      "source": [
        "df"
      ]
    },
    {
      "cell_type": "code",
      "execution_count": null,
      "metadata": {
        "id": "_bOA-2T7gCjO"
      },
      "outputs": [],
      "source": [
        "#Removing Columns"
      ]
    },
    {
      "cell_type": "code",
      "execution_count": null,
      "metadata": {
        "id": "6AwHK0NFgCjO",
        "outputId": "d7081375-423a-4406-f2dc-bccc896bebc0"
      },
      "outputs": [
        {
          "data": {
            "text/html": [
              "<div>\n",
              "<style scoped>\n",
              "    .dataframe tbody tr th:only-of-type {\n",
              "        vertical-align: middle;\n",
              "    }\n",
              "\n",
              "    .dataframe tbody tr th {\n",
              "        vertical-align: top;\n",
              "    }\n",
              "\n",
              "    .dataframe thead th {\n",
              "        text-align: right;\n",
              "    }\n",
              "</style>\n",
              "<table border=\"1\" class=\"dataframe\">\n",
              "  <thead>\n",
              "    <tr style=\"text-align: right;\">\n",
              "      <th></th>\n",
              "      <th>W</th>\n",
              "      <th>X</th>\n",
              "      <th>Y</th>\n",
              "      <th>Z</th>\n",
              "    </tr>\n",
              "  </thead>\n",
              "  <tbody>\n",
              "    <tr>\n",
              "      <th>A</th>\n",
              "      <td>2.706850</td>\n",
              "      <td>0.628133</td>\n",
              "      <td>0.907969</td>\n",
              "      <td>0.503826</td>\n",
              "    </tr>\n",
              "    <tr>\n",
              "      <th>B</th>\n",
              "      <td>0.651118</td>\n",
              "      <td>-0.319318</td>\n",
              "      <td>-0.848077</td>\n",
              "      <td>0.605965</td>\n",
              "    </tr>\n",
              "    <tr>\n",
              "      <th>C</th>\n",
              "      <td>-2.018168</td>\n",
              "      <td>0.740122</td>\n",
              "      <td>0.528813</td>\n",
              "      <td>-0.589001</td>\n",
              "    </tr>\n",
              "    <tr>\n",
              "      <th>D</th>\n",
              "      <td>0.188695</td>\n",
              "      <td>-0.758872</td>\n",
              "      <td>-0.933237</td>\n",
              "      <td>0.955057</td>\n",
              "    </tr>\n",
              "    <tr>\n",
              "      <th>E</th>\n",
              "      <td>0.190794</td>\n",
              "      <td>1.978757</td>\n",
              "      <td>2.605967</td>\n",
              "      <td>0.683509</td>\n",
              "    </tr>\n",
              "  </tbody>\n",
              "</table>\n",
              "</div>"
            ],
            "text/plain": [
              "          W         X         Y         Z\n",
              "A  2.706850  0.628133  0.907969  0.503826\n",
              "B  0.651118 -0.319318 -0.848077  0.605965\n",
              "C -2.018168  0.740122  0.528813 -0.589001\n",
              "D  0.188695 -0.758872 -0.933237  0.955057\n",
              "E  0.190794  1.978757  2.605967  0.683509"
            ]
          },
          "execution_count": 40,
          "metadata": {},
          "output_type": "execute_result"
        }
      ],
      "source": [
        "df.drop('new',axis=1)"
      ]
    },
    {
      "cell_type": "code",
      "execution_count": null,
      "metadata": {
        "id": "vvU7O7KugCjO",
        "outputId": "16401746-d845-4cef-92f2-3102d1cdf000"
      },
      "outputs": [
        {
          "data": {
            "text/html": [
              "<div>\n",
              "<style scoped>\n",
              "    .dataframe tbody tr th:only-of-type {\n",
              "        vertical-align: middle;\n",
              "    }\n",
              "\n",
              "    .dataframe tbody tr th {\n",
              "        vertical-align: top;\n",
              "    }\n",
              "\n",
              "    .dataframe thead th {\n",
              "        text-align: right;\n",
              "    }\n",
              "</style>\n",
              "<table border=\"1\" class=\"dataframe\">\n",
              "  <thead>\n",
              "    <tr style=\"text-align: right;\">\n",
              "      <th></th>\n",
              "      <th>W</th>\n",
              "      <th>X</th>\n",
              "      <th>Y</th>\n",
              "      <th>Z</th>\n",
              "      <th>new</th>\n",
              "    </tr>\n",
              "  </thead>\n",
              "  <tbody>\n",
              "    <tr>\n",
              "      <th>A</th>\n",
              "      <td>2.706850</td>\n",
              "      <td>0.628133</td>\n",
              "      <td>0.907969</td>\n",
              "      <td>0.503826</td>\n",
              "      <td>3.614819</td>\n",
              "    </tr>\n",
              "    <tr>\n",
              "      <th>B</th>\n",
              "      <td>0.651118</td>\n",
              "      <td>-0.319318</td>\n",
              "      <td>-0.848077</td>\n",
              "      <td>0.605965</td>\n",
              "      <td>-0.196959</td>\n",
              "    </tr>\n",
              "    <tr>\n",
              "      <th>C</th>\n",
              "      <td>-2.018168</td>\n",
              "      <td>0.740122</td>\n",
              "      <td>0.528813</td>\n",
              "      <td>-0.589001</td>\n",
              "      <td>-1.489355</td>\n",
              "    </tr>\n",
              "    <tr>\n",
              "      <th>D</th>\n",
              "      <td>0.188695</td>\n",
              "      <td>-0.758872</td>\n",
              "      <td>-0.933237</td>\n",
              "      <td>0.955057</td>\n",
              "      <td>-0.744542</td>\n",
              "    </tr>\n",
              "    <tr>\n",
              "      <th>E</th>\n",
              "      <td>0.190794</td>\n",
              "      <td>1.978757</td>\n",
              "      <td>2.605967</td>\n",
              "      <td>0.683509</td>\n",
              "      <td>2.796762</td>\n",
              "    </tr>\n",
              "  </tbody>\n",
              "</table>\n",
              "</div>"
            ],
            "text/plain": [
              "          W         X         Y         Z       new\n",
              "A  2.706850  0.628133  0.907969  0.503826  3.614819\n",
              "B  0.651118 -0.319318 -0.848077  0.605965 -0.196959\n",
              "C -2.018168  0.740122  0.528813 -0.589001 -1.489355\n",
              "D  0.188695 -0.758872 -0.933237  0.955057 -0.744542\n",
              "E  0.190794  1.978757  2.605967  0.683509  2.796762"
            ]
          },
          "execution_count": 41,
          "metadata": {},
          "output_type": "execute_result"
        }
      ],
      "source": [
        "# Not inplace unless specified!\n",
        "df"
      ]
    },
    {
      "cell_type": "code",
      "execution_count": null,
      "metadata": {
        "id": "YFn1b0Y8gCjO"
      },
      "outputs": [],
      "source": [
        "df.drop('new',axis=1,inplace=True)"
      ]
    },
    {
      "cell_type": "code",
      "execution_count": null,
      "metadata": {
        "id": "UCay_EshgCjP",
        "outputId": "243f4ba7-a03f-4ff0-d966-de33c7a70633"
      },
      "outputs": [
        {
          "data": {
            "text/html": [
              "<div>\n",
              "<style scoped>\n",
              "    .dataframe tbody tr th:only-of-type {\n",
              "        vertical-align: middle;\n",
              "    }\n",
              "\n",
              "    .dataframe tbody tr th {\n",
              "        vertical-align: top;\n",
              "    }\n",
              "\n",
              "    .dataframe thead th {\n",
              "        text-align: right;\n",
              "    }\n",
              "</style>\n",
              "<table border=\"1\" class=\"dataframe\">\n",
              "  <thead>\n",
              "    <tr style=\"text-align: right;\">\n",
              "      <th></th>\n",
              "      <th>W</th>\n",
              "      <th>X</th>\n",
              "      <th>Y</th>\n",
              "      <th>Z</th>\n",
              "    </tr>\n",
              "  </thead>\n",
              "  <tbody>\n",
              "    <tr>\n",
              "      <th>A</th>\n",
              "      <td>2.706850</td>\n",
              "      <td>0.628133</td>\n",
              "      <td>0.907969</td>\n",
              "      <td>0.503826</td>\n",
              "    </tr>\n",
              "    <tr>\n",
              "      <th>B</th>\n",
              "      <td>0.651118</td>\n",
              "      <td>-0.319318</td>\n",
              "      <td>-0.848077</td>\n",
              "      <td>0.605965</td>\n",
              "    </tr>\n",
              "    <tr>\n",
              "      <th>C</th>\n",
              "      <td>-2.018168</td>\n",
              "      <td>0.740122</td>\n",
              "      <td>0.528813</td>\n",
              "      <td>-0.589001</td>\n",
              "    </tr>\n",
              "    <tr>\n",
              "      <th>D</th>\n",
              "      <td>0.188695</td>\n",
              "      <td>-0.758872</td>\n",
              "      <td>-0.933237</td>\n",
              "      <td>0.955057</td>\n",
              "    </tr>\n",
              "    <tr>\n",
              "      <th>E</th>\n",
              "      <td>0.190794</td>\n",
              "      <td>1.978757</td>\n",
              "      <td>2.605967</td>\n",
              "      <td>0.683509</td>\n",
              "    </tr>\n",
              "  </tbody>\n",
              "</table>\n",
              "</div>"
            ],
            "text/plain": [
              "          W         X         Y         Z\n",
              "A  2.706850  0.628133  0.907969  0.503826\n",
              "B  0.651118 -0.319318 -0.848077  0.605965\n",
              "C -2.018168  0.740122  0.528813 -0.589001\n",
              "D  0.188695 -0.758872 -0.933237  0.955057\n",
              "E  0.190794  1.978757  2.605967  0.683509"
            ]
          },
          "execution_count": 43,
          "metadata": {},
          "output_type": "execute_result"
        }
      ],
      "source": [
        "df"
      ]
    },
    {
      "cell_type": "code",
      "execution_count": null,
      "metadata": {
        "id": "HOJBQZSmgCjP",
        "outputId": "76dbde99-fa1a-4020-ff54-b1b7ea4f3f9d"
      },
      "outputs": [
        {
          "data": {
            "text/html": [
              "<div>\n",
              "<style scoped>\n",
              "    .dataframe tbody tr th:only-of-type {\n",
              "        vertical-align: middle;\n",
              "    }\n",
              "\n",
              "    .dataframe tbody tr th {\n",
              "        vertical-align: top;\n",
              "    }\n",
              "\n",
              "    .dataframe thead th {\n",
              "        text-align: right;\n",
              "    }\n",
              "</style>\n",
              "<table border=\"1\" class=\"dataframe\">\n",
              "  <thead>\n",
              "    <tr style=\"text-align: right;\">\n",
              "      <th></th>\n",
              "      <th>W</th>\n",
              "      <th>X</th>\n",
              "      <th>Y</th>\n",
              "      <th>Z</th>\n",
              "    </tr>\n",
              "  </thead>\n",
              "  <tbody>\n",
              "    <tr>\n",
              "      <th>A</th>\n",
              "      <td>2.706850</td>\n",
              "      <td>0.628133</td>\n",
              "      <td>0.907969</td>\n",
              "      <td>0.503826</td>\n",
              "    </tr>\n",
              "    <tr>\n",
              "      <th>B</th>\n",
              "      <td>0.651118</td>\n",
              "      <td>-0.319318</td>\n",
              "      <td>-0.848077</td>\n",
              "      <td>0.605965</td>\n",
              "    </tr>\n",
              "    <tr>\n",
              "      <th>C</th>\n",
              "      <td>-2.018168</td>\n",
              "      <td>0.740122</td>\n",
              "      <td>0.528813</td>\n",
              "      <td>-0.589001</td>\n",
              "    </tr>\n",
              "    <tr>\n",
              "      <th>D</th>\n",
              "      <td>0.188695</td>\n",
              "      <td>-0.758872</td>\n",
              "      <td>-0.933237</td>\n",
              "      <td>0.955057</td>\n",
              "    </tr>\n",
              "  </tbody>\n",
              "</table>\n",
              "</div>"
            ],
            "text/plain": [
              "          W         X         Y         Z\n",
              "A  2.706850  0.628133  0.907969  0.503826\n",
              "B  0.651118 -0.319318 -0.848077  0.605965\n",
              "C -2.018168  0.740122  0.528813 -0.589001\n",
              "D  0.188695 -0.758872 -0.933237  0.955057"
            ]
          },
          "execution_count": 44,
          "metadata": {},
          "output_type": "execute_result"
        }
      ],
      "source": [
        "df.drop('E',axis=0)"
      ]
    },
    {
      "cell_type": "code",
      "execution_count": null,
      "metadata": {
        "id": "e9tO8hMHgCjP"
      },
      "outputs": [],
      "source": [
        "#Selecting Rows"
      ]
    },
    {
      "cell_type": "code",
      "execution_count": null,
      "metadata": {
        "id": "Ayn12t5zgCjP",
        "outputId": "4bd25160-daf8-4699-936b-80e433454424"
      },
      "outputs": [
        {
          "data": {
            "text/plain": [
              "W    2.706850\n",
              "X    0.628133\n",
              "Y    0.907969\n",
              "Z    0.503826\n",
              "Name: A, dtype: float64"
            ]
          },
          "execution_count": 46,
          "metadata": {},
          "output_type": "execute_result"
        }
      ],
      "source": [
        "df.loc['A']"
      ]
    },
    {
      "cell_type": "code",
      "execution_count": null,
      "metadata": {
        "id": "NUG7AFbagCjP"
      },
      "outputs": [],
      "source": [
        "#Or select based off of position instead of label"
      ]
    },
    {
      "cell_type": "code",
      "execution_count": null,
      "metadata": {
        "id": "nGMc6vwDgCjP",
        "outputId": "cb8e7699-8734-4f73-d768-4fb47635380d"
      },
      "outputs": [
        {
          "data": {
            "text/plain": [
              "W   -2.018168\n",
              "X    0.740122\n",
              "Y    0.528813\n",
              "Z   -0.589001\n",
              "Name: C, dtype: float64"
            ]
          },
          "execution_count": 48,
          "metadata": {},
          "output_type": "execute_result"
        }
      ],
      "source": [
        "df.iloc[2]"
      ]
    },
    {
      "cell_type": "code",
      "execution_count": null,
      "metadata": {
        "id": "6W1yW8_VgCjP"
      },
      "outputs": [],
      "source": [
        "#Selecting subset of rows and columns "
      ]
    },
    {
      "cell_type": "code",
      "execution_count": null,
      "metadata": {
        "id": "-WaDquKTgCjP",
        "outputId": "a3af9640-b88d-45cd-a148-7e6b96edc02d"
      },
      "outputs": [
        {
          "data": {
            "text/plain": [
              "-0.8480769834036315"
            ]
          },
          "execution_count": 50,
          "metadata": {},
          "output_type": "execute_result"
        }
      ],
      "source": [
        "df.loc['B','Y']"
      ]
    },
    {
      "cell_type": "code",
      "execution_count": null,
      "metadata": {
        "id": "wvn-E2_BgCjP",
        "outputId": "65a96575-7274-421e-8f3a-70ec02154cbf"
      },
      "outputs": [
        {
          "data": {
            "text/html": [
              "<div>\n",
              "<style scoped>\n",
              "    .dataframe tbody tr th:only-of-type {\n",
              "        vertical-align: middle;\n",
              "    }\n",
              "\n",
              "    .dataframe tbody tr th {\n",
              "        vertical-align: top;\n",
              "    }\n",
              "\n",
              "    .dataframe thead th {\n",
              "        text-align: right;\n",
              "    }\n",
              "</style>\n",
              "<table border=\"1\" class=\"dataframe\">\n",
              "  <thead>\n",
              "    <tr style=\"text-align: right;\">\n",
              "      <th></th>\n",
              "      <th>W</th>\n",
              "      <th>Y</th>\n",
              "    </tr>\n",
              "  </thead>\n",
              "  <tbody>\n",
              "    <tr>\n",
              "      <th>A</th>\n",
              "      <td>2.706850</td>\n",
              "      <td>0.907969</td>\n",
              "    </tr>\n",
              "    <tr>\n",
              "      <th>B</th>\n",
              "      <td>0.651118</td>\n",
              "      <td>-0.848077</td>\n",
              "    </tr>\n",
              "  </tbody>\n",
              "</table>\n",
              "</div>"
            ],
            "text/plain": [
              "          W         Y\n",
              "A  2.706850  0.907969\n",
              "B  0.651118 -0.848077"
            ]
          },
          "execution_count": 51,
          "metadata": {},
          "output_type": "execute_result"
        }
      ],
      "source": [
        "df.loc[['A','B'],['W','Y']]"
      ]
    },
    {
      "cell_type": "code",
      "execution_count": null,
      "metadata": {
        "id": "MBaHfSCagCjQ"
      },
      "outputs": [],
      "source": [
        "#Conditional Selection\n",
        "#An important feature of pandas is conditional selection using bracket notation, very similar to numpy:"
      ]
    },
    {
      "cell_type": "code",
      "execution_count": null,
      "metadata": {
        "id": "RIu0iXOOgCjQ",
        "outputId": "0f9d862a-7ed4-42e8-b8c0-3b3fd8001ed3"
      },
      "outputs": [
        {
          "data": {
            "text/html": [
              "<div>\n",
              "<style scoped>\n",
              "    .dataframe tbody tr th:only-of-type {\n",
              "        vertical-align: middle;\n",
              "    }\n",
              "\n",
              "    .dataframe tbody tr th {\n",
              "        vertical-align: top;\n",
              "    }\n",
              "\n",
              "    .dataframe thead th {\n",
              "        text-align: right;\n",
              "    }\n",
              "</style>\n",
              "<table border=\"1\" class=\"dataframe\">\n",
              "  <thead>\n",
              "    <tr style=\"text-align: right;\">\n",
              "      <th></th>\n",
              "      <th>W</th>\n",
              "      <th>X</th>\n",
              "      <th>Y</th>\n",
              "      <th>Z</th>\n",
              "    </tr>\n",
              "  </thead>\n",
              "  <tbody>\n",
              "    <tr>\n",
              "      <th>A</th>\n",
              "      <td>2.706850</td>\n",
              "      <td>0.628133</td>\n",
              "      <td>0.907969</td>\n",
              "      <td>0.503826</td>\n",
              "    </tr>\n",
              "    <tr>\n",
              "      <th>B</th>\n",
              "      <td>0.651118</td>\n",
              "      <td>-0.319318</td>\n",
              "      <td>-0.848077</td>\n",
              "      <td>0.605965</td>\n",
              "    </tr>\n",
              "    <tr>\n",
              "      <th>C</th>\n",
              "      <td>-2.018168</td>\n",
              "      <td>0.740122</td>\n",
              "      <td>0.528813</td>\n",
              "      <td>-0.589001</td>\n",
              "    </tr>\n",
              "    <tr>\n",
              "      <th>D</th>\n",
              "      <td>0.188695</td>\n",
              "      <td>-0.758872</td>\n",
              "      <td>-0.933237</td>\n",
              "      <td>0.955057</td>\n",
              "    </tr>\n",
              "    <tr>\n",
              "      <th>E</th>\n",
              "      <td>0.190794</td>\n",
              "      <td>1.978757</td>\n",
              "      <td>2.605967</td>\n",
              "      <td>0.683509</td>\n",
              "    </tr>\n",
              "  </tbody>\n",
              "</table>\n",
              "</div>"
            ],
            "text/plain": [
              "          W         X         Y         Z\n",
              "A  2.706850  0.628133  0.907969  0.503826\n",
              "B  0.651118 -0.319318 -0.848077  0.605965\n",
              "C -2.018168  0.740122  0.528813 -0.589001\n",
              "D  0.188695 -0.758872 -0.933237  0.955057\n",
              "E  0.190794  1.978757  2.605967  0.683509"
            ]
          },
          "execution_count": 53,
          "metadata": {},
          "output_type": "execute_result"
        }
      ],
      "source": [
        "df"
      ]
    },
    {
      "cell_type": "code",
      "execution_count": null,
      "metadata": {
        "id": "yKZ3YHj0gCjQ",
        "outputId": "19f46e44-89bf-4d8b-ceaf-b9ebf1e8e3d8"
      },
      "outputs": [
        {
          "data": {
            "text/html": [
              "<div>\n",
              "<style scoped>\n",
              "    .dataframe tbody tr th:only-of-type {\n",
              "        vertical-align: middle;\n",
              "    }\n",
              "\n",
              "    .dataframe tbody tr th {\n",
              "        vertical-align: top;\n",
              "    }\n",
              "\n",
              "    .dataframe thead th {\n",
              "        text-align: right;\n",
              "    }\n",
              "</style>\n",
              "<table border=\"1\" class=\"dataframe\">\n",
              "  <thead>\n",
              "    <tr style=\"text-align: right;\">\n",
              "      <th></th>\n",
              "      <th>W</th>\n",
              "      <th>X</th>\n",
              "      <th>Y</th>\n",
              "      <th>Z</th>\n",
              "    </tr>\n",
              "  </thead>\n",
              "  <tbody>\n",
              "    <tr>\n",
              "      <th>A</th>\n",
              "      <td>2.706850</td>\n",
              "      <td>0.628133</td>\n",
              "      <td>0.907969</td>\n",
              "      <td>0.503826</td>\n",
              "    </tr>\n",
              "    <tr>\n",
              "      <th>B</th>\n",
              "      <td>0.651118</td>\n",
              "      <td>-0.319318</td>\n",
              "      <td>-0.848077</td>\n",
              "      <td>0.605965</td>\n",
              "    </tr>\n",
              "    <tr>\n",
              "      <th>D</th>\n",
              "      <td>0.188695</td>\n",
              "      <td>-0.758872</td>\n",
              "      <td>-0.933237</td>\n",
              "      <td>0.955057</td>\n",
              "    </tr>\n",
              "    <tr>\n",
              "      <th>E</th>\n",
              "      <td>0.190794</td>\n",
              "      <td>1.978757</td>\n",
              "      <td>2.605967</td>\n",
              "      <td>0.683509</td>\n",
              "    </tr>\n",
              "  </tbody>\n",
              "</table>\n",
              "</div>"
            ],
            "text/plain": [
              "          W         X         Y         Z\n",
              "A  2.706850  0.628133  0.907969  0.503826\n",
              "B  0.651118 -0.319318 -0.848077  0.605965\n",
              "D  0.188695 -0.758872 -0.933237  0.955057\n",
              "E  0.190794  1.978757  2.605967  0.683509"
            ]
          },
          "execution_count": 56,
          "metadata": {},
          "output_type": "execute_result"
        }
      ],
      "source": [
        "df[df['W']>0]"
      ]
    },
    {
      "cell_type": "code",
      "execution_count": null,
      "metadata": {
        "id": "qQwQcVLHgCjQ"
      },
      "outputs": [],
      "source": [
        "#More Index Details\n"
      ]
    },
    {
      "cell_type": "code",
      "execution_count": null,
      "metadata": {
        "id": "N0-xk8AvgCjQ",
        "outputId": "203524dd-1874-4635-cc8c-9b800e120385"
      },
      "outputs": [
        {
          "data": {
            "text/html": [
              "<div>\n",
              "<style scoped>\n",
              "    .dataframe tbody tr th:only-of-type {\n",
              "        vertical-align: middle;\n",
              "    }\n",
              "\n",
              "    .dataframe tbody tr th {\n",
              "        vertical-align: top;\n",
              "    }\n",
              "\n",
              "    .dataframe thead th {\n",
              "        text-align: right;\n",
              "    }\n",
              "</style>\n",
              "<table border=\"1\" class=\"dataframe\">\n",
              "  <thead>\n",
              "    <tr style=\"text-align: right;\">\n",
              "      <th></th>\n",
              "      <th>W</th>\n",
              "      <th>X</th>\n",
              "      <th>Y</th>\n",
              "      <th>Z</th>\n",
              "    </tr>\n",
              "  </thead>\n",
              "  <tbody>\n",
              "    <tr>\n",
              "      <th>A</th>\n",
              "      <td>2.706850</td>\n",
              "      <td>0.628133</td>\n",
              "      <td>0.907969</td>\n",
              "      <td>0.503826</td>\n",
              "    </tr>\n",
              "    <tr>\n",
              "      <th>B</th>\n",
              "      <td>0.651118</td>\n",
              "      <td>-0.319318</td>\n",
              "      <td>-0.848077</td>\n",
              "      <td>0.605965</td>\n",
              "    </tr>\n",
              "    <tr>\n",
              "      <th>C</th>\n",
              "      <td>-2.018168</td>\n",
              "      <td>0.740122</td>\n",
              "      <td>0.528813</td>\n",
              "      <td>-0.589001</td>\n",
              "    </tr>\n",
              "    <tr>\n",
              "      <th>D</th>\n",
              "      <td>0.188695</td>\n",
              "      <td>-0.758872</td>\n",
              "      <td>-0.933237</td>\n",
              "      <td>0.955057</td>\n",
              "    </tr>\n",
              "    <tr>\n",
              "      <th>E</th>\n",
              "      <td>0.190794</td>\n",
              "      <td>1.978757</td>\n",
              "      <td>2.605967</td>\n",
              "      <td>0.683509</td>\n",
              "    </tr>\n",
              "  </tbody>\n",
              "</table>\n",
              "</div>"
            ],
            "text/plain": [
              "          W         X         Y         Z\n",
              "A  2.706850  0.628133  0.907969  0.503826\n",
              "B  0.651118 -0.319318 -0.848077  0.605965\n",
              "C -2.018168  0.740122  0.528813 -0.589001\n",
              "D  0.188695 -0.758872 -0.933237  0.955057\n",
              "E  0.190794  1.978757  2.605967  0.683509"
            ]
          },
          "execution_count": 62,
          "metadata": {},
          "output_type": "execute_result"
        }
      ],
      "source": [
        "df"
      ]
    },
    {
      "cell_type": "code",
      "execution_count": null,
      "metadata": {
        "id": "vuAN8kmogCjQ",
        "outputId": "0112d7bc-f8a0-445f-9a31-440a3f645b17"
      },
      "outputs": [
        {
          "data": {
            "text/html": [
              "<div>\n",
              "<style scoped>\n",
              "    .dataframe tbody tr th:only-of-type {\n",
              "        vertical-align: middle;\n",
              "    }\n",
              "\n",
              "    .dataframe tbody tr th {\n",
              "        vertical-align: top;\n",
              "    }\n",
              "\n",
              "    .dataframe thead th {\n",
              "        text-align: right;\n",
              "    }\n",
              "</style>\n",
              "<table border=\"1\" class=\"dataframe\">\n",
              "  <thead>\n",
              "    <tr style=\"text-align: right;\">\n",
              "      <th></th>\n",
              "      <th>index</th>\n",
              "      <th>W</th>\n",
              "      <th>X</th>\n",
              "      <th>Y</th>\n",
              "      <th>Z</th>\n",
              "    </tr>\n",
              "  </thead>\n",
              "  <tbody>\n",
              "    <tr>\n",
              "      <th>0</th>\n",
              "      <td>A</td>\n",
              "      <td>2.706850</td>\n",
              "      <td>0.628133</td>\n",
              "      <td>0.907969</td>\n",
              "      <td>0.503826</td>\n",
              "    </tr>\n",
              "    <tr>\n",
              "      <th>1</th>\n",
              "      <td>B</td>\n",
              "      <td>0.651118</td>\n",
              "      <td>-0.319318</td>\n",
              "      <td>-0.848077</td>\n",
              "      <td>0.605965</td>\n",
              "    </tr>\n",
              "    <tr>\n",
              "      <th>2</th>\n",
              "      <td>C</td>\n",
              "      <td>-2.018168</td>\n",
              "      <td>0.740122</td>\n",
              "      <td>0.528813</td>\n",
              "      <td>-0.589001</td>\n",
              "    </tr>\n",
              "    <tr>\n",
              "      <th>3</th>\n",
              "      <td>D</td>\n",
              "      <td>0.188695</td>\n",
              "      <td>-0.758872</td>\n",
              "      <td>-0.933237</td>\n",
              "      <td>0.955057</td>\n",
              "    </tr>\n",
              "    <tr>\n",
              "      <th>4</th>\n",
              "      <td>E</td>\n",
              "      <td>0.190794</td>\n",
              "      <td>1.978757</td>\n",
              "      <td>2.605967</td>\n",
              "      <td>0.683509</td>\n",
              "    </tr>\n",
              "  </tbody>\n",
              "</table>\n",
              "</div>"
            ],
            "text/plain": [
              "  index         W         X         Y         Z\n",
              "0     A  2.706850  0.628133  0.907969  0.503826\n",
              "1     B  0.651118 -0.319318 -0.848077  0.605965\n",
              "2     C -2.018168  0.740122  0.528813 -0.589001\n",
              "3     D  0.188695 -0.758872 -0.933237  0.955057\n",
              "4     E  0.190794  1.978757  2.605967  0.683509"
            ]
          },
          "execution_count": 63,
          "metadata": {},
          "output_type": "execute_result"
        }
      ],
      "source": [
        "# Reset to default 0,1...n index\n",
        "df.reset_index()"
      ]
    },
    {
      "cell_type": "code",
      "execution_count": null,
      "metadata": {
        "id": "QU5ntF0wgCjQ"
      },
      "outputs": [],
      "source": [
        "newind = 'CA NY WY OR CO'.split()"
      ]
    },
    {
      "cell_type": "code",
      "execution_count": null,
      "metadata": {
        "id": "URArIFbHgCjQ"
      },
      "outputs": [],
      "source": [
        "df['States'] = newind"
      ]
    },
    {
      "cell_type": "code",
      "execution_count": null,
      "metadata": {
        "id": "UUz7bSDxgCjQ",
        "outputId": "3be49b71-a0d3-4141-ea06-93067e969e5d"
      },
      "outputs": [
        {
          "data": {
            "text/html": [
              "<div>\n",
              "<style scoped>\n",
              "    .dataframe tbody tr th:only-of-type {\n",
              "        vertical-align: middle;\n",
              "    }\n",
              "\n",
              "    .dataframe tbody tr th {\n",
              "        vertical-align: top;\n",
              "    }\n",
              "\n",
              "    .dataframe thead th {\n",
              "        text-align: right;\n",
              "    }\n",
              "</style>\n",
              "<table border=\"1\" class=\"dataframe\">\n",
              "  <thead>\n",
              "    <tr style=\"text-align: right;\">\n",
              "      <th></th>\n",
              "      <th>W</th>\n",
              "      <th>X</th>\n",
              "      <th>Y</th>\n",
              "      <th>Z</th>\n",
              "      <th>States</th>\n",
              "    </tr>\n",
              "  </thead>\n",
              "  <tbody>\n",
              "    <tr>\n",
              "      <th>A</th>\n",
              "      <td>2.706850</td>\n",
              "      <td>0.628133</td>\n",
              "      <td>0.907969</td>\n",
              "      <td>0.503826</td>\n",
              "      <td>CA</td>\n",
              "    </tr>\n",
              "    <tr>\n",
              "      <th>B</th>\n",
              "      <td>0.651118</td>\n",
              "      <td>-0.319318</td>\n",
              "      <td>-0.848077</td>\n",
              "      <td>0.605965</td>\n",
              "      <td>NY</td>\n",
              "    </tr>\n",
              "    <tr>\n",
              "      <th>C</th>\n",
              "      <td>-2.018168</td>\n",
              "      <td>0.740122</td>\n",
              "      <td>0.528813</td>\n",
              "      <td>-0.589001</td>\n",
              "      <td>WY</td>\n",
              "    </tr>\n",
              "    <tr>\n",
              "      <th>D</th>\n",
              "      <td>0.188695</td>\n",
              "      <td>-0.758872</td>\n",
              "      <td>-0.933237</td>\n",
              "      <td>0.955057</td>\n",
              "      <td>OR</td>\n",
              "    </tr>\n",
              "    <tr>\n",
              "      <th>E</th>\n",
              "      <td>0.190794</td>\n",
              "      <td>1.978757</td>\n",
              "      <td>2.605967</td>\n",
              "      <td>0.683509</td>\n",
              "      <td>CO</td>\n",
              "    </tr>\n",
              "  </tbody>\n",
              "</table>\n",
              "</div>"
            ],
            "text/plain": [
              "          W         X         Y         Z States\n",
              "A  2.706850  0.628133  0.907969  0.503826     CA\n",
              "B  0.651118 -0.319318 -0.848077  0.605965     NY\n",
              "C -2.018168  0.740122  0.528813 -0.589001     WY\n",
              "D  0.188695 -0.758872 -0.933237  0.955057     OR\n",
              "E  0.190794  1.978757  2.605967  0.683509     CO"
            ]
          },
          "execution_count": 66,
          "metadata": {},
          "output_type": "execute_result"
        }
      ],
      "source": [
        "df"
      ]
    },
    {
      "cell_type": "code",
      "execution_count": null,
      "metadata": {
        "id": "vlfjDR0DgCjQ",
        "outputId": "a08cd8ae-4b00-4dae-b2ca-ab5c71500e36"
      },
      "outputs": [
        {
          "data": {
            "text/html": [
              "<div>\n",
              "<style scoped>\n",
              "    .dataframe tbody tr th:only-of-type {\n",
              "        vertical-align: middle;\n",
              "    }\n",
              "\n",
              "    .dataframe tbody tr th {\n",
              "        vertical-align: top;\n",
              "    }\n",
              "\n",
              "    .dataframe thead th {\n",
              "        text-align: right;\n",
              "    }\n",
              "</style>\n",
              "<table border=\"1\" class=\"dataframe\">\n",
              "  <thead>\n",
              "    <tr style=\"text-align: right;\">\n",
              "      <th></th>\n",
              "      <th>W</th>\n",
              "      <th>X</th>\n",
              "      <th>Y</th>\n",
              "      <th>Z</th>\n",
              "    </tr>\n",
              "    <tr>\n",
              "      <th>States</th>\n",
              "      <th></th>\n",
              "      <th></th>\n",
              "      <th></th>\n",
              "      <th></th>\n",
              "    </tr>\n",
              "  </thead>\n",
              "  <tbody>\n",
              "    <tr>\n",
              "      <th>CA</th>\n",
              "      <td>2.706850</td>\n",
              "      <td>0.628133</td>\n",
              "      <td>0.907969</td>\n",
              "      <td>0.503826</td>\n",
              "    </tr>\n",
              "    <tr>\n",
              "      <th>NY</th>\n",
              "      <td>0.651118</td>\n",
              "      <td>-0.319318</td>\n",
              "      <td>-0.848077</td>\n",
              "      <td>0.605965</td>\n",
              "    </tr>\n",
              "    <tr>\n",
              "      <th>WY</th>\n",
              "      <td>-2.018168</td>\n",
              "      <td>0.740122</td>\n",
              "      <td>0.528813</td>\n",
              "      <td>-0.589001</td>\n",
              "    </tr>\n",
              "    <tr>\n",
              "      <th>OR</th>\n",
              "      <td>0.188695</td>\n",
              "      <td>-0.758872</td>\n",
              "      <td>-0.933237</td>\n",
              "      <td>0.955057</td>\n",
              "    </tr>\n",
              "    <tr>\n",
              "      <th>CO</th>\n",
              "      <td>0.190794</td>\n",
              "      <td>1.978757</td>\n",
              "      <td>2.605967</td>\n",
              "      <td>0.683509</td>\n",
              "    </tr>\n",
              "  </tbody>\n",
              "</table>\n",
              "</div>"
            ],
            "text/plain": [
              "               W         X         Y         Z\n",
              "States                                        \n",
              "CA      2.706850  0.628133  0.907969  0.503826\n",
              "NY      0.651118 -0.319318 -0.848077  0.605965\n",
              "WY     -2.018168  0.740122  0.528813 -0.589001\n",
              "OR      0.188695 -0.758872 -0.933237  0.955057\n",
              "CO      0.190794  1.978757  2.605967  0.683509"
            ]
          },
          "execution_count": 67,
          "metadata": {},
          "output_type": "execute_result"
        }
      ],
      "source": [
        "df.set_index('States')"
      ]
    },
    {
      "cell_type": "code",
      "execution_count": null,
      "metadata": {
        "id": "jtkTycPZgCjR",
        "outputId": "c4953483-a831-4115-de7a-2c52321b76d2"
      },
      "outputs": [
        {
          "data": {
            "text/html": [
              "<div>\n",
              "<style scoped>\n",
              "    .dataframe tbody tr th:only-of-type {\n",
              "        vertical-align: middle;\n",
              "    }\n",
              "\n",
              "    .dataframe tbody tr th {\n",
              "        vertical-align: top;\n",
              "    }\n",
              "\n",
              "    .dataframe thead th {\n",
              "        text-align: right;\n",
              "    }\n",
              "</style>\n",
              "<table border=\"1\" class=\"dataframe\">\n",
              "  <thead>\n",
              "    <tr style=\"text-align: right;\">\n",
              "      <th></th>\n",
              "      <th>W</th>\n",
              "      <th>X</th>\n",
              "      <th>Y</th>\n",
              "      <th>Z</th>\n",
              "      <th>States</th>\n",
              "    </tr>\n",
              "  </thead>\n",
              "  <tbody>\n",
              "    <tr>\n",
              "      <th>A</th>\n",
              "      <td>2.706850</td>\n",
              "      <td>0.628133</td>\n",
              "      <td>0.907969</td>\n",
              "      <td>0.503826</td>\n",
              "      <td>CA</td>\n",
              "    </tr>\n",
              "    <tr>\n",
              "      <th>B</th>\n",
              "      <td>0.651118</td>\n",
              "      <td>-0.319318</td>\n",
              "      <td>-0.848077</td>\n",
              "      <td>0.605965</td>\n",
              "      <td>NY</td>\n",
              "    </tr>\n",
              "    <tr>\n",
              "      <th>C</th>\n",
              "      <td>-2.018168</td>\n",
              "      <td>0.740122</td>\n",
              "      <td>0.528813</td>\n",
              "      <td>-0.589001</td>\n",
              "      <td>WY</td>\n",
              "    </tr>\n",
              "    <tr>\n",
              "      <th>D</th>\n",
              "      <td>0.188695</td>\n",
              "      <td>-0.758872</td>\n",
              "      <td>-0.933237</td>\n",
              "      <td>0.955057</td>\n",
              "      <td>OR</td>\n",
              "    </tr>\n",
              "    <tr>\n",
              "      <th>E</th>\n",
              "      <td>0.190794</td>\n",
              "      <td>1.978757</td>\n",
              "      <td>2.605967</td>\n",
              "      <td>0.683509</td>\n",
              "      <td>CO</td>\n",
              "    </tr>\n",
              "  </tbody>\n",
              "</table>\n",
              "</div>"
            ],
            "text/plain": [
              "          W         X         Y         Z States\n",
              "A  2.706850  0.628133  0.907969  0.503826     CA\n",
              "B  0.651118 -0.319318 -0.848077  0.605965     NY\n",
              "C -2.018168  0.740122  0.528813 -0.589001     WY\n",
              "D  0.188695 -0.758872 -0.933237  0.955057     OR\n",
              "E  0.190794  1.978757  2.605967  0.683509     CO"
            ]
          },
          "execution_count": 68,
          "metadata": {},
          "output_type": "execute_result"
        }
      ],
      "source": [
        "df"
      ]
    },
    {
      "cell_type": "code",
      "execution_count": null,
      "metadata": {
        "id": "y1U2xGAGgCjR"
      },
      "outputs": [],
      "source": [
        "df.set_index('States',inplace=True)"
      ]
    },
    {
      "cell_type": "code",
      "execution_count": null,
      "metadata": {
        "id": "h94njP3agCjR",
        "outputId": "f6018f8f-63b8-40f7-fe4e-67697cd75c4e"
      },
      "outputs": [
        {
          "data": {
            "text/html": [
              "<div>\n",
              "<style scoped>\n",
              "    .dataframe tbody tr th:only-of-type {\n",
              "        vertical-align: middle;\n",
              "    }\n",
              "\n",
              "    .dataframe tbody tr th {\n",
              "        vertical-align: top;\n",
              "    }\n",
              "\n",
              "    .dataframe thead th {\n",
              "        text-align: right;\n",
              "    }\n",
              "</style>\n",
              "<table border=\"1\" class=\"dataframe\">\n",
              "  <thead>\n",
              "    <tr style=\"text-align: right;\">\n",
              "      <th></th>\n",
              "      <th>W</th>\n",
              "      <th>X</th>\n",
              "      <th>Y</th>\n",
              "      <th>Z</th>\n",
              "    </tr>\n",
              "    <tr>\n",
              "      <th>States</th>\n",
              "      <th></th>\n",
              "      <th></th>\n",
              "      <th></th>\n",
              "      <th></th>\n",
              "    </tr>\n",
              "  </thead>\n",
              "  <tbody>\n",
              "    <tr>\n",
              "      <th>CA</th>\n",
              "      <td>2.706850</td>\n",
              "      <td>0.628133</td>\n",
              "      <td>0.907969</td>\n",
              "      <td>0.503826</td>\n",
              "    </tr>\n",
              "    <tr>\n",
              "      <th>NY</th>\n",
              "      <td>0.651118</td>\n",
              "      <td>-0.319318</td>\n",
              "      <td>-0.848077</td>\n",
              "      <td>0.605965</td>\n",
              "    </tr>\n",
              "    <tr>\n",
              "      <th>WY</th>\n",
              "      <td>-2.018168</td>\n",
              "      <td>0.740122</td>\n",
              "      <td>0.528813</td>\n",
              "      <td>-0.589001</td>\n",
              "    </tr>\n",
              "    <tr>\n",
              "      <th>OR</th>\n",
              "      <td>0.188695</td>\n",
              "      <td>-0.758872</td>\n",
              "      <td>-0.933237</td>\n",
              "      <td>0.955057</td>\n",
              "    </tr>\n",
              "    <tr>\n",
              "      <th>CO</th>\n",
              "      <td>0.190794</td>\n",
              "      <td>1.978757</td>\n",
              "      <td>2.605967</td>\n",
              "      <td>0.683509</td>\n",
              "    </tr>\n",
              "  </tbody>\n",
              "</table>\n",
              "</div>"
            ],
            "text/plain": [
              "               W         X         Y         Z\n",
              "States                                        \n",
              "CA      2.706850  0.628133  0.907969  0.503826\n",
              "NY      0.651118 -0.319318 -0.848077  0.605965\n",
              "WY     -2.018168  0.740122  0.528813 -0.589001\n",
              "OR      0.188695 -0.758872 -0.933237  0.955057\n",
              "CO      0.190794  1.978757  2.605967  0.683509"
            ]
          },
          "execution_count": 70,
          "metadata": {},
          "output_type": "execute_result"
        }
      ],
      "source": [
        "df"
      ]
    },
    {
      "cell_type": "code",
      "execution_count": null,
      "metadata": {
        "id": "T1368tkOgCjR"
      },
      "outputs": [],
      "source": [
        "# Missing Data\n",
        "\n",
        "#Let's show a few convenient methods to deal with Missing Data in pandas:"
      ]
    },
    {
      "cell_type": "code",
      "execution_count": null,
      "metadata": {
        "id": "Q9VZfqWCgCjR"
      },
      "outputs": [],
      "source": [
        "df = pd.DataFrame({'A':[1,2,np.nan],\n",
        "                  'B':[5,np.nan,np.nan],\n",
        "                  'C':[1,2,3]})"
      ]
    },
    {
      "cell_type": "code",
      "execution_count": null,
      "metadata": {
        "id": "_zFBAu8HgCjR",
        "outputId": "d18a9b24-c184-4ced-a54c-43cffc2d9618"
      },
      "outputs": [
        {
          "data": {
            "text/html": [
              "<div>\n",
              "<style scoped>\n",
              "    .dataframe tbody tr th:only-of-type {\n",
              "        vertical-align: middle;\n",
              "    }\n",
              "\n",
              "    .dataframe tbody tr th {\n",
              "        vertical-align: top;\n",
              "    }\n",
              "\n",
              "    .dataframe thead th {\n",
              "        text-align: right;\n",
              "    }\n",
              "</style>\n",
              "<table border=\"1\" class=\"dataframe\">\n",
              "  <thead>\n",
              "    <tr style=\"text-align: right;\">\n",
              "      <th></th>\n",
              "      <th>A</th>\n",
              "      <th>B</th>\n",
              "      <th>C</th>\n",
              "    </tr>\n",
              "  </thead>\n",
              "  <tbody>\n",
              "    <tr>\n",
              "      <th>0</th>\n",
              "      <td>1.0</td>\n",
              "      <td>5.0</td>\n",
              "      <td>1</td>\n",
              "    </tr>\n",
              "    <tr>\n",
              "      <th>1</th>\n",
              "      <td>2.0</td>\n",
              "      <td>NaN</td>\n",
              "      <td>2</td>\n",
              "    </tr>\n",
              "    <tr>\n",
              "      <th>2</th>\n",
              "      <td>NaN</td>\n",
              "      <td>NaN</td>\n",
              "      <td>3</td>\n",
              "    </tr>\n",
              "  </tbody>\n",
              "</table>\n",
              "</div>"
            ],
            "text/plain": [
              "     A    B  C\n",
              "0  1.0  5.0  1\n",
              "1  2.0  NaN  2\n",
              "2  NaN  NaN  3"
            ]
          },
          "execution_count": 76,
          "metadata": {},
          "output_type": "execute_result"
        }
      ],
      "source": [
        "df"
      ]
    },
    {
      "cell_type": "code",
      "execution_count": null,
      "metadata": {
        "id": "pzHLYU2WgCjR",
        "outputId": "e45d8a93-f1db-4e94-803d-2726a1792d5f"
      },
      "outputs": [
        {
          "data": {
            "text/html": [
              "<div>\n",
              "<style scoped>\n",
              "    .dataframe tbody tr th:only-of-type {\n",
              "        vertical-align: middle;\n",
              "    }\n",
              "\n",
              "    .dataframe tbody tr th {\n",
              "        vertical-align: top;\n",
              "    }\n",
              "\n",
              "    .dataframe thead th {\n",
              "        text-align: right;\n",
              "    }\n",
              "</style>\n",
              "<table border=\"1\" class=\"dataframe\">\n",
              "  <thead>\n",
              "    <tr style=\"text-align: right;\">\n",
              "      <th></th>\n",
              "      <th>A</th>\n",
              "      <th>B</th>\n",
              "      <th>C</th>\n",
              "    </tr>\n",
              "  </thead>\n",
              "  <tbody>\n",
              "    <tr>\n",
              "      <th>0</th>\n",
              "      <td>1.0</td>\n",
              "      <td>5.0</td>\n",
              "      <td>1</td>\n",
              "    </tr>\n",
              "  </tbody>\n",
              "</table>\n",
              "</div>"
            ],
            "text/plain": [
              "     A    B  C\n",
              "0  1.0  5.0  1"
            ]
          },
          "execution_count": 77,
          "metadata": {},
          "output_type": "execute_result"
        }
      ],
      "source": [
        "df.dropna()"
      ]
    },
    {
      "cell_type": "code",
      "execution_count": null,
      "metadata": {
        "id": "XtAr_TPZgCjR",
        "outputId": "41c09444-4bbd-4cfa-9e18-3055437545f6"
      },
      "outputs": [
        {
          "data": {
            "text/html": [
              "<div>\n",
              "<style scoped>\n",
              "    .dataframe tbody tr th:only-of-type {\n",
              "        vertical-align: middle;\n",
              "    }\n",
              "\n",
              "    .dataframe tbody tr th {\n",
              "        vertical-align: top;\n",
              "    }\n",
              "\n",
              "    .dataframe thead th {\n",
              "        text-align: right;\n",
              "    }\n",
              "</style>\n",
              "<table border=\"1\" class=\"dataframe\">\n",
              "  <thead>\n",
              "    <tr style=\"text-align: right;\">\n",
              "      <th></th>\n",
              "      <th>C</th>\n",
              "    </tr>\n",
              "  </thead>\n",
              "  <tbody>\n",
              "    <tr>\n",
              "      <th>0</th>\n",
              "      <td>1</td>\n",
              "    </tr>\n",
              "    <tr>\n",
              "      <th>1</th>\n",
              "      <td>2</td>\n",
              "    </tr>\n",
              "    <tr>\n",
              "      <th>2</th>\n",
              "      <td>3</td>\n",
              "    </tr>\n",
              "  </tbody>\n",
              "</table>\n",
              "</div>"
            ],
            "text/plain": [
              "   C\n",
              "0  1\n",
              "1  2\n",
              "2  3"
            ]
          },
          "execution_count": 78,
          "metadata": {},
          "output_type": "execute_result"
        }
      ],
      "source": [
        "df.dropna(axis=1)"
      ]
    },
    {
      "cell_type": "code",
      "execution_count": null,
      "metadata": {
        "id": "aEdzssWrgCjR",
        "outputId": "5993761e-3cd4-4b9b-eaf8-49f078f6bbad"
      },
      "outputs": [
        {
          "data": {
            "text/html": [
              "<div>\n",
              "<style scoped>\n",
              "    .dataframe tbody tr th:only-of-type {\n",
              "        vertical-align: middle;\n",
              "    }\n",
              "\n",
              "    .dataframe tbody tr th {\n",
              "        vertical-align: top;\n",
              "    }\n",
              "\n",
              "    .dataframe thead th {\n",
              "        text-align: right;\n",
              "    }\n",
              "</style>\n",
              "<table border=\"1\" class=\"dataframe\">\n",
              "  <thead>\n",
              "    <tr style=\"text-align: right;\">\n",
              "      <th></th>\n",
              "      <th>A</th>\n",
              "      <th>B</th>\n",
              "      <th>C</th>\n",
              "    </tr>\n",
              "  </thead>\n",
              "  <tbody>\n",
              "    <tr>\n",
              "      <th>0</th>\n",
              "      <td>1.0</td>\n",
              "      <td>5.0</td>\n",
              "      <td>1</td>\n",
              "    </tr>\n",
              "    <tr>\n",
              "      <th>1</th>\n",
              "      <td>2.0</td>\n",
              "      <td>NaN</td>\n",
              "      <td>2</td>\n",
              "    </tr>\n",
              "  </tbody>\n",
              "</table>\n",
              "</div>"
            ],
            "text/plain": [
              "     A    B  C\n",
              "0  1.0  5.0  1\n",
              "1  2.0  NaN  2"
            ]
          },
          "execution_count": 79,
          "metadata": {},
          "output_type": "execute_result"
        }
      ],
      "source": [
        "df.dropna(thresh=2)"
      ]
    },
    {
      "cell_type": "code",
      "execution_count": null,
      "metadata": {
        "id": "9ipfeJ7tgCjS",
        "outputId": "7bb958f8-bbcb-44ef-f847-e80aaf63f8dc"
      },
      "outputs": [
        {
          "data": {
            "text/html": [
              "<div>\n",
              "<style scoped>\n",
              "    .dataframe tbody tr th:only-of-type {\n",
              "        vertical-align: middle;\n",
              "    }\n",
              "\n",
              "    .dataframe tbody tr th {\n",
              "        vertical-align: top;\n",
              "    }\n",
              "\n",
              "    .dataframe thead th {\n",
              "        text-align: right;\n",
              "    }\n",
              "</style>\n",
              "<table border=\"1\" class=\"dataframe\">\n",
              "  <thead>\n",
              "    <tr style=\"text-align: right;\">\n",
              "      <th></th>\n",
              "      <th>A</th>\n",
              "      <th>B</th>\n",
              "      <th>C</th>\n",
              "    </tr>\n",
              "  </thead>\n",
              "  <tbody>\n",
              "    <tr>\n",
              "      <th>0</th>\n",
              "      <td>1.0</td>\n",
              "      <td>5.0</td>\n",
              "      <td>1</td>\n",
              "    </tr>\n",
              "    <tr>\n",
              "      <th>1</th>\n",
              "      <td>2.0</td>\n",
              "      <td>FILL VALUE</td>\n",
              "      <td>2</td>\n",
              "    </tr>\n",
              "    <tr>\n",
              "      <th>2</th>\n",
              "      <td>FILL VALUE</td>\n",
              "      <td>FILL VALUE</td>\n",
              "      <td>3</td>\n",
              "    </tr>\n",
              "  </tbody>\n",
              "</table>\n",
              "</div>"
            ],
            "text/plain": [
              "            A           B  C\n",
              "0         1.0         5.0  1\n",
              "1         2.0  FILL VALUE  2\n",
              "2  FILL VALUE  FILL VALUE  3"
            ]
          },
          "execution_count": 80,
          "metadata": {},
          "output_type": "execute_result"
        }
      ],
      "source": [
        "df.fillna(value='FILL VALUE')"
      ]
    },
    {
      "cell_type": "code",
      "execution_count": null,
      "metadata": {
        "id": "fHZpRpQDgCjS",
        "outputId": "0403912f-f251-40e9-aa35-77fa2eafb514"
      },
      "outputs": [
        {
          "data": {
            "text/plain": [
              "0    1.0\n",
              "1    2.0\n",
              "2    1.5\n",
              "Name: A, dtype: float64"
            ]
          },
          "execution_count": 81,
          "metadata": {},
          "output_type": "execute_result"
        }
      ],
      "source": [
        "df['A'].fillna(value=df['A'].mean())"
      ]
    },
    {
      "cell_type": "code",
      "execution_count": null,
      "metadata": {
        "id": "pqaTMcBGgCjS"
      },
      "outputs": [],
      "source": [
        "#Groupby\n",
        "#The groupby method allows you to group rows of data together and call aggregate functions"
      ]
    },
    {
      "cell_type": "code",
      "execution_count": null,
      "metadata": {
        "id": "UslhiYQSgCjS"
      },
      "outputs": [],
      "source": [
        "# Create dataframe\n",
        "data = {'Company':['GOOG','GOOG','MSFT','MSFT','FB','FB'],\n",
        "       'Person':['Sam','Charlie','Amy','Vanessa','Carl','Sarah'],\n",
        "       'Sales':[200,120,340,124,243,350]}"
      ]
    },
    {
      "cell_type": "code",
      "execution_count": null,
      "metadata": {
        "id": "eaLInmU3gCjS"
      },
      "outputs": [],
      "source": [
        "df = pd.DataFrame(data)"
      ]
    },
    {
      "cell_type": "code",
      "execution_count": null,
      "metadata": {
        "id": "SWgfdK--gCjS",
        "outputId": "bd50e719-63ba-49cc-f72a-118fa1a698b0"
      },
      "outputs": [
        {
          "data": {
            "text/html": [
              "<div>\n",
              "<style scoped>\n",
              "    .dataframe tbody tr th:only-of-type {\n",
              "        vertical-align: middle;\n",
              "    }\n",
              "\n",
              "    .dataframe tbody tr th {\n",
              "        vertical-align: top;\n",
              "    }\n",
              "\n",
              "    .dataframe thead th {\n",
              "        text-align: right;\n",
              "    }\n",
              "</style>\n",
              "<table border=\"1\" class=\"dataframe\">\n",
              "  <thead>\n",
              "    <tr style=\"text-align: right;\">\n",
              "      <th></th>\n",
              "      <th>Company</th>\n",
              "      <th>Person</th>\n",
              "      <th>Sales</th>\n",
              "    </tr>\n",
              "  </thead>\n",
              "  <tbody>\n",
              "    <tr>\n",
              "      <th>0</th>\n",
              "      <td>GOOG</td>\n",
              "      <td>Sam</td>\n",
              "      <td>200</td>\n",
              "    </tr>\n",
              "    <tr>\n",
              "      <th>1</th>\n",
              "      <td>GOOG</td>\n",
              "      <td>Charlie</td>\n",
              "      <td>120</td>\n",
              "    </tr>\n",
              "    <tr>\n",
              "      <th>2</th>\n",
              "      <td>MSFT</td>\n",
              "      <td>Amy</td>\n",
              "      <td>340</td>\n",
              "    </tr>\n",
              "    <tr>\n",
              "      <th>3</th>\n",
              "      <td>MSFT</td>\n",
              "      <td>Vanessa</td>\n",
              "      <td>124</td>\n",
              "    </tr>\n",
              "    <tr>\n",
              "      <th>4</th>\n",
              "      <td>FB</td>\n",
              "      <td>Carl</td>\n",
              "      <td>243</td>\n",
              "    </tr>\n",
              "    <tr>\n",
              "      <th>5</th>\n",
              "      <td>FB</td>\n",
              "      <td>Sarah</td>\n",
              "      <td>350</td>\n",
              "    </tr>\n",
              "  </tbody>\n",
              "</table>\n",
              "</div>"
            ],
            "text/plain": [
              "  Company   Person  Sales\n",
              "0    GOOG      Sam    200\n",
              "1    GOOG  Charlie    120\n",
              "2    MSFT      Amy    340\n",
              "3    MSFT  Vanessa    124\n",
              "4      FB     Carl    243\n",
              "5      FB    Sarah    350"
            ]
          },
          "execution_count": 85,
          "metadata": {},
          "output_type": "execute_result"
        }
      ],
      "source": [
        "df"
      ]
    },
    {
      "cell_type": "code",
      "execution_count": null,
      "metadata": {
        "id": "9B6rv0OSgCjS"
      },
      "outputs": [],
      "source": [
        "#Now you can use the .groupby() method to group rows together based off of a column name. For instance let's group based off of Company. This will create a DataFrameGroupBy object:**"
      ]
    },
    {
      "cell_type": "code",
      "execution_count": null,
      "metadata": {
        "id": "r2IVw8JRgCjS",
        "outputId": "8acebc7e-5092-4691-c26a-3cbed8d0957d"
      },
      "outputs": [
        {
          "data": {
            "text/plain": [
              "<pandas.core.groupby.generic.DataFrameGroupBy object at 0x0000024207F59DF0>"
            ]
          },
          "execution_count": 87,
          "metadata": {},
          "output_type": "execute_result"
        }
      ],
      "source": [
        "df.groupby('Company')"
      ]
    },
    {
      "cell_type": "code",
      "execution_count": null,
      "metadata": {
        "id": "yaYPIWcagCjS"
      },
      "outputs": [],
      "source": [
        "#You can save this object as a new variable:"
      ]
    },
    {
      "cell_type": "code",
      "execution_count": null,
      "metadata": {
        "id": "3Kjaig3KgCjT"
      },
      "outputs": [],
      "source": [
        "by_comp = df.groupby(\"Company\")"
      ]
    },
    {
      "cell_type": "code",
      "execution_count": null,
      "metadata": {
        "id": "Yx3PJgcjgCjT"
      },
      "outputs": [],
      "source": [
        "#And then call aggregate methods off the object:"
      ]
    },
    {
      "cell_type": "code",
      "execution_count": null,
      "metadata": {
        "id": "3wx66n2-gCjT",
        "outputId": "bb6eafd9-1f3f-49bd-a02f-1b9f75b3c06c"
      },
      "outputs": [
        {
          "data": {
            "text/html": [
              "<div>\n",
              "<style scoped>\n",
              "    .dataframe tbody tr th:only-of-type {\n",
              "        vertical-align: middle;\n",
              "    }\n",
              "\n",
              "    .dataframe tbody tr th {\n",
              "        vertical-align: top;\n",
              "    }\n",
              "\n",
              "    .dataframe thead th {\n",
              "        text-align: right;\n",
              "    }\n",
              "</style>\n",
              "<table border=\"1\" class=\"dataframe\">\n",
              "  <thead>\n",
              "    <tr style=\"text-align: right;\">\n",
              "      <th></th>\n",
              "      <th>Sales</th>\n",
              "    </tr>\n",
              "    <tr>\n",
              "      <th>Company</th>\n",
              "      <th></th>\n",
              "    </tr>\n",
              "  </thead>\n",
              "  <tbody>\n",
              "    <tr>\n",
              "      <th>FB</th>\n",
              "      <td>296.5</td>\n",
              "    </tr>\n",
              "    <tr>\n",
              "      <th>GOOG</th>\n",
              "      <td>160.0</td>\n",
              "    </tr>\n",
              "    <tr>\n",
              "      <th>MSFT</th>\n",
              "      <td>232.0</td>\n",
              "    </tr>\n",
              "  </tbody>\n",
              "</table>\n",
              "</div>"
            ],
            "text/plain": [
              "         Sales\n",
              "Company       \n",
              "FB       296.5\n",
              "GOOG     160.0\n",
              "MSFT     232.0"
            ]
          },
          "execution_count": 91,
          "metadata": {},
          "output_type": "execute_result"
        }
      ],
      "source": [
        "by_comp.mean()"
      ]
    },
    {
      "cell_type": "code",
      "execution_count": null,
      "metadata": {
        "id": "ZyOq8kiOgCjT",
        "outputId": "4bb85d61-d099-407e-894c-8e576a8a68e0"
      },
      "outputs": [
        {
          "data": {
            "text/html": [
              "<div>\n",
              "<style scoped>\n",
              "    .dataframe tbody tr th:only-of-type {\n",
              "        vertical-align: middle;\n",
              "    }\n",
              "\n",
              "    .dataframe tbody tr th {\n",
              "        vertical-align: top;\n",
              "    }\n",
              "\n",
              "    .dataframe thead th {\n",
              "        text-align: right;\n",
              "    }\n",
              "</style>\n",
              "<table border=\"1\" class=\"dataframe\">\n",
              "  <thead>\n",
              "    <tr style=\"text-align: right;\">\n",
              "      <th></th>\n",
              "      <th>Sales</th>\n",
              "    </tr>\n",
              "    <tr>\n",
              "      <th>Company</th>\n",
              "      <th></th>\n",
              "    </tr>\n",
              "  </thead>\n",
              "  <tbody>\n",
              "    <tr>\n",
              "      <th>FB</th>\n",
              "      <td>296.5</td>\n",
              "    </tr>\n",
              "    <tr>\n",
              "      <th>GOOG</th>\n",
              "      <td>160.0</td>\n",
              "    </tr>\n",
              "    <tr>\n",
              "      <th>MSFT</th>\n",
              "      <td>232.0</td>\n",
              "    </tr>\n",
              "  </tbody>\n",
              "</table>\n",
              "</div>"
            ],
            "text/plain": [
              "         Sales\n",
              "Company       \n",
              "FB       296.5\n",
              "GOOG     160.0\n",
              "MSFT     232.0"
            ]
          },
          "execution_count": 92,
          "metadata": {},
          "output_type": "execute_result"
        }
      ],
      "source": [
        "df.groupby('Company').mean()"
      ]
    },
    {
      "cell_type": "code",
      "execution_count": null,
      "metadata": {
        "id": "-QVBSqP1gCjT"
      },
      "outputs": [],
      "source": [
        "#More examples of aggregate methods:"
      ]
    },
    {
      "cell_type": "code",
      "execution_count": null,
      "metadata": {
        "id": "ZqIpLkiOgCjT",
        "outputId": "b0afb908-5955-41aa-fa21-f6f30381411d"
      },
      "outputs": [
        {
          "data": {
            "text/html": [
              "<div>\n",
              "<style scoped>\n",
              "    .dataframe tbody tr th:only-of-type {\n",
              "        vertical-align: middle;\n",
              "    }\n",
              "\n",
              "    .dataframe tbody tr th {\n",
              "        vertical-align: top;\n",
              "    }\n",
              "\n",
              "    .dataframe thead th {\n",
              "        text-align: right;\n",
              "    }\n",
              "</style>\n",
              "<table border=\"1\" class=\"dataframe\">\n",
              "  <thead>\n",
              "    <tr style=\"text-align: right;\">\n",
              "      <th></th>\n",
              "      <th>Sales</th>\n",
              "    </tr>\n",
              "    <tr>\n",
              "      <th>Company</th>\n",
              "      <th></th>\n",
              "    </tr>\n",
              "  </thead>\n",
              "  <tbody>\n",
              "    <tr>\n",
              "      <th>FB</th>\n",
              "      <td>75.660426</td>\n",
              "    </tr>\n",
              "    <tr>\n",
              "      <th>GOOG</th>\n",
              "      <td>56.568542</td>\n",
              "    </tr>\n",
              "    <tr>\n",
              "      <th>MSFT</th>\n",
              "      <td>152.735065</td>\n",
              "    </tr>\n",
              "  </tbody>\n",
              "</table>\n",
              "</div>"
            ],
            "text/plain": [
              "              Sales\n",
              "Company            \n",
              "FB        75.660426\n",
              "GOOG      56.568542\n",
              "MSFT     152.735065"
            ]
          },
          "execution_count": 94,
          "metadata": {},
          "output_type": "execute_result"
        }
      ],
      "source": [
        "by_comp.std()"
      ]
    },
    {
      "cell_type": "code",
      "execution_count": null,
      "metadata": {
        "id": "WRHFHOR-gCjT",
        "outputId": "f1184008-93dd-4421-c069-6c91718e4182"
      },
      "outputs": [
        {
          "data": {
            "text/html": [
              "<div>\n",
              "<style scoped>\n",
              "    .dataframe tbody tr th:only-of-type {\n",
              "        vertical-align: middle;\n",
              "    }\n",
              "\n",
              "    .dataframe tbody tr th {\n",
              "        vertical-align: top;\n",
              "    }\n",
              "\n",
              "    .dataframe thead th {\n",
              "        text-align: right;\n",
              "    }\n",
              "</style>\n",
              "<table border=\"1\" class=\"dataframe\">\n",
              "  <thead>\n",
              "    <tr style=\"text-align: right;\">\n",
              "      <th></th>\n",
              "      <th>Person</th>\n",
              "      <th>Sales</th>\n",
              "    </tr>\n",
              "    <tr>\n",
              "      <th>Company</th>\n",
              "      <th></th>\n",
              "      <th></th>\n",
              "    </tr>\n",
              "  </thead>\n",
              "  <tbody>\n",
              "    <tr>\n",
              "      <th>FB</th>\n",
              "      <td>Carl</td>\n",
              "      <td>243</td>\n",
              "    </tr>\n",
              "    <tr>\n",
              "      <th>GOOG</th>\n",
              "      <td>Charlie</td>\n",
              "      <td>120</td>\n",
              "    </tr>\n",
              "    <tr>\n",
              "      <th>MSFT</th>\n",
              "      <td>Amy</td>\n",
              "      <td>124</td>\n",
              "    </tr>\n",
              "  </tbody>\n",
              "</table>\n",
              "</div>"
            ],
            "text/plain": [
              "          Person  Sales\n",
              "Company                \n",
              "FB          Carl    243\n",
              "GOOG     Charlie    120\n",
              "MSFT         Amy    124"
            ]
          },
          "execution_count": 95,
          "metadata": {},
          "output_type": "execute_result"
        }
      ],
      "source": [
        "by_comp.min()"
      ]
    },
    {
      "cell_type": "code",
      "execution_count": null,
      "metadata": {
        "id": "zM7-RQNvgCjT",
        "outputId": "502442ca-572f-4c99-85ee-8e6715eab0ed"
      },
      "outputs": [
        {
          "data": {
            "text/html": [
              "<div>\n",
              "<style scoped>\n",
              "    .dataframe tbody tr th:only-of-type {\n",
              "        vertical-align: middle;\n",
              "    }\n",
              "\n",
              "    .dataframe tbody tr th {\n",
              "        vertical-align: top;\n",
              "    }\n",
              "\n",
              "    .dataframe thead th {\n",
              "        text-align: right;\n",
              "    }\n",
              "</style>\n",
              "<table border=\"1\" class=\"dataframe\">\n",
              "  <thead>\n",
              "    <tr style=\"text-align: right;\">\n",
              "      <th></th>\n",
              "      <th>Person</th>\n",
              "      <th>Sales</th>\n",
              "    </tr>\n",
              "    <tr>\n",
              "      <th>Company</th>\n",
              "      <th></th>\n",
              "      <th></th>\n",
              "    </tr>\n",
              "  </thead>\n",
              "  <tbody>\n",
              "    <tr>\n",
              "      <th>FB</th>\n",
              "      <td>Sarah</td>\n",
              "      <td>350</td>\n",
              "    </tr>\n",
              "    <tr>\n",
              "      <th>GOOG</th>\n",
              "      <td>Sam</td>\n",
              "      <td>200</td>\n",
              "    </tr>\n",
              "    <tr>\n",
              "      <th>MSFT</th>\n",
              "      <td>Vanessa</td>\n",
              "      <td>340</td>\n",
              "    </tr>\n",
              "  </tbody>\n",
              "</table>\n",
              "</div>"
            ],
            "text/plain": [
              "          Person  Sales\n",
              "Company                \n",
              "FB         Sarah    350\n",
              "GOOG         Sam    200\n",
              "MSFT     Vanessa    340"
            ]
          },
          "execution_count": 96,
          "metadata": {},
          "output_type": "execute_result"
        }
      ],
      "source": [
        "by_comp.max()"
      ]
    },
    {
      "cell_type": "code",
      "execution_count": null,
      "metadata": {
        "id": "8DpBH9RRgCjT",
        "outputId": "cb9e09a7-65c0-48c8-cbed-6d97ae0d3064"
      },
      "outputs": [
        {
          "data": {
            "text/html": [
              "<div>\n",
              "<style scoped>\n",
              "    .dataframe tbody tr th:only-of-type {\n",
              "        vertical-align: middle;\n",
              "    }\n",
              "\n",
              "    .dataframe tbody tr th {\n",
              "        vertical-align: top;\n",
              "    }\n",
              "\n",
              "    .dataframe thead th {\n",
              "        text-align: right;\n",
              "    }\n",
              "</style>\n",
              "<table border=\"1\" class=\"dataframe\">\n",
              "  <thead>\n",
              "    <tr style=\"text-align: right;\">\n",
              "      <th></th>\n",
              "      <th>Person</th>\n",
              "      <th>Sales</th>\n",
              "    </tr>\n",
              "    <tr>\n",
              "      <th>Company</th>\n",
              "      <th></th>\n",
              "      <th></th>\n",
              "    </tr>\n",
              "  </thead>\n",
              "  <tbody>\n",
              "    <tr>\n",
              "      <th>FB</th>\n",
              "      <td>2</td>\n",
              "      <td>2</td>\n",
              "    </tr>\n",
              "    <tr>\n",
              "      <th>GOOG</th>\n",
              "      <td>2</td>\n",
              "      <td>2</td>\n",
              "    </tr>\n",
              "    <tr>\n",
              "      <th>MSFT</th>\n",
              "      <td>2</td>\n",
              "      <td>2</td>\n",
              "    </tr>\n",
              "  </tbody>\n",
              "</table>\n",
              "</div>"
            ],
            "text/plain": [
              "         Person  Sales\n",
              "Company               \n",
              "FB            2      2\n",
              "GOOG          2      2\n",
              "MSFT          2      2"
            ]
          },
          "execution_count": 97,
          "metadata": {},
          "output_type": "execute_result"
        }
      ],
      "source": [
        "by_comp.count()"
      ]
    },
    {
      "cell_type": "code",
      "execution_count": null,
      "metadata": {
        "id": "b4z_4jlrgCjT",
        "outputId": "b90f8c85-6da1-46f2-d00e-aff7c8d393ba"
      },
      "outputs": [
        {
          "data": {
            "text/html": [
              "<div>\n",
              "<style scoped>\n",
              "    .dataframe tbody tr th:only-of-type {\n",
              "        vertical-align: middle;\n",
              "    }\n",
              "\n",
              "    .dataframe tbody tr th {\n",
              "        vertical-align: top;\n",
              "    }\n",
              "\n",
              "    .dataframe thead tr th {\n",
              "        text-align: left;\n",
              "    }\n",
              "\n",
              "    .dataframe thead tr:last-of-type th {\n",
              "        text-align: right;\n",
              "    }\n",
              "</style>\n",
              "<table border=\"1\" class=\"dataframe\">\n",
              "  <thead>\n",
              "    <tr>\n",
              "      <th></th>\n",
              "      <th colspan=\"8\" halign=\"left\">Sales</th>\n",
              "    </tr>\n",
              "    <tr>\n",
              "      <th></th>\n",
              "      <th>count</th>\n",
              "      <th>mean</th>\n",
              "      <th>std</th>\n",
              "      <th>min</th>\n",
              "      <th>25%</th>\n",
              "      <th>50%</th>\n",
              "      <th>75%</th>\n",
              "      <th>max</th>\n",
              "    </tr>\n",
              "    <tr>\n",
              "      <th>Company</th>\n",
              "      <th></th>\n",
              "      <th></th>\n",
              "      <th></th>\n",
              "      <th></th>\n",
              "      <th></th>\n",
              "      <th></th>\n",
              "      <th></th>\n",
              "      <th></th>\n",
              "    </tr>\n",
              "  </thead>\n",
              "  <tbody>\n",
              "    <tr>\n",
              "      <th>FB</th>\n",
              "      <td>2.0</td>\n",
              "      <td>296.5</td>\n",
              "      <td>75.660426</td>\n",
              "      <td>243.0</td>\n",
              "      <td>269.75</td>\n",
              "      <td>296.5</td>\n",
              "      <td>323.25</td>\n",
              "      <td>350.0</td>\n",
              "    </tr>\n",
              "    <tr>\n",
              "      <th>GOOG</th>\n",
              "      <td>2.0</td>\n",
              "      <td>160.0</td>\n",
              "      <td>56.568542</td>\n",
              "      <td>120.0</td>\n",
              "      <td>140.00</td>\n",
              "      <td>160.0</td>\n",
              "      <td>180.00</td>\n",
              "      <td>200.0</td>\n",
              "    </tr>\n",
              "    <tr>\n",
              "      <th>MSFT</th>\n",
              "      <td>2.0</td>\n",
              "      <td>232.0</td>\n",
              "      <td>152.735065</td>\n",
              "      <td>124.0</td>\n",
              "      <td>178.00</td>\n",
              "      <td>232.0</td>\n",
              "      <td>286.00</td>\n",
              "      <td>340.0</td>\n",
              "    </tr>\n",
              "  </tbody>\n",
              "</table>\n",
              "</div>"
            ],
            "text/plain": [
              "        Sales                                                        \n",
              "        count   mean         std    min     25%    50%     75%    max\n",
              "Company                                                              \n",
              "FB        2.0  296.5   75.660426  243.0  269.75  296.5  323.25  350.0\n",
              "GOOG      2.0  160.0   56.568542  120.0  140.00  160.0  180.00  200.0\n",
              "MSFT      2.0  232.0  152.735065  124.0  178.00  232.0  286.00  340.0"
            ]
          },
          "execution_count": 98,
          "metadata": {},
          "output_type": "execute_result"
        }
      ],
      "source": [
        "by_comp.describe()"
      ]
    },
    {
      "cell_type": "code",
      "execution_count": null,
      "metadata": {
        "id": "6TtCv0J8gCjU",
        "outputId": "bb9c20c5-24a0-4782-ce48-273576535d1f"
      },
      "outputs": [
        {
          "data": {
            "text/html": [
              "<div>\n",
              "<style scoped>\n",
              "    .dataframe tbody tr th:only-of-type {\n",
              "        vertical-align: middle;\n",
              "    }\n",
              "\n",
              "    .dataframe tbody tr th {\n",
              "        vertical-align: top;\n",
              "    }\n",
              "\n",
              "    .dataframe thead th {\n",
              "        text-align: right;\n",
              "    }\n",
              "</style>\n",
              "<table border=\"1\" class=\"dataframe\">\n",
              "  <thead>\n",
              "    <tr style=\"text-align: right;\">\n",
              "      <th></th>\n",
              "      <th>Company</th>\n",
              "      <th>FB</th>\n",
              "      <th>GOOG</th>\n",
              "      <th>MSFT</th>\n",
              "    </tr>\n",
              "  </thead>\n",
              "  <tbody>\n",
              "    <tr>\n",
              "      <th rowspan=\"8\" valign=\"top\">Sales</th>\n",
              "      <th>count</th>\n",
              "      <td>2.000000</td>\n",
              "      <td>2.000000</td>\n",
              "      <td>2.000000</td>\n",
              "    </tr>\n",
              "    <tr>\n",
              "      <th>mean</th>\n",
              "      <td>296.500000</td>\n",
              "      <td>160.000000</td>\n",
              "      <td>232.000000</td>\n",
              "    </tr>\n",
              "    <tr>\n",
              "      <th>std</th>\n",
              "      <td>75.660426</td>\n",
              "      <td>56.568542</td>\n",
              "      <td>152.735065</td>\n",
              "    </tr>\n",
              "    <tr>\n",
              "      <th>min</th>\n",
              "      <td>243.000000</td>\n",
              "      <td>120.000000</td>\n",
              "      <td>124.000000</td>\n",
              "    </tr>\n",
              "    <tr>\n",
              "      <th>25%</th>\n",
              "      <td>269.750000</td>\n",
              "      <td>140.000000</td>\n",
              "      <td>178.000000</td>\n",
              "    </tr>\n",
              "    <tr>\n",
              "      <th>50%</th>\n",
              "      <td>296.500000</td>\n",
              "      <td>160.000000</td>\n",
              "      <td>232.000000</td>\n",
              "    </tr>\n",
              "    <tr>\n",
              "      <th>75%</th>\n",
              "      <td>323.250000</td>\n",
              "      <td>180.000000</td>\n",
              "      <td>286.000000</td>\n",
              "    </tr>\n",
              "    <tr>\n",
              "      <th>max</th>\n",
              "      <td>350.000000</td>\n",
              "      <td>200.000000</td>\n",
              "      <td>340.000000</td>\n",
              "    </tr>\n",
              "  </tbody>\n",
              "</table>\n",
              "</div>"
            ],
            "text/plain": [
              "Company              FB        GOOG        MSFT\n",
              "Sales count    2.000000    2.000000    2.000000\n",
              "      mean   296.500000  160.000000  232.000000\n",
              "      std     75.660426   56.568542  152.735065\n",
              "      min    243.000000  120.000000  124.000000\n",
              "      25%    269.750000  140.000000  178.000000\n",
              "      50%    296.500000  160.000000  232.000000\n",
              "      75%    323.250000  180.000000  286.000000\n",
              "      max    350.000000  200.000000  340.000000"
            ]
          },
          "execution_count": 99,
          "metadata": {},
          "output_type": "execute_result"
        }
      ],
      "source": [
        "by_comp.describe().transpose()"
      ]
    },
    {
      "cell_type": "code",
      "execution_count": null,
      "metadata": {
        "id": "mkmvaLHmgCjU",
        "outputId": "95a14d50-5e53-44e1-a548-1c3cb120f5ed"
      },
      "outputs": [
        {
          "data": {
            "text/plain": [
              "Sales  count      2.000000\n",
              "       mean     160.000000\n",
              "       std       56.568542\n",
              "       min      120.000000\n",
              "       25%      140.000000\n",
              "       50%      160.000000\n",
              "       75%      180.000000\n",
              "       max      200.000000\n",
              "Name: GOOG, dtype: float64"
            ]
          },
          "execution_count": 100,
          "metadata": {},
          "output_type": "execute_result"
        }
      ],
      "source": [
        "by_comp.describe().transpose()['GOOG']"
      ]
    },
    {
      "cell_type": "code",
      "execution_count": null,
      "metadata": {
        "id": "JEVEIQdJgCjU"
      },
      "outputs": [],
      "source": [
        "#Merging, Joining, and Concatenating\n",
        "#There are 3 main ways of combining DataFrames together: Merging, Joining and Concatenating. "
      ]
    },
    {
      "cell_type": "code",
      "execution_count": null,
      "metadata": {
        "id": "0Dsj5aZ7gCjU"
      },
      "outputs": [],
      "source": [
        "df1 = pd.DataFrame({'A': ['A0', 'A1', 'A2', 'A3'],\n",
        "                        'B': ['B0', 'B1', 'B2', 'B3'],\n",
        "                        'C': ['C0', 'C1', 'C2', 'C3'],\n",
        "                        'D': ['D0', 'D1', 'D2', 'D3']},\n",
        "                        index=[0, 1, 2, 3])"
      ]
    },
    {
      "cell_type": "code",
      "execution_count": null,
      "metadata": {
        "id": "IJM8Wt7hgCjU"
      },
      "outputs": [],
      "source": [
        "df2 = pd.DataFrame({'A': ['A4', 'A5', 'A6', 'A7'],\n",
        "                        'B': ['B4', 'B5', 'B6', 'B7'],\n",
        "                        'C': ['C4', 'C5', 'C6', 'C7'],\n",
        "                        'D': ['D4', 'D5', 'D6', 'D7']},\n",
        "                         index=[4, 5, 6, 7]) "
      ]
    },
    {
      "cell_type": "code",
      "execution_count": null,
      "metadata": {
        "id": "8eTe5oKrgCjU"
      },
      "outputs": [],
      "source": [
        "df3 = pd.DataFrame({'A': ['A8', 'A9', 'A10', 'A11'],\n",
        "                        'B': ['B8', 'B9', 'B10', 'B11'],\n",
        "                        'C': ['C8', 'C9', 'C10', 'C11'],\n",
        "                        'D': ['D8', 'D9', 'D10', 'D11']},\n",
        "                        index=[8, 9, 10, 11])"
      ]
    },
    {
      "cell_type": "code",
      "execution_count": null,
      "metadata": {
        "id": "Q-Dhw8mZgCjU",
        "outputId": "bd42d46c-a5a3-429a-871a-9b5c8a5921fe"
      },
      "outputs": [
        {
          "data": {
            "text/html": [
              "<div>\n",
              "<style scoped>\n",
              "    .dataframe tbody tr th:only-of-type {\n",
              "        vertical-align: middle;\n",
              "    }\n",
              "\n",
              "    .dataframe tbody tr th {\n",
              "        vertical-align: top;\n",
              "    }\n",
              "\n",
              "    .dataframe thead th {\n",
              "        text-align: right;\n",
              "    }\n",
              "</style>\n",
              "<table border=\"1\" class=\"dataframe\">\n",
              "  <thead>\n",
              "    <tr style=\"text-align: right;\">\n",
              "      <th></th>\n",
              "      <th>A</th>\n",
              "      <th>B</th>\n",
              "      <th>C</th>\n",
              "      <th>D</th>\n",
              "    </tr>\n",
              "  </thead>\n",
              "  <tbody>\n",
              "    <tr>\n",
              "      <th>0</th>\n",
              "      <td>A0</td>\n",
              "      <td>B0</td>\n",
              "      <td>C0</td>\n",
              "      <td>D0</td>\n",
              "    </tr>\n",
              "    <tr>\n",
              "      <th>1</th>\n",
              "      <td>A1</td>\n",
              "      <td>B1</td>\n",
              "      <td>C1</td>\n",
              "      <td>D1</td>\n",
              "    </tr>\n",
              "    <tr>\n",
              "      <th>2</th>\n",
              "      <td>A2</td>\n",
              "      <td>B2</td>\n",
              "      <td>C2</td>\n",
              "      <td>D2</td>\n",
              "    </tr>\n",
              "    <tr>\n",
              "      <th>3</th>\n",
              "      <td>A3</td>\n",
              "      <td>B3</td>\n",
              "      <td>C3</td>\n",
              "      <td>D3</td>\n",
              "    </tr>\n",
              "  </tbody>\n",
              "</table>\n",
              "</div>"
            ],
            "text/plain": [
              "    A   B   C   D\n",
              "0  A0  B0  C0  D0\n",
              "1  A1  B1  C1  D1\n",
              "2  A2  B2  C2  D2\n",
              "3  A3  B3  C3  D3"
            ]
          },
          "execution_count": 105,
          "metadata": {},
          "output_type": "execute_result"
        }
      ],
      "source": [
        "df1"
      ]
    },
    {
      "cell_type": "code",
      "execution_count": null,
      "metadata": {
        "id": "Z4R-mFdUgCjU",
        "outputId": "38f2bfd9-3b76-4295-a685-471d1862cf56"
      },
      "outputs": [
        {
          "data": {
            "text/html": [
              "<div>\n",
              "<style scoped>\n",
              "    .dataframe tbody tr th:only-of-type {\n",
              "        vertical-align: middle;\n",
              "    }\n",
              "\n",
              "    .dataframe tbody tr th {\n",
              "        vertical-align: top;\n",
              "    }\n",
              "\n",
              "    .dataframe thead th {\n",
              "        text-align: right;\n",
              "    }\n",
              "</style>\n",
              "<table border=\"1\" class=\"dataframe\">\n",
              "  <thead>\n",
              "    <tr style=\"text-align: right;\">\n",
              "      <th></th>\n",
              "      <th>A</th>\n",
              "      <th>B</th>\n",
              "      <th>C</th>\n",
              "      <th>D</th>\n",
              "    </tr>\n",
              "  </thead>\n",
              "  <tbody>\n",
              "    <tr>\n",
              "      <th>4</th>\n",
              "      <td>A4</td>\n",
              "      <td>B4</td>\n",
              "      <td>C4</td>\n",
              "      <td>D4</td>\n",
              "    </tr>\n",
              "    <tr>\n",
              "      <th>5</th>\n",
              "      <td>A5</td>\n",
              "      <td>B5</td>\n",
              "      <td>C5</td>\n",
              "      <td>D5</td>\n",
              "    </tr>\n",
              "    <tr>\n",
              "      <th>6</th>\n",
              "      <td>A6</td>\n",
              "      <td>B6</td>\n",
              "      <td>C6</td>\n",
              "      <td>D6</td>\n",
              "    </tr>\n",
              "    <tr>\n",
              "      <th>7</th>\n",
              "      <td>A7</td>\n",
              "      <td>B7</td>\n",
              "      <td>C7</td>\n",
              "      <td>D7</td>\n",
              "    </tr>\n",
              "  </tbody>\n",
              "</table>\n",
              "</div>"
            ],
            "text/plain": [
              "    A   B   C   D\n",
              "4  A4  B4  C4  D4\n",
              "5  A5  B5  C5  D5\n",
              "6  A6  B6  C6  D6\n",
              "7  A7  B7  C7  D7"
            ]
          },
          "execution_count": 106,
          "metadata": {},
          "output_type": "execute_result"
        }
      ],
      "source": [
        "df2"
      ]
    },
    {
      "cell_type": "markdown",
      "metadata": {
        "id": "ujAKNZjMgCjU"
      },
      "source": [
        "df2"
      ]
    },
    {
      "cell_type": "code",
      "execution_count": null,
      "metadata": {
        "id": "4KkAVfR1gCjV",
        "outputId": "7e48e563-aa31-4b87-90c8-02398c7ae1d6"
      },
      "outputs": [
        {
          "data": {
            "text/html": [
              "<div>\n",
              "<style scoped>\n",
              "    .dataframe tbody tr th:only-of-type {\n",
              "        vertical-align: middle;\n",
              "    }\n",
              "\n",
              "    .dataframe tbody tr th {\n",
              "        vertical-align: top;\n",
              "    }\n",
              "\n",
              "    .dataframe thead th {\n",
              "        text-align: right;\n",
              "    }\n",
              "</style>\n",
              "<table border=\"1\" class=\"dataframe\">\n",
              "  <thead>\n",
              "    <tr style=\"text-align: right;\">\n",
              "      <th></th>\n",
              "      <th>A</th>\n",
              "      <th>B</th>\n",
              "      <th>C</th>\n",
              "      <th>D</th>\n",
              "    </tr>\n",
              "  </thead>\n",
              "  <tbody>\n",
              "    <tr>\n",
              "      <th>8</th>\n",
              "      <td>A8</td>\n",
              "      <td>B8</td>\n",
              "      <td>C8</td>\n",
              "      <td>D8</td>\n",
              "    </tr>\n",
              "    <tr>\n",
              "      <th>9</th>\n",
              "      <td>A9</td>\n",
              "      <td>B9</td>\n",
              "      <td>C9</td>\n",
              "      <td>D9</td>\n",
              "    </tr>\n",
              "    <tr>\n",
              "      <th>10</th>\n",
              "      <td>A10</td>\n",
              "      <td>B10</td>\n",
              "      <td>C10</td>\n",
              "      <td>D10</td>\n",
              "    </tr>\n",
              "    <tr>\n",
              "      <th>11</th>\n",
              "      <td>A11</td>\n",
              "      <td>B11</td>\n",
              "      <td>C11</td>\n",
              "      <td>D11</td>\n",
              "    </tr>\n",
              "  </tbody>\n",
              "</table>\n",
              "</div>"
            ],
            "text/plain": [
              "      A    B    C    D\n",
              "8    A8   B8   C8   D8\n",
              "9    A9   B9   C9   D9\n",
              "10  A10  B10  C10  D10\n",
              "11  A11  B11  C11  D11"
            ]
          },
          "execution_count": 107,
          "metadata": {},
          "output_type": "execute_result"
        }
      ],
      "source": [
        "df3"
      ]
    },
    {
      "cell_type": "markdown",
      "metadata": {
        "id": "qp_HTMzKgCjV"
      },
      "source": [
        "df3"
      ]
    },
    {
      "cell_type": "code",
      "execution_count": null,
      "metadata": {
        "id": "bXYVEfuagCjV"
      },
      "outputs": [],
      "source": [
        "#Concatenation\n",
        "#Concatenation basically glues together DataFrames. Keep in mind that dimensions should match along the axis you are concatenating on. "
      ]
    },
    {
      "cell_type": "code",
      "execution_count": null,
      "metadata": {
        "id": "NyL8WBHhgCjV",
        "outputId": "f57fef16-d088-4414-81eb-592f31dc7403"
      },
      "outputs": [
        {
          "data": {
            "text/html": [
              "<div>\n",
              "<style scoped>\n",
              "    .dataframe tbody tr th:only-of-type {\n",
              "        vertical-align: middle;\n",
              "    }\n",
              "\n",
              "    .dataframe tbody tr th {\n",
              "        vertical-align: top;\n",
              "    }\n",
              "\n",
              "    .dataframe thead th {\n",
              "        text-align: right;\n",
              "    }\n",
              "</style>\n",
              "<table border=\"1\" class=\"dataframe\">\n",
              "  <thead>\n",
              "    <tr style=\"text-align: right;\">\n",
              "      <th></th>\n",
              "      <th>A</th>\n",
              "      <th>B</th>\n",
              "      <th>C</th>\n",
              "      <th>D</th>\n",
              "    </tr>\n",
              "  </thead>\n",
              "  <tbody>\n",
              "    <tr>\n",
              "      <th>0</th>\n",
              "      <td>A0</td>\n",
              "      <td>B0</td>\n",
              "      <td>C0</td>\n",
              "      <td>D0</td>\n",
              "    </tr>\n",
              "    <tr>\n",
              "      <th>1</th>\n",
              "      <td>A1</td>\n",
              "      <td>B1</td>\n",
              "      <td>C1</td>\n",
              "      <td>D1</td>\n",
              "    </tr>\n",
              "    <tr>\n",
              "      <th>2</th>\n",
              "      <td>A2</td>\n",
              "      <td>B2</td>\n",
              "      <td>C2</td>\n",
              "      <td>D2</td>\n",
              "    </tr>\n",
              "    <tr>\n",
              "      <th>3</th>\n",
              "      <td>A3</td>\n",
              "      <td>B3</td>\n",
              "      <td>C3</td>\n",
              "      <td>D3</td>\n",
              "    </tr>\n",
              "    <tr>\n",
              "      <th>4</th>\n",
              "      <td>A4</td>\n",
              "      <td>B4</td>\n",
              "      <td>C4</td>\n",
              "      <td>D4</td>\n",
              "    </tr>\n",
              "    <tr>\n",
              "      <th>5</th>\n",
              "      <td>A5</td>\n",
              "      <td>B5</td>\n",
              "      <td>C5</td>\n",
              "      <td>D5</td>\n",
              "    </tr>\n",
              "    <tr>\n",
              "      <th>6</th>\n",
              "      <td>A6</td>\n",
              "      <td>B6</td>\n",
              "      <td>C6</td>\n",
              "      <td>D6</td>\n",
              "    </tr>\n",
              "    <tr>\n",
              "      <th>7</th>\n",
              "      <td>A7</td>\n",
              "      <td>B7</td>\n",
              "      <td>C7</td>\n",
              "      <td>D7</td>\n",
              "    </tr>\n",
              "    <tr>\n",
              "      <th>8</th>\n",
              "      <td>A8</td>\n",
              "      <td>B8</td>\n",
              "      <td>C8</td>\n",
              "      <td>D8</td>\n",
              "    </tr>\n",
              "    <tr>\n",
              "      <th>9</th>\n",
              "      <td>A9</td>\n",
              "      <td>B9</td>\n",
              "      <td>C9</td>\n",
              "      <td>D9</td>\n",
              "    </tr>\n",
              "    <tr>\n",
              "      <th>10</th>\n",
              "      <td>A10</td>\n",
              "      <td>B10</td>\n",
              "      <td>C10</td>\n",
              "      <td>D10</td>\n",
              "    </tr>\n",
              "    <tr>\n",
              "      <th>11</th>\n",
              "      <td>A11</td>\n",
              "      <td>B11</td>\n",
              "      <td>C11</td>\n",
              "      <td>D11</td>\n",
              "    </tr>\n",
              "  </tbody>\n",
              "</table>\n",
              "</div>"
            ],
            "text/plain": [
              "      A    B    C    D\n",
              "0    A0   B0   C0   D0\n",
              "1    A1   B1   C1   D1\n",
              "2    A2   B2   C2   D2\n",
              "3    A3   B3   C3   D3\n",
              "4    A4   B4   C4   D4\n",
              "5    A5   B5   C5   D5\n",
              "6    A6   B6   C6   D6\n",
              "7    A7   B7   C7   D7\n",
              "8    A8   B8   C8   D8\n",
              "9    A9   B9   C9   D9\n",
              "10  A10  B10  C10  D10\n",
              "11  A11  B11  C11  D11"
            ]
          },
          "execution_count": 109,
          "metadata": {},
          "output_type": "execute_result"
        }
      ],
      "source": [
        "pd.concat([df1,df2,df3])"
      ]
    },
    {
      "cell_type": "code",
      "execution_count": null,
      "metadata": {
        "id": "-dfUGL8lgCjW"
      },
      "outputs": [],
      "source": [
        "#Merging\n"
      ]
    },
    {
      "cell_type": "code",
      "execution_count": null,
      "metadata": {
        "id": "WWqtlXNJgCjW"
      },
      "outputs": [],
      "source": [
        "left = pd.DataFrame({'key1': ['K0', 'K0', 'K1', 'K2'],\n",
        "                     'key2': ['K0', 'K1', 'K0', 'K1'],\n",
        "                        'A': ['A0', 'A1', 'A2', 'A3'],\n",
        "                        'B': ['B0', 'B1', 'B2', 'B3']})\n",
        "    \n",
        "right = pd.DataFrame({'key1': ['K0', 'K1', 'K1', 'K2'],\n",
        "                               'key2': ['K0', 'K0', 'K0', 'K0'],\n",
        "                                  'C': ['C0', 'C1', 'C2', 'C3'],\n",
        "                                  'D': ['D0', 'D1', 'D2', 'D3']})"
      ]
    },
    {
      "cell_type": "code",
      "execution_count": null,
      "metadata": {
        "id": "zyOIdLAQgCjW",
        "outputId": "aa8d7084-b647-4d14-8a5f-9f616d76d78c"
      },
      "outputs": [
        {
          "data": {
            "text/html": [
              "<div>\n",
              "<style scoped>\n",
              "    .dataframe tbody tr th:only-of-type {\n",
              "        vertical-align: middle;\n",
              "    }\n",
              "\n",
              "    .dataframe tbody tr th {\n",
              "        vertical-align: top;\n",
              "    }\n",
              "\n",
              "    .dataframe thead th {\n",
              "        text-align: right;\n",
              "    }\n",
              "</style>\n",
              "<table border=\"1\" class=\"dataframe\">\n",
              "  <thead>\n",
              "    <tr style=\"text-align: right;\">\n",
              "      <th></th>\n",
              "      <th>key1</th>\n",
              "      <th>key2</th>\n",
              "      <th>A</th>\n",
              "      <th>B</th>\n",
              "      <th>C</th>\n",
              "      <th>D</th>\n",
              "    </tr>\n",
              "  </thead>\n",
              "  <tbody>\n",
              "    <tr>\n",
              "      <th>0</th>\n",
              "      <td>K0</td>\n",
              "      <td>K0</td>\n",
              "      <td>A0</td>\n",
              "      <td>B0</td>\n",
              "      <td>C0</td>\n",
              "      <td>D0</td>\n",
              "    </tr>\n",
              "    <tr>\n",
              "      <th>1</th>\n",
              "      <td>K1</td>\n",
              "      <td>K0</td>\n",
              "      <td>A2</td>\n",
              "      <td>B2</td>\n",
              "      <td>C1</td>\n",
              "      <td>D1</td>\n",
              "    </tr>\n",
              "    <tr>\n",
              "      <th>2</th>\n",
              "      <td>K1</td>\n",
              "      <td>K0</td>\n",
              "      <td>A2</td>\n",
              "      <td>B2</td>\n",
              "      <td>C2</td>\n",
              "      <td>D2</td>\n",
              "    </tr>\n",
              "  </tbody>\n",
              "</table>\n",
              "</div>"
            ],
            "text/plain": [
              "  key1 key2   A   B   C   D\n",
              "0   K0   K0  A0  B0  C0  D0\n",
              "1   K1   K0  A2  B2  C1  D1\n",
              "2   K1   K0  A2  B2  C2  D2"
            ]
          },
          "execution_count": 118,
          "metadata": {},
          "output_type": "execute_result"
        }
      ],
      "source": [
        "pd.merge(left, right, on=['key1', 'key2'])"
      ]
    },
    {
      "cell_type": "code",
      "execution_count": null,
      "metadata": {
        "id": "aneiMF5QgCjW"
      },
      "outputs": [],
      "source": [
        "#Joining\n",
        "#Joining is a convenient method for combining the columns of two potentially differently-indexed DataFrames into a single result DataFrame."
      ]
    },
    {
      "cell_type": "code",
      "execution_count": null,
      "metadata": {
        "id": "CQIQfzaggCjW"
      },
      "outputs": [],
      "source": [
        "left = pd.DataFrame({'A': ['A0', 'A1', 'A2'],\n",
        "                     'B': ['B0', 'B1', 'B2']},\n",
        "                      index=['K0', 'K1', 'K2']) \n",
        "\n",
        "right = pd.DataFrame({'C': ['C0', 'C2', 'C3'],\n",
        "                    'D': ['D0', 'D2', 'D3']},\n",
        "                      index=['K0', 'K2', 'K3'])"
      ]
    },
    {
      "cell_type": "code",
      "execution_count": null,
      "metadata": {
        "id": "Y_E-nhS-gCjW",
        "outputId": "cb03efbe-aef8-4505-df93-e0050c77df61"
      },
      "outputs": [
        {
          "data": {
            "text/html": [
              "<div>\n",
              "<style scoped>\n",
              "    .dataframe tbody tr th:only-of-type {\n",
              "        vertical-align: middle;\n",
              "    }\n",
              "\n",
              "    .dataframe tbody tr th {\n",
              "        vertical-align: top;\n",
              "    }\n",
              "\n",
              "    .dataframe thead th {\n",
              "        text-align: right;\n",
              "    }\n",
              "</style>\n",
              "<table border=\"1\" class=\"dataframe\">\n",
              "  <thead>\n",
              "    <tr style=\"text-align: right;\">\n",
              "      <th></th>\n",
              "      <th>A</th>\n",
              "      <th>B</th>\n",
              "      <th>C</th>\n",
              "      <th>D</th>\n",
              "    </tr>\n",
              "  </thead>\n",
              "  <tbody>\n",
              "    <tr>\n",
              "      <th>K0</th>\n",
              "      <td>A0</td>\n",
              "      <td>B0</td>\n",
              "      <td>C0</td>\n",
              "      <td>D0</td>\n",
              "    </tr>\n",
              "    <tr>\n",
              "      <th>K1</th>\n",
              "      <td>A1</td>\n",
              "      <td>B1</td>\n",
              "      <td>NaN</td>\n",
              "      <td>NaN</td>\n",
              "    </tr>\n",
              "    <tr>\n",
              "      <th>K2</th>\n",
              "      <td>A2</td>\n",
              "      <td>B2</td>\n",
              "      <td>C2</td>\n",
              "      <td>D2</td>\n",
              "    </tr>\n",
              "  </tbody>\n",
              "</table>\n",
              "</div>"
            ],
            "text/plain": [
              "     A   B    C    D\n",
              "K0  A0  B0   C0   D0\n",
              "K1  A1  B1  NaN  NaN\n",
              "K2  A2  B2   C2   D2"
            ]
          },
          "execution_count": 124,
          "metadata": {},
          "output_type": "execute_result"
        }
      ],
      "source": [
        "left.join(right)"
      ]
    },
    {
      "cell_type": "code",
      "execution_count": null,
      "metadata": {
        "id": "kYBFIM96gCjW"
      },
      "outputs": [],
      "source": [
        "#Operations\n"
      ]
    },
    {
      "cell_type": "code",
      "execution_count": null,
      "metadata": {
        "id": "m7WCk2M6gCjX",
        "outputId": "f9188603-a83a-4c3b-814c-2e45e4209725"
      },
      "outputs": [
        {
          "data": {
            "text/html": [
              "<div>\n",
              "<style scoped>\n",
              "    .dataframe tbody tr th:only-of-type {\n",
              "        vertical-align: middle;\n",
              "    }\n",
              "\n",
              "    .dataframe tbody tr th {\n",
              "        vertical-align: top;\n",
              "    }\n",
              "\n",
              "    .dataframe thead th {\n",
              "        text-align: right;\n",
              "    }\n",
              "</style>\n",
              "<table border=\"1\" class=\"dataframe\">\n",
              "  <thead>\n",
              "    <tr style=\"text-align: right;\">\n",
              "      <th></th>\n",
              "      <th>col1</th>\n",
              "      <th>col2</th>\n",
              "      <th>col3</th>\n",
              "    </tr>\n",
              "  </thead>\n",
              "  <tbody>\n",
              "    <tr>\n",
              "      <th>0</th>\n",
              "      <td>1</td>\n",
              "      <td>444</td>\n",
              "      <td>abc</td>\n",
              "    </tr>\n",
              "    <tr>\n",
              "      <th>1</th>\n",
              "      <td>2</td>\n",
              "      <td>555</td>\n",
              "      <td>def</td>\n",
              "    </tr>\n",
              "    <tr>\n",
              "      <th>2</th>\n",
              "      <td>3</td>\n",
              "      <td>666</td>\n",
              "      <td>ghi</td>\n",
              "    </tr>\n",
              "    <tr>\n",
              "      <th>3</th>\n",
              "      <td>4</td>\n",
              "      <td>444</td>\n",
              "      <td>xyz</td>\n",
              "    </tr>\n",
              "  </tbody>\n",
              "</table>\n",
              "</div>"
            ],
            "text/plain": [
              "   col1  col2 col3\n",
              "0     1   444  abc\n",
              "1     2   555  def\n",
              "2     3   666  ghi\n",
              "3     4   444  xyz"
            ]
          },
          "execution_count": 127,
          "metadata": {},
          "output_type": "execute_result"
        }
      ],
      "source": [
        "df = pd.DataFrame({'col1':[1,2,3,4],'col2':[444,555,666,444],'col3':['abc','def','ghi','xyz']})\n",
        "df.head()"
      ]
    },
    {
      "cell_type": "code",
      "execution_count": null,
      "metadata": {
        "id": "WF_Ce6-sgCjX"
      },
      "outputs": [],
      "source": [
        "#Info on Unique Values"
      ]
    },
    {
      "cell_type": "code",
      "execution_count": null,
      "metadata": {
        "id": "WcNxFouTgCjX",
        "outputId": "79646a05-4a52-4458-c324-4a13c2186b6b"
      },
      "outputs": [
        {
          "data": {
            "text/plain": [
              "array([444, 555, 666], dtype=int64)"
            ]
          },
          "execution_count": 133,
          "metadata": {},
          "output_type": "execute_result"
        }
      ],
      "source": [
        "df['col2'].unique()"
      ]
    },
    {
      "cell_type": "code",
      "execution_count": null,
      "metadata": {
        "id": "RJHIFBrRgCjX",
        "outputId": "bd001a1e-0862-431e-e7e5-22385211dfc1"
      },
      "outputs": [
        {
          "data": {
            "text/plain": [
              "3"
            ]
          },
          "execution_count": 134,
          "metadata": {},
          "output_type": "execute_result"
        }
      ],
      "source": [
        "df['col2'].nunique()"
      ]
    },
    {
      "cell_type": "code",
      "execution_count": null,
      "metadata": {
        "id": "spRzruEEgCjX",
        "outputId": "4a31d105-6e5e-4211-8174-9764d6eaad22"
      },
      "outputs": [
        {
          "data": {
            "text/plain": [
              "444    2\n",
              "555    1\n",
              "666    1\n",
              "Name: col2, dtype: int64"
            ]
          },
          "execution_count": 135,
          "metadata": {},
          "output_type": "execute_result"
        }
      ],
      "source": [
        "df['col2'].value_counts()"
      ]
    },
    {
      "cell_type": "code",
      "execution_count": null,
      "metadata": {
        "id": "RtbkGSqzgCjX"
      },
      "outputs": [],
      "source": [
        "#Selecting Data"
      ]
    },
    {
      "cell_type": "code",
      "execution_count": null,
      "metadata": {
        "id": "Ttu5NwIqgCjX"
      },
      "outputs": [],
      "source": [
        "#Select from DataFrame using criteria from multiple columns\n",
        "newdf = df[(df['col1']>2) & (df['col2']==444)]"
      ]
    },
    {
      "cell_type": "code",
      "execution_count": null,
      "metadata": {
        "id": "UALDXnUcgCjX",
        "outputId": "4feb6656-558a-44d2-eea7-0bb1c5490208"
      },
      "outputs": [
        {
          "data": {
            "text/html": [
              "<div>\n",
              "<style scoped>\n",
              "    .dataframe tbody tr th:only-of-type {\n",
              "        vertical-align: middle;\n",
              "    }\n",
              "\n",
              "    .dataframe tbody tr th {\n",
              "        vertical-align: top;\n",
              "    }\n",
              "\n",
              "    .dataframe thead th {\n",
              "        text-align: right;\n",
              "    }\n",
              "</style>\n",
              "<table border=\"1\" class=\"dataframe\">\n",
              "  <thead>\n",
              "    <tr style=\"text-align: right;\">\n",
              "      <th></th>\n",
              "      <th>col1</th>\n",
              "      <th>col2</th>\n",
              "      <th>col3</th>\n",
              "    </tr>\n",
              "  </thead>\n",
              "  <tbody>\n",
              "    <tr>\n",
              "      <th>3</th>\n",
              "      <td>4</td>\n",
              "      <td>444</td>\n",
              "      <td>xyz</td>\n",
              "    </tr>\n",
              "  </tbody>\n",
              "</table>\n",
              "</div>"
            ],
            "text/plain": [
              "   col1  col2 col3\n",
              "3     4   444  xyz"
            ]
          },
          "execution_count": 138,
          "metadata": {},
          "output_type": "execute_result"
        }
      ],
      "source": [
        "newdf"
      ]
    },
    {
      "cell_type": "code",
      "execution_count": null,
      "metadata": {
        "id": "Ghj6TFHDgCjX"
      },
      "outputs": [],
      "source": [
        "#Applying Functions"
      ]
    },
    {
      "cell_type": "code",
      "execution_count": null,
      "metadata": {
        "id": "uKipd-JdgCjX"
      },
      "outputs": [],
      "source": [
        "def times2(x):\n",
        "    return x*2"
      ]
    },
    {
      "cell_type": "code",
      "execution_count": null,
      "metadata": {
        "id": "_TEcF0GegCjX",
        "outputId": "f71e4cec-e025-4666-eccf-ebacb6ac2134"
      },
      "outputs": [
        {
          "data": {
            "text/plain": [
              "0    2\n",
              "1    4\n",
              "2    6\n",
              "3    8\n",
              "Name: col1, dtype: int64"
            ]
          },
          "execution_count": 141,
          "metadata": {},
          "output_type": "execute_result"
        }
      ],
      "source": [
        "df['col1'].apply(times2)"
      ]
    },
    {
      "cell_type": "code",
      "execution_count": null,
      "metadata": {
        "id": "C-B85bvGgCjY",
        "outputId": "78e9db8c-6fae-4187-bb5e-8ee08196316f"
      },
      "outputs": [
        {
          "data": {
            "text/plain": [
              "0    3\n",
              "1    3\n",
              "2    3\n",
              "3    3\n",
              "Name: col3, dtype: int64"
            ]
          },
          "execution_count": 142,
          "metadata": {},
          "output_type": "execute_result"
        }
      ],
      "source": [
        "df['col3'].apply(len)"
      ]
    },
    {
      "cell_type": "code",
      "execution_count": null,
      "metadata": {
        "id": "v70ZnDaWgCjY",
        "outputId": "bec9b55c-f284-4364-e859-c08a32fa4260"
      },
      "outputs": [
        {
          "data": {
            "text/plain": [
              "10"
            ]
          },
          "execution_count": 143,
          "metadata": {},
          "output_type": "execute_result"
        }
      ],
      "source": [
        "df['col1'].sum()"
      ]
    },
    {
      "cell_type": "code",
      "execution_count": null,
      "metadata": {
        "id": "ZncjwCOpgCjY"
      },
      "outputs": [],
      "source": [
        "#Sorting and Ordering a DataFrame"
      ]
    },
    {
      "cell_type": "code",
      "execution_count": null,
      "metadata": {
        "id": "HSaUlTsagCjY",
        "outputId": "0b20df84-7c46-40de-a000-31c2e615df2e"
      },
      "outputs": [
        {
          "data": {
            "text/html": [
              "<div>\n",
              "<style scoped>\n",
              "    .dataframe tbody tr th:only-of-type {\n",
              "        vertical-align: middle;\n",
              "    }\n",
              "\n",
              "    .dataframe tbody tr th {\n",
              "        vertical-align: top;\n",
              "    }\n",
              "\n",
              "    .dataframe thead th {\n",
              "        text-align: right;\n",
              "    }\n",
              "</style>\n",
              "<table border=\"1\" class=\"dataframe\">\n",
              "  <thead>\n",
              "    <tr style=\"text-align: right;\">\n",
              "      <th></th>\n",
              "      <th>col2</th>\n",
              "      <th>col3</th>\n",
              "    </tr>\n",
              "  </thead>\n",
              "  <tbody>\n",
              "    <tr>\n",
              "      <th>0</th>\n",
              "      <td>444</td>\n",
              "      <td>abc</td>\n",
              "    </tr>\n",
              "    <tr>\n",
              "      <th>1</th>\n",
              "      <td>555</td>\n",
              "      <td>def</td>\n",
              "    </tr>\n",
              "    <tr>\n",
              "      <th>2</th>\n",
              "      <td>666</td>\n",
              "      <td>ghi</td>\n",
              "    </tr>\n",
              "    <tr>\n",
              "      <th>3</th>\n",
              "      <td>444</td>\n",
              "      <td>xyz</td>\n",
              "    </tr>\n",
              "  </tbody>\n",
              "</table>\n",
              "</div>"
            ],
            "text/plain": [
              "   col2 col3\n",
              "0   444  abc\n",
              "1   555  def\n",
              "2   666  ghi\n",
              "3   444  xyz"
            ]
          },
          "execution_count": 151,
          "metadata": {},
          "output_type": "execute_result"
        }
      ],
      "source": [
        "df"
      ]
    },
    {
      "cell_type": "code",
      "execution_count": null,
      "metadata": {
        "id": "-fdOch43gCjY",
        "outputId": "a6082db6-e681-4f53-f223-7e02a223214e"
      },
      "outputs": [
        {
          "data": {
            "text/html": [
              "<div>\n",
              "<style scoped>\n",
              "    .dataframe tbody tr th:only-of-type {\n",
              "        vertical-align: middle;\n",
              "    }\n",
              "\n",
              "    .dataframe tbody tr th {\n",
              "        vertical-align: top;\n",
              "    }\n",
              "\n",
              "    .dataframe thead th {\n",
              "        text-align: right;\n",
              "    }\n",
              "</style>\n",
              "<table border=\"1\" class=\"dataframe\">\n",
              "  <thead>\n",
              "    <tr style=\"text-align: right;\">\n",
              "      <th></th>\n",
              "      <th>col2</th>\n",
              "      <th>col3</th>\n",
              "    </tr>\n",
              "  </thead>\n",
              "  <tbody>\n",
              "    <tr>\n",
              "      <th>0</th>\n",
              "      <td>444</td>\n",
              "      <td>abc</td>\n",
              "    </tr>\n",
              "    <tr>\n",
              "      <th>3</th>\n",
              "      <td>444</td>\n",
              "      <td>xyz</td>\n",
              "    </tr>\n",
              "    <tr>\n",
              "      <th>1</th>\n",
              "      <td>555</td>\n",
              "      <td>def</td>\n",
              "    </tr>\n",
              "    <tr>\n",
              "      <th>2</th>\n",
              "      <td>666</td>\n",
              "      <td>ghi</td>\n",
              "    </tr>\n",
              "  </tbody>\n",
              "</table>\n",
              "</div>"
            ],
            "text/plain": [
              "   col2 col3\n",
              "0   444  abc\n",
              "3   444  xyz\n",
              "1   555  def\n",
              "2   666  ghi"
            ]
          },
          "execution_count": 152,
          "metadata": {},
          "output_type": "execute_result"
        }
      ],
      "source": [
        "df.sort_values(by='col2') #inplace=False by default"
      ]
    },
    {
      "cell_type": "code",
      "execution_count": null,
      "metadata": {
        "id": "BvTCAB5xgCjY"
      },
      "outputs": [],
      "source": [
        "#Visualizing the Data\n"
      ]
    },
    {
      "cell_type": "code",
      "source": [
        "pip install yfinance"
      ],
      "metadata": {
        "colab": {
          "base_uri": "https://localhost:8080/"
        },
        "id": "z03MtwKFi4zn",
        "outputId": "d18d38ea-77bc-4eb4-99a5-bce2bcb00a34"
      },
      "execution_count": 3,
      "outputs": [
        {
          "output_type": "stream",
          "name": "stdout",
          "text": [
            "Looking in indexes: https://pypi.org/simple, https://us-python.pkg.dev/colab-wheels/public/simple/\n",
            "Collecting yfinance\n",
            "  Downloading yfinance-0.2.12-py2.py3-none-any.whl (59 kB)\n",
            "\u001b[2K     \u001b[90m━━━━━━━━━━━━━━━━━━━━━━━━━━━━━━━━━━━━━━━━\u001b[0m \u001b[32m59.2/59.2 KB\u001b[0m \u001b[31m2.7 MB/s\u001b[0m eta \u001b[36m0:00:00\u001b[0m\n",
            "\u001b[?25hCollecting requests>=2.26\n",
            "  Downloading requests-2.28.2-py3-none-any.whl (62 kB)\n",
            "\u001b[2K     \u001b[90m━━━━━━━━━━━━━━━━━━━━━━━━━━━━━━━━━━━━━━━━\u001b[0m \u001b[32m62.8/62.8 KB\u001b[0m \u001b[31m8.9 MB/s\u001b[0m eta \u001b[36m0:00:00\u001b[0m\n",
            "\u001b[?25hCollecting html5lib>=1.1\n",
            "  Downloading html5lib-1.1-py2.py3-none-any.whl (112 kB)\n",
            "\u001b[2K     \u001b[90m━━━━━━━━━━━━━━━━━━━━━━━━━━━━━━━━━━━━━━\u001b[0m \u001b[32m112.2/112.2 KB\u001b[0m \u001b[31m14.4 MB/s\u001b[0m eta \u001b[36m0:00:00\u001b[0m\n",
            "\u001b[?25hRequirement already satisfied: multitasking>=0.0.7 in /usr/local/lib/python3.9/dist-packages (from yfinance) (0.0.11)\n",
            "Collecting frozendict>=2.3.4\n",
            "  Downloading frozendict-2.3.5-cp39-cp39-manylinux_2_17_x86_64.manylinux2014_x86_64.whl (112 kB)\n",
            "\u001b[2K     \u001b[90m━━━━━━━━━━━━━━━━━━━━━━━━━━━━━━━━━━━━━━\u001b[0m \u001b[32m112.8/112.8 KB\u001b[0m \u001b[31m14.2 MB/s\u001b[0m eta \u001b[36m0:00:00\u001b[0m\n",
            "\u001b[?25hRequirement already satisfied: pandas>=1.3.0 in /usr/local/lib/python3.9/dist-packages (from yfinance) (1.4.4)\n",
            "Requirement already satisfied: pytz>=2022.5 in /usr/local/lib/python3.9/dist-packages (from yfinance) (2022.7.1)\n",
            "Requirement already satisfied: numpy>=1.16.5 in /usr/local/lib/python3.9/dist-packages (from yfinance) (1.22.4)\n",
            "Collecting appdirs>=1.4.4\n",
            "  Downloading appdirs-1.4.4-py2.py3-none-any.whl (9.6 kB)\n",
            "Requirement already satisfied: lxml>=4.9.1 in /usr/local/lib/python3.9/dist-packages (from yfinance) (4.9.2)\n",
            "Collecting cryptography>=3.3.2\n",
            "  Downloading cryptography-39.0.2-cp36-abi3-manylinux_2_28_x86_64.whl (4.2 MB)\n",
            "\u001b[2K     \u001b[90m━━━━━━━━━━━━━━━━━━━━━━━━━━━━━━━━━━━━━━━━\u001b[0m \u001b[32m4.2/4.2 MB\u001b[0m \u001b[31m53.6 MB/s\u001b[0m eta \u001b[36m0:00:00\u001b[0m\n",
            "\u001b[?25hCollecting beautifulsoup4>=4.11.1\n",
            "  Downloading beautifulsoup4-4.11.2-py3-none-any.whl (129 kB)\n",
            "\u001b[2K     \u001b[90m━━━━━━━━━━━━━━━━━━━━━━━━━━━━━━━━━━━━━━\u001b[0m \u001b[32m129.4/129.4 KB\u001b[0m \u001b[31m16.8 MB/s\u001b[0m eta \u001b[36m0:00:00\u001b[0m\n",
            "\u001b[?25hRequirement already satisfied: soupsieve>1.2 in /usr/local/lib/python3.9/dist-packages (from beautifulsoup4>=4.11.1->yfinance) (2.4)\n",
            "Requirement already satisfied: cffi>=1.12 in /usr/local/lib/python3.9/dist-packages (from cryptography>=3.3.2->yfinance) (1.15.1)\n",
            "Requirement already satisfied: webencodings in /usr/local/lib/python3.9/dist-packages (from html5lib>=1.1->yfinance) (0.5.1)\n",
            "Requirement already satisfied: six>=1.9 in /usr/local/lib/python3.9/dist-packages (from html5lib>=1.1->yfinance) (1.15.0)\n",
            "Requirement already satisfied: python-dateutil>=2.8.1 in /usr/local/lib/python3.9/dist-packages (from pandas>=1.3.0->yfinance) (2.8.2)\n",
            "Requirement already satisfied: urllib3<1.27,>=1.21.1 in /usr/local/lib/python3.9/dist-packages (from requests>=2.26->yfinance) (1.26.14)\n",
            "Collecting charset-normalizer<4,>=2\n",
            "  Downloading charset_normalizer-3.1.0-cp39-cp39-manylinux_2_17_x86_64.manylinux2014_x86_64.whl (199 kB)\n",
            "\u001b[2K     \u001b[90m━━━━━━━━━━━━━━━━━━━━━━━━━━━━━━━━━━━━━━\u001b[0m \u001b[32m199.2/199.2 KB\u001b[0m \u001b[31m21.7 MB/s\u001b[0m eta \u001b[36m0:00:00\u001b[0m\n",
            "\u001b[?25hRequirement already satisfied: certifi>=2017.4.17 in /usr/local/lib/python3.9/dist-packages (from requests>=2.26->yfinance) (2022.12.7)\n",
            "Requirement already satisfied: idna<4,>=2.5 in /usr/local/lib/python3.9/dist-packages (from requests>=2.26->yfinance) (2.10)\n",
            "Requirement already satisfied: pycparser in /usr/local/lib/python3.9/dist-packages (from cffi>=1.12->cryptography>=3.3.2->yfinance) (2.21)\n",
            "Installing collected packages: appdirs, html5lib, frozendict, charset-normalizer, beautifulsoup4, requests, cryptography, yfinance\n",
            "  Attempting uninstall: html5lib\n",
            "    Found existing installation: html5lib 1.0.1\n",
            "    Uninstalling html5lib-1.0.1:\n",
            "      Successfully uninstalled html5lib-1.0.1\n",
            "  Attempting uninstall: beautifulsoup4\n",
            "    Found existing installation: beautifulsoup4 4.9.3\n",
            "    Uninstalling beautifulsoup4-4.9.3:\n",
            "      Successfully uninstalled beautifulsoup4-4.9.3\n",
            "  Attempting uninstall: requests\n",
            "    Found existing installation: requests 2.25.1\n",
            "    Uninstalling requests-2.25.1:\n",
            "      Successfully uninstalled requests-2.25.1\n",
            "Successfully installed appdirs-1.4.4 beautifulsoup4-4.11.2 charset-normalizer-3.1.0 cryptography-39.0.2 frozendict-2.3.5 html5lib-1.1 requests-2.28.2 yfinance-0.2.12\n"
          ]
        }
      ]
    },
    {
      "cell_type": "code",
      "execution_count": 4,
      "metadata": {
        "id": "JoUAX4djgCjY"
      },
      "outputs": [],
      "source": [
        "import yfinance as yf\n",
        "import pandas as pd\n",
        "import matplotlib.pyplot as plt\n",
        "import datetime as dt\n",
        "import matplotlib.pyplot as plt\n",
        "from matplotlib import style"
      ]
    },
    {
      "cell_type": "code",
      "source": [
        "stock_data = yf.download('AAPL, AMZN, TSLA', start = \"2023-01-01\", end=\"2023-03-01\")"
      ],
      "metadata": {
        "colab": {
          "base_uri": "https://localhost:8080/"
        },
        "id": "l_A5bqIbmQWn",
        "outputId": "212e7215-1a26-4869-9547-53c05a50477a"
      },
      "execution_count": 5,
      "outputs": [
        {
          "output_type": "stream",
          "name": "stdout",
          "text": [
            "[*********************100%***********************]  3 of 3 completed\n"
          ]
        }
      ]
    },
    {
      "cell_type": "code",
      "source": [
        "stock_data"
      ],
      "metadata": {
        "colab": {
          "base_uri": "https://localhost:8080/",
          "height": 1000
        },
        "id": "IZjl7RxxjL5D",
        "outputId": "d89ae92c-d700-422e-d8a4-df240ffa32aa"
      },
      "execution_count": 6,
      "outputs": [
        {
          "output_type": "execute_result",
          "data": {
            "text/plain": [
              "             Adj Close                               Close              \\\n",
              "                  AAPL        AMZN        TSLA        AAPL        AMZN   \n",
              "Date                                                                     \n",
              "2023-01-03  124.879326   85.820000  108.099998  125.070000   85.820000   \n",
              "2023-01-04  126.167366   85.139999  113.639999  126.360001   85.139999   \n",
              "2023-01-05  124.829399   83.120003  110.339996  125.019997   83.120003   \n",
              "2023-01-06  129.422394   86.080002  113.059998  129.619995   86.080002   \n",
              "2023-01-09  129.951584   87.360001  119.769997  130.149994   87.360001   \n",
              "2023-01-10  130.530701   89.870003  118.849998  130.729996   89.870003   \n",
              "2023-01-11  133.286499   95.089996  123.220001  133.490005   95.089996   \n",
              "2023-01-12  133.206619   95.269997  123.559998  133.410004   95.269997   \n",
              "2023-01-13  134.554550   98.120003  122.400002  134.759995   98.120003   \n",
              "2023-01-17  135.732758   96.050003  131.490005  135.940002   96.050003   \n",
              "2023-01-18  135.003876   95.459999  128.779999  135.210007   95.459999   \n",
              "2023-01-19  135.063782   93.680000  127.169998  135.270004   93.680000   \n",
              "2023-01-20  137.659805   97.250000  133.419998  137.869995   97.250000   \n",
              "2023-01-23  140.894882   97.519997  143.750000  141.110001   97.519997   \n",
              "2023-01-24  142.312714   96.320000  143.889999  142.529999   96.320000   \n",
              "2023-01-25  141.643738   97.180000  144.429993  141.860001   97.180000   \n",
              "2023-01-26  143.740540   99.220001  160.270004  143.960007   99.220001   \n",
              "2023-01-27  145.707520  102.239998  177.899994  145.929993  102.239998   \n",
              "2023-01-30  142.781998  100.550003  166.660004  143.000000  100.550003   \n",
              "2023-01-31  144.070023  103.129997  173.220001  144.289993  103.129997   \n",
              "2023-02-01  145.208282  105.150002  181.410004  145.429993  105.150002   \n",
              "2023-02-02  150.590088  112.910004  188.270004  150.820007  112.910004   \n",
              "2023-02-03  154.264465  103.389999  189.979996  154.500000  103.389999   \n",
              "2023-02-06  151.498688  102.180000  194.759995  151.729996  102.180000   \n",
              "2023-02-07  154.414230  102.110001  196.809998  154.649994  102.110001   \n",
              "2023-02-08  151.688400  100.050003  201.289993  151.919998  100.050003   \n",
              "2023-02-09  150.639999   98.239998  207.320007  150.869995   98.239998   \n",
              "2023-02-10  151.009995   97.610001  196.889999  151.009995   97.610001   \n",
              "2023-02-13  153.850006   99.540001  194.639999  153.850006   99.540001   \n",
              "2023-02-14  153.199997   99.699997  209.250000  153.199997   99.699997   \n",
              "2023-02-15  155.330002  101.160004  214.240005  155.330002  101.160004   \n",
              "2023-02-16  153.710007   98.150002  202.039993  153.710007   98.150002   \n",
              "2023-02-17  152.550003   97.199997  208.309998  152.550003   97.199997   \n",
              "2023-02-21  148.479996   94.580002  197.369995  148.479996   94.580002   \n",
              "2023-02-22  148.910004   95.790001  200.860001  148.910004   95.790001   \n",
              "2023-02-23  149.399994   95.820000  202.070007  149.399994   95.820000   \n",
              "2023-02-24  146.710007   93.500000  196.880005  146.710007   93.500000   \n",
              "2023-02-27  147.919998   93.760002  207.630005  147.919998   93.760002   \n",
              "2023-02-28  147.410004   94.230003  205.710007  147.410004   94.230003   \n",
              "\n",
              "                              High                                 Low  \\\n",
              "                  TSLA        AAPL        AMZN        TSLA        AAPL   \n",
              "Date                                                                     \n",
              "2023-01-03  108.099998  130.899994   86.959999  118.800003  124.169998   \n",
              "2023-01-04  113.639999  128.660004   86.980003  114.589996  125.080002   \n",
              "2023-01-05  110.339996  127.769997   85.419998  111.750000  124.760002   \n",
              "2023-01-06  113.059998  130.289993   86.400002  114.389999  124.889999   \n",
              "2023-01-09  119.769997  133.410004   89.480003  123.519997  129.889999   \n",
              "2023-01-10  118.849998  131.259995   90.190002  122.760002  128.119995   \n",
              "2023-01-11  123.220001  133.509995   95.260002  125.949997  130.460007   \n",
              "2023-01-12  123.559998  134.259995   97.190002  124.129997  131.440002   \n",
              "2023-01-13  122.400002  134.919998   98.370003  122.629997  131.660004   \n",
              "2023-01-17  131.490005  137.289993   98.889999  131.699997  134.130005   \n",
              "2023-01-18  128.779999  138.610001   99.320000  136.679993  135.029999   \n",
              "2023-01-19  127.169998  136.250000   95.440002  129.990005  133.770004   \n",
              "2023-01-20  133.419998  138.020004   97.349998  133.509995  134.220001   \n",
              "2023-01-23  143.750000  143.320007   97.779999  145.380005  137.899994   \n",
              "2023-01-24  143.889999  143.160004   98.089996  146.500000  140.300003   \n",
              "2023-01-25  144.429993  142.429993   97.239998  146.410004  138.809998   \n",
              "2023-01-26  160.270004  144.250000   99.489998  161.419998  141.899994   \n",
              "2023-01-27  177.899994  147.229996  103.489998  180.679993  143.080002   \n",
              "2023-01-30  166.660004  145.550003  101.739998  179.770004  142.850006   \n",
              "2023-01-31  173.220001  144.339996  103.349998  174.300003  142.279999   \n",
              "2023-02-01  181.410004  146.610001  106.239998  183.809998  141.320007   \n",
              "2023-02-02  188.270004  151.179993  114.000000  196.750000  148.169998   \n",
              "2023-02-03  189.979996  157.380005  108.779999  199.000000  147.830002   \n",
              "2023-02-06  194.759995  153.100006  103.949997  198.169998  150.779999   \n",
              "2023-02-07  196.809998  155.229996  102.410004  197.500000  150.639999   \n",
              "2023-02-08  201.289993  154.580002  102.669998  203.000000  151.169998   \n",
              "2023-02-09  207.320007  154.330002  101.779999  214.000000  150.419998   \n",
              "2023-02-10  196.889999  151.339996   98.820000  206.199997  149.220001   \n",
              "2023-02-13  194.639999  154.259995   99.680000  196.300003  150.919998   \n",
              "2023-02-14  209.250000  153.770004  100.919998  209.820007  150.860001   \n",
              "2023-02-15  214.240005  155.500000  101.169998  214.660004  152.880005   \n",
              "2023-02-16  202.039993  156.330002  100.629997  217.649994  153.350006   \n",
              "2023-02-17  208.309998  153.000000   97.940002  208.440002  150.850006   \n",
              "2023-02-21  197.369995  151.300003   95.610001  209.710007  148.410004   \n",
              "2023-02-22  200.860001  149.949997   97.010002  201.990005  147.160004   \n",
              "2023-02-23  202.070007  150.339996   96.430000  205.139999  147.240005   \n",
              "2023-02-24  196.880005  147.190002   94.139999  197.669998  145.720001   \n",
              "2023-02-27  207.630005  149.169998   94.779999  209.419998  147.449997   \n",
              "2023-02-28  205.710007  149.080002   94.690002  211.229996  146.830002   \n",
              "\n",
              "                                          Open                          \\\n",
              "                  AMZN        TSLA        AAPL        AMZN        TSLA   \n",
              "Date                                                                     \n",
              "2023-01-03   84.209999  104.639999  130.279999   85.459999  118.470001   \n",
              "2023-01-04   83.360001  107.519997  126.889999   86.550003  109.110001   \n",
              "2023-01-05   83.070000  107.160004  127.129997   85.330002  110.510002   \n",
              "2023-01-06   81.430000  101.809998  126.010002   83.029999  103.000000   \n",
              "2023-01-09   87.080002  117.110001  130.470001   87.459999  118.959999   \n",
              "2023-01-10   87.290001  114.919998  130.259995   87.570000  121.070000   \n",
              "2023-01-11   90.930000  120.510002  131.250000   90.930000  122.089996   \n",
              "2023-01-12   93.500000  117.000000  133.880005   96.930000  122.559998   \n",
              "2023-01-13   94.120003  115.599998  132.029999   94.180000  116.550003   \n",
              "2023-01-17   95.730003  125.019997  134.830002   98.680000  125.699997   \n",
              "2023-01-18   95.379997  127.010002  136.820007   97.250000  136.559998   \n",
              "2023-01-19   92.860001  124.309998  134.080002   94.739998  127.260002   \n",
              "2023-01-20   93.199997  127.349998  135.279999   93.860001  128.679993   \n",
              "2023-01-23   95.860001  134.270004  138.119995   97.559998  135.869995   \n",
              "2023-01-24   96.000000  141.100006  140.309998   96.930000  143.000000   \n",
              "2023-01-25   91.519997  138.070007  140.889999   92.559998  141.910004   \n",
              "2023-01-26   96.919998  154.759995  143.169998   98.239998  159.970001   \n",
              "2023-01-27   99.529999  161.169998  143.160004   99.529999  162.429993   \n",
              "2023-01-30   99.010002  166.500000  144.960007  101.089996  178.050003   \n",
              "2023-01-31  101.139999  162.779999  142.699997  101.160004  164.570007   \n",
              "2023-02-01  101.239998  169.929993  143.970001  102.529999  173.889999   \n",
              "2023-02-02  108.879997  182.610001  148.899994  110.250000  187.330002   \n",
              "2023-02-03  102.519997  183.690002  148.029999  105.260002  183.949997   \n",
              "2023-02-06  100.650002  189.919998  152.570007  102.930000  193.009995   \n",
              "2023-02-07   98.080002  189.550003  150.639999  101.169998  196.429993   \n",
              "2023-02-08   98.779999  194.309998  153.880005  102.040001  196.100006   \n",
              "2023-02-09   97.570000  204.770004  153.779999  101.320000  207.779999   \n",
              "2023-02-10   96.230003  192.889999  149.460007   97.559998  202.229996   \n",
              "2023-02-13   96.910004  187.610001  150.949997   97.849998  194.419998   \n",
              "2023-02-14   97.519997  189.440002  152.119995   98.410004  191.940002   \n",
              "2023-02-15   98.449997  206.110001  153.110001   99.089996  211.759995   \n",
              "2023-02-16   98.099998  201.839996  153.509995   99.209999  210.779999   \n",
              "2023-02-17   95.650002  197.500000  152.350006   97.800003  199.990005   \n",
              "2023-02-21   94.269997  197.220001  150.199997   95.339996  204.990005   \n",
              "2023-02-22   94.800003  191.779999  148.869995   95.099998  197.929993   \n",
              "2023-02-23   93.669998  196.330002  150.089996   96.120003  203.910004   \n",
              "2023-02-24   92.320000  192.800003  147.110001   93.529999  196.330002   \n",
              "2023-02-27   93.139999  201.259995  147.710007   94.279999  202.029999   \n",
              "2023-02-28   92.919998  203.750000  147.050003   93.139999  210.589996   \n",
              "\n",
              "               Volume                        \n",
              "                 AAPL       AMZN       TSLA  \n",
              "Date                                         \n",
              "2023-01-03  112117500   76706000  231402800  \n",
              "2023-01-04   89113600   68885100  180389000  \n",
              "2023-01-05   80962700   67930800  157986300  \n",
              "2023-01-06   87754700   83303400  220911100  \n",
              "2023-01-09   70790800   65266100  190284000  \n",
              "2023-01-10   63896200   67756600  167642500  \n",
              "2023-01-11   69458900  103126200  183810800  \n",
              "2023-01-12   71379600   85254800  169400900  \n",
              "2023-01-13   57809700   85549400  180714100  \n",
              "2023-01-17   63646600   72755000  186477000  \n",
              "2023-01-18   69672800   79570400  195680300  \n",
              "2023-01-19   58280400   69002700  170291900  \n",
              "2023-01-20   80223600   67481500  138858100  \n",
              "2023-01-23   81760300   76501100  203119200  \n",
              "2023-01-24   66435100   66929500  158699100  \n",
              "2023-01-25   65799300   94261600  192734300  \n",
              "2023-01-26   54105100   68523600  234815100  \n",
              "2023-01-27   70555800   87775600  306590600  \n",
              "2023-01-30   64015300   70691900  230878800  \n",
              "2023-01-31   65874500   66527300  196813500  \n",
              "2023-02-01   77663600   80450100  213806300  \n",
              "2023-02-02  118339000  158154200  217448300  \n",
              "2023-02-03  154357300  144374800  232662000  \n",
              "2023-02-06   69858300   81945200  186188100  \n",
              "2023-02-07   83322600  119501300  186010300  \n",
              "2023-02-08   64120100   75878300  180673600  \n",
              "2023-02-09   56007100   64622500  215431400  \n",
              "2023-02-10   57450700   52740100  204754100  \n",
              "2023-02-13   62199000   52841500  172475500  \n",
              "2023-02-14   61707600   56202900  216455700  \n",
              "2023-02-15   65573800   47957600  181006400  \n",
              "2023-02-16   68167900   56339200  229586500  \n",
              "2023-02-17   59144100   60029400  213738500  \n",
              "2023-02-21   58867200   56580400  180018600  \n",
              "2023-02-22   51011300   59534100  191828500  \n",
              "2023-02-23   48394200   48467000  146360000  \n",
              "2023-02-24   55469600   57053800  142228100  \n",
              "2023-02-27   44998500   47470300  161028300  \n",
              "2023-02-28   50547000   43959300  153144900  "
            ],
            "text/html": [
              "\n",
              "  <div id=\"df-e8b8385d-258f-4baa-b210-04e843d22a6d\">\n",
              "    <div class=\"colab-df-container\">\n",
              "      <div>\n",
              "<style scoped>\n",
              "    .dataframe tbody tr th:only-of-type {\n",
              "        vertical-align: middle;\n",
              "    }\n",
              "\n",
              "    .dataframe tbody tr th {\n",
              "        vertical-align: top;\n",
              "    }\n",
              "\n",
              "    .dataframe thead tr th {\n",
              "        text-align: left;\n",
              "    }\n",
              "\n",
              "    .dataframe thead tr:last-of-type th {\n",
              "        text-align: right;\n",
              "    }\n",
              "</style>\n",
              "<table border=\"1\" class=\"dataframe\">\n",
              "  <thead>\n",
              "    <tr>\n",
              "      <th></th>\n",
              "      <th colspan=\"3\" halign=\"left\">Adj Close</th>\n",
              "      <th colspan=\"3\" halign=\"left\">Close</th>\n",
              "      <th colspan=\"3\" halign=\"left\">High</th>\n",
              "      <th colspan=\"3\" halign=\"left\">Low</th>\n",
              "      <th colspan=\"3\" halign=\"left\">Open</th>\n",
              "      <th colspan=\"3\" halign=\"left\">Volume</th>\n",
              "    </tr>\n",
              "    <tr>\n",
              "      <th></th>\n",
              "      <th>AAPL</th>\n",
              "      <th>AMZN</th>\n",
              "      <th>TSLA</th>\n",
              "      <th>AAPL</th>\n",
              "      <th>AMZN</th>\n",
              "      <th>TSLA</th>\n",
              "      <th>AAPL</th>\n",
              "      <th>AMZN</th>\n",
              "      <th>TSLA</th>\n",
              "      <th>AAPL</th>\n",
              "      <th>AMZN</th>\n",
              "      <th>TSLA</th>\n",
              "      <th>AAPL</th>\n",
              "      <th>AMZN</th>\n",
              "      <th>TSLA</th>\n",
              "      <th>AAPL</th>\n",
              "      <th>AMZN</th>\n",
              "      <th>TSLA</th>\n",
              "    </tr>\n",
              "    <tr>\n",
              "      <th>Date</th>\n",
              "      <th></th>\n",
              "      <th></th>\n",
              "      <th></th>\n",
              "      <th></th>\n",
              "      <th></th>\n",
              "      <th></th>\n",
              "      <th></th>\n",
              "      <th></th>\n",
              "      <th></th>\n",
              "      <th></th>\n",
              "      <th></th>\n",
              "      <th></th>\n",
              "      <th></th>\n",
              "      <th></th>\n",
              "      <th></th>\n",
              "      <th></th>\n",
              "      <th></th>\n",
              "      <th></th>\n",
              "    </tr>\n",
              "  </thead>\n",
              "  <tbody>\n",
              "    <tr>\n",
              "      <th>2023-01-03</th>\n",
              "      <td>124.879326</td>\n",
              "      <td>85.820000</td>\n",
              "      <td>108.099998</td>\n",
              "      <td>125.070000</td>\n",
              "      <td>85.820000</td>\n",
              "      <td>108.099998</td>\n",
              "      <td>130.899994</td>\n",
              "      <td>86.959999</td>\n",
              "      <td>118.800003</td>\n",
              "      <td>124.169998</td>\n",
              "      <td>84.209999</td>\n",
              "      <td>104.639999</td>\n",
              "      <td>130.279999</td>\n",
              "      <td>85.459999</td>\n",
              "      <td>118.470001</td>\n",
              "      <td>112117500</td>\n",
              "      <td>76706000</td>\n",
              "      <td>231402800</td>\n",
              "    </tr>\n",
              "    <tr>\n",
              "      <th>2023-01-04</th>\n",
              "      <td>126.167366</td>\n",
              "      <td>85.139999</td>\n",
              "      <td>113.639999</td>\n",
              "      <td>126.360001</td>\n",
              "      <td>85.139999</td>\n",
              "      <td>113.639999</td>\n",
              "      <td>128.660004</td>\n",
              "      <td>86.980003</td>\n",
              "      <td>114.589996</td>\n",
              "      <td>125.080002</td>\n",
              "      <td>83.360001</td>\n",
              "      <td>107.519997</td>\n",
              "      <td>126.889999</td>\n",
              "      <td>86.550003</td>\n",
              "      <td>109.110001</td>\n",
              "      <td>89113600</td>\n",
              "      <td>68885100</td>\n",
              "      <td>180389000</td>\n",
              "    </tr>\n",
              "    <tr>\n",
              "      <th>2023-01-05</th>\n",
              "      <td>124.829399</td>\n",
              "      <td>83.120003</td>\n",
              "      <td>110.339996</td>\n",
              "      <td>125.019997</td>\n",
              "      <td>83.120003</td>\n",
              "      <td>110.339996</td>\n",
              "      <td>127.769997</td>\n",
              "      <td>85.419998</td>\n",
              "      <td>111.750000</td>\n",
              "      <td>124.760002</td>\n",
              "      <td>83.070000</td>\n",
              "      <td>107.160004</td>\n",
              "      <td>127.129997</td>\n",
              "      <td>85.330002</td>\n",
              "      <td>110.510002</td>\n",
              "      <td>80962700</td>\n",
              "      <td>67930800</td>\n",
              "      <td>157986300</td>\n",
              "    </tr>\n",
              "    <tr>\n",
              "      <th>2023-01-06</th>\n",
              "      <td>129.422394</td>\n",
              "      <td>86.080002</td>\n",
              "      <td>113.059998</td>\n",
              "      <td>129.619995</td>\n",
              "      <td>86.080002</td>\n",
              "      <td>113.059998</td>\n",
              "      <td>130.289993</td>\n",
              "      <td>86.400002</td>\n",
              "      <td>114.389999</td>\n",
              "      <td>124.889999</td>\n",
              "      <td>81.430000</td>\n",
              "      <td>101.809998</td>\n",
              "      <td>126.010002</td>\n",
              "      <td>83.029999</td>\n",
              "      <td>103.000000</td>\n",
              "      <td>87754700</td>\n",
              "      <td>83303400</td>\n",
              "      <td>220911100</td>\n",
              "    </tr>\n",
              "    <tr>\n",
              "      <th>2023-01-09</th>\n",
              "      <td>129.951584</td>\n",
              "      <td>87.360001</td>\n",
              "      <td>119.769997</td>\n",
              "      <td>130.149994</td>\n",
              "      <td>87.360001</td>\n",
              "      <td>119.769997</td>\n",
              "      <td>133.410004</td>\n",
              "      <td>89.480003</td>\n",
              "      <td>123.519997</td>\n",
              "      <td>129.889999</td>\n",
              "      <td>87.080002</td>\n",
              "      <td>117.110001</td>\n",
              "      <td>130.470001</td>\n",
              "      <td>87.459999</td>\n",
              "      <td>118.959999</td>\n",
              "      <td>70790800</td>\n",
              "      <td>65266100</td>\n",
              "      <td>190284000</td>\n",
              "    </tr>\n",
              "    <tr>\n",
              "      <th>2023-01-10</th>\n",
              "      <td>130.530701</td>\n",
              "      <td>89.870003</td>\n",
              "      <td>118.849998</td>\n",
              "      <td>130.729996</td>\n",
              "      <td>89.870003</td>\n",
              "      <td>118.849998</td>\n",
              "      <td>131.259995</td>\n",
              "      <td>90.190002</td>\n",
              "      <td>122.760002</td>\n",
              "      <td>128.119995</td>\n",
              "      <td>87.290001</td>\n",
              "      <td>114.919998</td>\n",
              "      <td>130.259995</td>\n",
              "      <td>87.570000</td>\n",
              "      <td>121.070000</td>\n",
              "      <td>63896200</td>\n",
              "      <td>67756600</td>\n",
              "      <td>167642500</td>\n",
              "    </tr>\n",
              "    <tr>\n",
              "      <th>2023-01-11</th>\n",
              "      <td>133.286499</td>\n",
              "      <td>95.089996</td>\n",
              "      <td>123.220001</td>\n",
              "      <td>133.490005</td>\n",
              "      <td>95.089996</td>\n",
              "      <td>123.220001</td>\n",
              "      <td>133.509995</td>\n",
              "      <td>95.260002</td>\n",
              "      <td>125.949997</td>\n",
              "      <td>130.460007</td>\n",
              "      <td>90.930000</td>\n",
              "      <td>120.510002</td>\n",
              "      <td>131.250000</td>\n",
              "      <td>90.930000</td>\n",
              "      <td>122.089996</td>\n",
              "      <td>69458900</td>\n",
              "      <td>103126200</td>\n",
              "      <td>183810800</td>\n",
              "    </tr>\n",
              "    <tr>\n",
              "      <th>2023-01-12</th>\n",
              "      <td>133.206619</td>\n",
              "      <td>95.269997</td>\n",
              "      <td>123.559998</td>\n",
              "      <td>133.410004</td>\n",
              "      <td>95.269997</td>\n",
              "      <td>123.559998</td>\n",
              "      <td>134.259995</td>\n",
              "      <td>97.190002</td>\n",
              "      <td>124.129997</td>\n",
              "      <td>131.440002</td>\n",
              "      <td>93.500000</td>\n",
              "      <td>117.000000</td>\n",
              "      <td>133.880005</td>\n",
              "      <td>96.930000</td>\n",
              "      <td>122.559998</td>\n",
              "      <td>71379600</td>\n",
              "      <td>85254800</td>\n",
              "      <td>169400900</td>\n",
              "    </tr>\n",
              "    <tr>\n",
              "      <th>2023-01-13</th>\n",
              "      <td>134.554550</td>\n",
              "      <td>98.120003</td>\n",
              "      <td>122.400002</td>\n",
              "      <td>134.759995</td>\n",
              "      <td>98.120003</td>\n",
              "      <td>122.400002</td>\n",
              "      <td>134.919998</td>\n",
              "      <td>98.370003</td>\n",
              "      <td>122.629997</td>\n",
              "      <td>131.660004</td>\n",
              "      <td>94.120003</td>\n",
              "      <td>115.599998</td>\n",
              "      <td>132.029999</td>\n",
              "      <td>94.180000</td>\n",
              "      <td>116.550003</td>\n",
              "      <td>57809700</td>\n",
              "      <td>85549400</td>\n",
              "      <td>180714100</td>\n",
              "    </tr>\n",
              "    <tr>\n",
              "      <th>2023-01-17</th>\n",
              "      <td>135.732758</td>\n",
              "      <td>96.050003</td>\n",
              "      <td>131.490005</td>\n",
              "      <td>135.940002</td>\n",
              "      <td>96.050003</td>\n",
              "      <td>131.490005</td>\n",
              "      <td>137.289993</td>\n",
              "      <td>98.889999</td>\n",
              "      <td>131.699997</td>\n",
              "      <td>134.130005</td>\n",
              "      <td>95.730003</td>\n",
              "      <td>125.019997</td>\n",
              "      <td>134.830002</td>\n",
              "      <td>98.680000</td>\n",
              "      <td>125.699997</td>\n",
              "      <td>63646600</td>\n",
              "      <td>72755000</td>\n",
              "      <td>186477000</td>\n",
              "    </tr>\n",
              "    <tr>\n",
              "      <th>2023-01-18</th>\n",
              "      <td>135.003876</td>\n",
              "      <td>95.459999</td>\n",
              "      <td>128.779999</td>\n",
              "      <td>135.210007</td>\n",
              "      <td>95.459999</td>\n",
              "      <td>128.779999</td>\n",
              "      <td>138.610001</td>\n",
              "      <td>99.320000</td>\n",
              "      <td>136.679993</td>\n",
              "      <td>135.029999</td>\n",
              "      <td>95.379997</td>\n",
              "      <td>127.010002</td>\n",
              "      <td>136.820007</td>\n",
              "      <td>97.250000</td>\n",
              "      <td>136.559998</td>\n",
              "      <td>69672800</td>\n",
              "      <td>79570400</td>\n",
              "      <td>195680300</td>\n",
              "    </tr>\n",
              "    <tr>\n",
              "      <th>2023-01-19</th>\n",
              "      <td>135.063782</td>\n",
              "      <td>93.680000</td>\n",
              "      <td>127.169998</td>\n",
              "      <td>135.270004</td>\n",
              "      <td>93.680000</td>\n",
              "      <td>127.169998</td>\n",
              "      <td>136.250000</td>\n",
              "      <td>95.440002</td>\n",
              "      <td>129.990005</td>\n",
              "      <td>133.770004</td>\n",
              "      <td>92.860001</td>\n",
              "      <td>124.309998</td>\n",
              "      <td>134.080002</td>\n",
              "      <td>94.739998</td>\n",
              "      <td>127.260002</td>\n",
              "      <td>58280400</td>\n",
              "      <td>69002700</td>\n",
              "      <td>170291900</td>\n",
              "    </tr>\n",
              "    <tr>\n",
              "      <th>2023-01-20</th>\n",
              "      <td>137.659805</td>\n",
              "      <td>97.250000</td>\n",
              "      <td>133.419998</td>\n",
              "      <td>137.869995</td>\n",
              "      <td>97.250000</td>\n",
              "      <td>133.419998</td>\n",
              "      <td>138.020004</td>\n",
              "      <td>97.349998</td>\n",
              "      <td>133.509995</td>\n",
              "      <td>134.220001</td>\n",
              "      <td>93.199997</td>\n",
              "      <td>127.349998</td>\n",
              "      <td>135.279999</td>\n",
              "      <td>93.860001</td>\n",
              "      <td>128.679993</td>\n",
              "      <td>80223600</td>\n",
              "      <td>67481500</td>\n",
              "      <td>138858100</td>\n",
              "    </tr>\n",
              "    <tr>\n",
              "      <th>2023-01-23</th>\n",
              "      <td>140.894882</td>\n",
              "      <td>97.519997</td>\n",
              "      <td>143.750000</td>\n",
              "      <td>141.110001</td>\n",
              "      <td>97.519997</td>\n",
              "      <td>143.750000</td>\n",
              "      <td>143.320007</td>\n",
              "      <td>97.779999</td>\n",
              "      <td>145.380005</td>\n",
              "      <td>137.899994</td>\n",
              "      <td>95.860001</td>\n",
              "      <td>134.270004</td>\n",
              "      <td>138.119995</td>\n",
              "      <td>97.559998</td>\n",
              "      <td>135.869995</td>\n",
              "      <td>81760300</td>\n",
              "      <td>76501100</td>\n",
              "      <td>203119200</td>\n",
              "    </tr>\n",
              "    <tr>\n",
              "      <th>2023-01-24</th>\n",
              "      <td>142.312714</td>\n",
              "      <td>96.320000</td>\n",
              "      <td>143.889999</td>\n",
              "      <td>142.529999</td>\n",
              "      <td>96.320000</td>\n",
              "      <td>143.889999</td>\n",
              "      <td>143.160004</td>\n",
              "      <td>98.089996</td>\n",
              "      <td>146.500000</td>\n",
              "      <td>140.300003</td>\n",
              "      <td>96.000000</td>\n",
              "      <td>141.100006</td>\n",
              "      <td>140.309998</td>\n",
              "      <td>96.930000</td>\n",
              "      <td>143.000000</td>\n",
              "      <td>66435100</td>\n",
              "      <td>66929500</td>\n",
              "      <td>158699100</td>\n",
              "    </tr>\n",
              "    <tr>\n",
              "      <th>2023-01-25</th>\n",
              "      <td>141.643738</td>\n",
              "      <td>97.180000</td>\n",
              "      <td>144.429993</td>\n",
              "      <td>141.860001</td>\n",
              "      <td>97.180000</td>\n",
              "      <td>144.429993</td>\n",
              "      <td>142.429993</td>\n",
              "      <td>97.239998</td>\n",
              "      <td>146.410004</td>\n",
              "      <td>138.809998</td>\n",
              "      <td>91.519997</td>\n",
              "      <td>138.070007</td>\n",
              "      <td>140.889999</td>\n",
              "      <td>92.559998</td>\n",
              "      <td>141.910004</td>\n",
              "      <td>65799300</td>\n",
              "      <td>94261600</td>\n",
              "      <td>192734300</td>\n",
              "    </tr>\n",
              "    <tr>\n",
              "      <th>2023-01-26</th>\n",
              "      <td>143.740540</td>\n",
              "      <td>99.220001</td>\n",
              "      <td>160.270004</td>\n",
              "      <td>143.960007</td>\n",
              "      <td>99.220001</td>\n",
              "      <td>160.270004</td>\n",
              "      <td>144.250000</td>\n",
              "      <td>99.489998</td>\n",
              "      <td>161.419998</td>\n",
              "      <td>141.899994</td>\n",
              "      <td>96.919998</td>\n",
              "      <td>154.759995</td>\n",
              "      <td>143.169998</td>\n",
              "      <td>98.239998</td>\n",
              "      <td>159.970001</td>\n",
              "      <td>54105100</td>\n",
              "      <td>68523600</td>\n",
              "      <td>234815100</td>\n",
              "    </tr>\n",
              "    <tr>\n",
              "      <th>2023-01-27</th>\n",
              "      <td>145.707520</td>\n",
              "      <td>102.239998</td>\n",
              "      <td>177.899994</td>\n",
              "      <td>145.929993</td>\n",
              "      <td>102.239998</td>\n",
              "      <td>177.899994</td>\n",
              "      <td>147.229996</td>\n",
              "      <td>103.489998</td>\n",
              "      <td>180.679993</td>\n",
              "      <td>143.080002</td>\n",
              "      <td>99.529999</td>\n",
              "      <td>161.169998</td>\n",
              "      <td>143.160004</td>\n",
              "      <td>99.529999</td>\n",
              "      <td>162.429993</td>\n",
              "      <td>70555800</td>\n",
              "      <td>87775600</td>\n",
              "      <td>306590600</td>\n",
              "    </tr>\n",
              "    <tr>\n",
              "      <th>2023-01-30</th>\n",
              "      <td>142.781998</td>\n",
              "      <td>100.550003</td>\n",
              "      <td>166.660004</td>\n",
              "      <td>143.000000</td>\n",
              "      <td>100.550003</td>\n",
              "      <td>166.660004</td>\n",
              "      <td>145.550003</td>\n",
              "      <td>101.739998</td>\n",
              "      <td>179.770004</td>\n",
              "      <td>142.850006</td>\n",
              "      <td>99.010002</td>\n",
              "      <td>166.500000</td>\n",
              "      <td>144.960007</td>\n",
              "      <td>101.089996</td>\n",
              "      <td>178.050003</td>\n",
              "      <td>64015300</td>\n",
              "      <td>70691900</td>\n",
              "      <td>230878800</td>\n",
              "    </tr>\n",
              "    <tr>\n",
              "      <th>2023-01-31</th>\n",
              "      <td>144.070023</td>\n",
              "      <td>103.129997</td>\n",
              "      <td>173.220001</td>\n",
              "      <td>144.289993</td>\n",
              "      <td>103.129997</td>\n",
              "      <td>173.220001</td>\n",
              "      <td>144.339996</td>\n",
              "      <td>103.349998</td>\n",
              "      <td>174.300003</td>\n",
              "      <td>142.279999</td>\n",
              "      <td>101.139999</td>\n",
              "      <td>162.779999</td>\n",
              "      <td>142.699997</td>\n",
              "      <td>101.160004</td>\n",
              "      <td>164.570007</td>\n",
              "      <td>65874500</td>\n",
              "      <td>66527300</td>\n",
              "      <td>196813500</td>\n",
              "    </tr>\n",
              "    <tr>\n",
              "      <th>2023-02-01</th>\n",
              "      <td>145.208282</td>\n",
              "      <td>105.150002</td>\n",
              "      <td>181.410004</td>\n",
              "      <td>145.429993</td>\n",
              "      <td>105.150002</td>\n",
              "      <td>181.410004</td>\n",
              "      <td>146.610001</td>\n",
              "      <td>106.239998</td>\n",
              "      <td>183.809998</td>\n",
              "      <td>141.320007</td>\n",
              "      <td>101.239998</td>\n",
              "      <td>169.929993</td>\n",
              "      <td>143.970001</td>\n",
              "      <td>102.529999</td>\n",
              "      <td>173.889999</td>\n",
              "      <td>77663600</td>\n",
              "      <td>80450100</td>\n",
              "      <td>213806300</td>\n",
              "    </tr>\n",
              "    <tr>\n",
              "      <th>2023-02-02</th>\n",
              "      <td>150.590088</td>\n",
              "      <td>112.910004</td>\n",
              "      <td>188.270004</td>\n",
              "      <td>150.820007</td>\n",
              "      <td>112.910004</td>\n",
              "      <td>188.270004</td>\n",
              "      <td>151.179993</td>\n",
              "      <td>114.000000</td>\n",
              "      <td>196.750000</td>\n",
              "      <td>148.169998</td>\n",
              "      <td>108.879997</td>\n",
              "      <td>182.610001</td>\n",
              "      <td>148.899994</td>\n",
              "      <td>110.250000</td>\n",
              "      <td>187.330002</td>\n",
              "      <td>118339000</td>\n",
              "      <td>158154200</td>\n",
              "      <td>217448300</td>\n",
              "    </tr>\n",
              "    <tr>\n",
              "      <th>2023-02-03</th>\n",
              "      <td>154.264465</td>\n",
              "      <td>103.389999</td>\n",
              "      <td>189.979996</td>\n",
              "      <td>154.500000</td>\n",
              "      <td>103.389999</td>\n",
              "      <td>189.979996</td>\n",
              "      <td>157.380005</td>\n",
              "      <td>108.779999</td>\n",
              "      <td>199.000000</td>\n",
              "      <td>147.830002</td>\n",
              "      <td>102.519997</td>\n",
              "      <td>183.690002</td>\n",
              "      <td>148.029999</td>\n",
              "      <td>105.260002</td>\n",
              "      <td>183.949997</td>\n",
              "      <td>154357300</td>\n",
              "      <td>144374800</td>\n",
              "      <td>232662000</td>\n",
              "    </tr>\n",
              "    <tr>\n",
              "      <th>2023-02-06</th>\n",
              "      <td>151.498688</td>\n",
              "      <td>102.180000</td>\n",
              "      <td>194.759995</td>\n",
              "      <td>151.729996</td>\n",
              "      <td>102.180000</td>\n",
              "      <td>194.759995</td>\n",
              "      <td>153.100006</td>\n",
              "      <td>103.949997</td>\n",
              "      <td>198.169998</td>\n",
              "      <td>150.779999</td>\n",
              "      <td>100.650002</td>\n",
              "      <td>189.919998</td>\n",
              "      <td>152.570007</td>\n",
              "      <td>102.930000</td>\n",
              "      <td>193.009995</td>\n",
              "      <td>69858300</td>\n",
              "      <td>81945200</td>\n",
              "      <td>186188100</td>\n",
              "    </tr>\n",
              "    <tr>\n",
              "      <th>2023-02-07</th>\n",
              "      <td>154.414230</td>\n",
              "      <td>102.110001</td>\n",
              "      <td>196.809998</td>\n",
              "      <td>154.649994</td>\n",
              "      <td>102.110001</td>\n",
              "      <td>196.809998</td>\n",
              "      <td>155.229996</td>\n",
              "      <td>102.410004</td>\n",
              "      <td>197.500000</td>\n",
              "      <td>150.639999</td>\n",
              "      <td>98.080002</td>\n",
              "      <td>189.550003</td>\n",
              "      <td>150.639999</td>\n",
              "      <td>101.169998</td>\n",
              "      <td>196.429993</td>\n",
              "      <td>83322600</td>\n",
              "      <td>119501300</td>\n",
              "      <td>186010300</td>\n",
              "    </tr>\n",
              "    <tr>\n",
              "      <th>2023-02-08</th>\n",
              "      <td>151.688400</td>\n",
              "      <td>100.050003</td>\n",
              "      <td>201.289993</td>\n",
              "      <td>151.919998</td>\n",
              "      <td>100.050003</td>\n",
              "      <td>201.289993</td>\n",
              "      <td>154.580002</td>\n",
              "      <td>102.669998</td>\n",
              "      <td>203.000000</td>\n",
              "      <td>151.169998</td>\n",
              "      <td>98.779999</td>\n",
              "      <td>194.309998</td>\n",
              "      <td>153.880005</td>\n",
              "      <td>102.040001</td>\n",
              "      <td>196.100006</td>\n",
              "      <td>64120100</td>\n",
              "      <td>75878300</td>\n",
              "      <td>180673600</td>\n",
              "    </tr>\n",
              "    <tr>\n",
              "      <th>2023-02-09</th>\n",
              "      <td>150.639999</td>\n",
              "      <td>98.239998</td>\n",
              "      <td>207.320007</td>\n",
              "      <td>150.869995</td>\n",
              "      <td>98.239998</td>\n",
              "      <td>207.320007</td>\n",
              "      <td>154.330002</td>\n",
              "      <td>101.779999</td>\n",
              "      <td>214.000000</td>\n",
              "      <td>150.419998</td>\n",
              "      <td>97.570000</td>\n",
              "      <td>204.770004</td>\n",
              "      <td>153.779999</td>\n",
              "      <td>101.320000</td>\n",
              "      <td>207.779999</td>\n",
              "      <td>56007100</td>\n",
              "      <td>64622500</td>\n",
              "      <td>215431400</td>\n",
              "    </tr>\n",
              "    <tr>\n",
              "      <th>2023-02-10</th>\n",
              "      <td>151.009995</td>\n",
              "      <td>97.610001</td>\n",
              "      <td>196.889999</td>\n",
              "      <td>151.009995</td>\n",
              "      <td>97.610001</td>\n",
              "      <td>196.889999</td>\n",
              "      <td>151.339996</td>\n",
              "      <td>98.820000</td>\n",
              "      <td>206.199997</td>\n",
              "      <td>149.220001</td>\n",
              "      <td>96.230003</td>\n",
              "      <td>192.889999</td>\n",
              "      <td>149.460007</td>\n",
              "      <td>97.559998</td>\n",
              "      <td>202.229996</td>\n",
              "      <td>57450700</td>\n",
              "      <td>52740100</td>\n",
              "      <td>204754100</td>\n",
              "    </tr>\n",
              "    <tr>\n",
              "      <th>2023-02-13</th>\n",
              "      <td>153.850006</td>\n",
              "      <td>99.540001</td>\n",
              "      <td>194.639999</td>\n",
              "      <td>153.850006</td>\n",
              "      <td>99.540001</td>\n",
              "      <td>194.639999</td>\n",
              "      <td>154.259995</td>\n",
              "      <td>99.680000</td>\n",
              "      <td>196.300003</td>\n",
              "      <td>150.919998</td>\n",
              "      <td>96.910004</td>\n",
              "      <td>187.610001</td>\n",
              "      <td>150.949997</td>\n",
              "      <td>97.849998</td>\n",
              "      <td>194.419998</td>\n",
              "      <td>62199000</td>\n",
              "      <td>52841500</td>\n",
              "      <td>172475500</td>\n",
              "    </tr>\n",
              "    <tr>\n",
              "      <th>2023-02-14</th>\n",
              "      <td>153.199997</td>\n",
              "      <td>99.699997</td>\n",
              "      <td>209.250000</td>\n",
              "      <td>153.199997</td>\n",
              "      <td>99.699997</td>\n",
              "      <td>209.250000</td>\n",
              "      <td>153.770004</td>\n",
              "      <td>100.919998</td>\n",
              "      <td>209.820007</td>\n",
              "      <td>150.860001</td>\n",
              "      <td>97.519997</td>\n",
              "      <td>189.440002</td>\n",
              "      <td>152.119995</td>\n",
              "      <td>98.410004</td>\n",
              "      <td>191.940002</td>\n",
              "      <td>61707600</td>\n",
              "      <td>56202900</td>\n",
              "      <td>216455700</td>\n",
              "    </tr>\n",
              "    <tr>\n",
              "      <th>2023-02-15</th>\n",
              "      <td>155.330002</td>\n",
              "      <td>101.160004</td>\n",
              "      <td>214.240005</td>\n",
              "      <td>155.330002</td>\n",
              "      <td>101.160004</td>\n",
              "      <td>214.240005</td>\n",
              "      <td>155.500000</td>\n",
              "      <td>101.169998</td>\n",
              "      <td>214.660004</td>\n",
              "      <td>152.880005</td>\n",
              "      <td>98.449997</td>\n",
              "      <td>206.110001</td>\n",
              "      <td>153.110001</td>\n",
              "      <td>99.089996</td>\n",
              "      <td>211.759995</td>\n",
              "      <td>65573800</td>\n",
              "      <td>47957600</td>\n",
              "      <td>181006400</td>\n",
              "    </tr>\n",
              "    <tr>\n",
              "      <th>2023-02-16</th>\n",
              "      <td>153.710007</td>\n",
              "      <td>98.150002</td>\n",
              "      <td>202.039993</td>\n",
              "      <td>153.710007</td>\n",
              "      <td>98.150002</td>\n",
              "      <td>202.039993</td>\n",
              "      <td>156.330002</td>\n",
              "      <td>100.629997</td>\n",
              "      <td>217.649994</td>\n",
              "      <td>153.350006</td>\n",
              "      <td>98.099998</td>\n",
              "      <td>201.839996</td>\n",
              "      <td>153.509995</td>\n",
              "      <td>99.209999</td>\n",
              "      <td>210.779999</td>\n",
              "      <td>68167900</td>\n",
              "      <td>56339200</td>\n",
              "      <td>229586500</td>\n",
              "    </tr>\n",
              "    <tr>\n",
              "      <th>2023-02-17</th>\n",
              "      <td>152.550003</td>\n",
              "      <td>97.199997</td>\n",
              "      <td>208.309998</td>\n",
              "      <td>152.550003</td>\n",
              "      <td>97.199997</td>\n",
              "      <td>208.309998</td>\n",
              "      <td>153.000000</td>\n",
              "      <td>97.940002</td>\n",
              "      <td>208.440002</td>\n",
              "      <td>150.850006</td>\n",
              "      <td>95.650002</td>\n",
              "      <td>197.500000</td>\n",
              "      <td>152.350006</td>\n",
              "      <td>97.800003</td>\n",
              "      <td>199.990005</td>\n",
              "      <td>59144100</td>\n",
              "      <td>60029400</td>\n",
              "      <td>213738500</td>\n",
              "    </tr>\n",
              "    <tr>\n",
              "      <th>2023-02-21</th>\n",
              "      <td>148.479996</td>\n",
              "      <td>94.580002</td>\n",
              "      <td>197.369995</td>\n",
              "      <td>148.479996</td>\n",
              "      <td>94.580002</td>\n",
              "      <td>197.369995</td>\n",
              "      <td>151.300003</td>\n",
              "      <td>95.610001</td>\n",
              "      <td>209.710007</td>\n",
              "      <td>148.410004</td>\n",
              "      <td>94.269997</td>\n",
              "      <td>197.220001</td>\n",
              "      <td>150.199997</td>\n",
              "      <td>95.339996</td>\n",
              "      <td>204.990005</td>\n",
              "      <td>58867200</td>\n",
              "      <td>56580400</td>\n",
              "      <td>180018600</td>\n",
              "    </tr>\n",
              "    <tr>\n",
              "      <th>2023-02-22</th>\n",
              "      <td>148.910004</td>\n",
              "      <td>95.790001</td>\n",
              "      <td>200.860001</td>\n",
              "      <td>148.910004</td>\n",
              "      <td>95.790001</td>\n",
              "      <td>200.860001</td>\n",
              "      <td>149.949997</td>\n",
              "      <td>97.010002</td>\n",
              "      <td>201.990005</td>\n",
              "      <td>147.160004</td>\n",
              "      <td>94.800003</td>\n",
              "      <td>191.779999</td>\n",
              "      <td>148.869995</td>\n",
              "      <td>95.099998</td>\n",
              "      <td>197.929993</td>\n",
              "      <td>51011300</td>\n",
              "      <td>59534100</td>\n",
              "      <td>191828500</td>\n",
              "    </tr>\n",
              "    <tr>\n",
              "      <th>2023-02-23</th>\n",
              "      <td>149.399994</td>\n",
              "      <td>95.820000</td>\n",
              "      <td>202.070007</td>\n",
              "      <td>149.399994</td>\n",
              "      <td>95.820000</td>\n",
              "      <td>202.070007</td>\n",
              "      <td>150.339996</td>\n",
              "      <td>96.430000</td>\n",
              "      <td>205.139999</td>\n",
              "      <td>147.240005</td>\n",
              "      <td>93.669998</td>\n",
              "      <td>196.330002</td>\n",
              "      <td>150.089996</td>\n",
              "      <td>96.120003</td>\n",
              "      <td>203.910004</td>\n",
              "      <td>48394200</td>\n",
              "      <td>48467000</td>\n",
              "      <td>146360000</td>\n",
              "    </tr>\n",
              "    <tr>\n",
              "      <th>2023-02-24</th>\n",
              "      <td>146.710007</td>\n",
              "      <td>93.500000</td>\n",
              "      <td>196.880005</td>\n",
              "      <td>146.710007</td>\n",
              "      <td>93.500000</td>\n",
              "      <td>196.880005</td>\n",
              "      <td>147.190002</td>\n",
              "      <td>94.139999</td>\n",
              "      <td>197.669998</td>\n",
              "      <td>145.720001</td>\n",
              "      <td>92.320000</td>\n",
              "      <td>192.800003</td>\n",
              "      <td>147.110001</td>\n",
              "      <td>93.529999</td>\n",
              "      <td>196.330002</td>\n",
              "      <td>55469600</td>\n",
              "      <td>57053800</td>\n",
              "      <td>142228100</td>\n",
              "    </tr>\n",
              "    <tr>\n",
              "      <th>2023-02-27</th>\n",
              "      <td>147.919998</td>\n",
              "      <td>93.760002</td>\n",
              "      <td>207.630005</td>\n",
              "      <td>147.919998</td>\n",
              "      <td>93.760002</td>\n",
              "      <td>207.630005</td>\n",
              "      <td>149.169998</td>\n",
              "      <td>94.779999</td>\n",
              "      <td>209.419998</td>\n",
              "      <td>147.449997</td>\n",
              "      <td>93.139999</td>\n",
              "      <td>201.259995</td>\n",
              "      <td>147.710007</td>\n",
              "      <td>94.279999</td>\n",
              "      <td>202.029999</td>\n",
              "      <td>44998500</td>\n",
              "      <td>47470300</td>\n",
              "      <td>161028300</td>\n",
              "    </tr>\n",
              "    <tr>\n",
              "      <th>2023-02-28</th>\n",
              "      <td>147.410004</td>\n",
              "      <td>94.230003</td>\n",
              "      <td>205.710007</td>\n",
              "      <td>147.410004</td>\n",
              "      <td>94.230003</td>\n",
              "      <td>205.710007</td>\n",
              "      <td>149.080002</td>\n",
              "      <td>94.690002</td>\n",
              "      <td>211.229996</td>\n",
              "      <td>146.830002</td>\n",
              "      <td>92.919998</td>\n",
              "      <td>203.750000</td>\n",
              "      <td>147.050003</td>\n",
              "      <td>93.139999</td>\n",
              "      <td>210.589996</td>\n",
              "      <td>50547000</td>\n",
              "      <td>43959300</td>\n",
              "      <td>153144900</td>\n",
              "    </tr>\n",
              "  </tbody>\n",
              "</table>\n",
              "</div>\n",
              "      <button class=\"colab-df-convert\" onclick=\"convertToInteractive('df-e8b8385d-258f-4baa-b210-04e843d22a6d')\"\n",
              "              title=\"Convert this dataframe to an interactive table.\"\n",
              "              style=\"display:none;\">\n",
              "        \n",
              "  <svg xmlns=\"http://www.w3.org/2000/svg\" height=\"24px\"viewBox=\"0 0 24 24\"\n",
              "       width=\"24px\">\n",
              "    <path d=\"M0 0h24v24H0V0z\" fill=\"none\"/>\n",
              "    <path d=\"M18.56 5.44l.94 2.06.94-2.06 2.06-.94-2.06-.94-.94-2.06-.94 2.06-2.06.94zm-11 1L8.5 8.5l.94-2.06 2.06-.94-2.06-.94L8.5 2.5l-.94 2.06-2.06.94zm10 10l.94 2.06.94-2.06 2.06-.94-2.06-.94-.94-2.06-.94 2.06-2.06.94z\"/><path d=\"M17.41 7.96l-1.37-1.37c-.4-.4-.92-.59-1.43-.59-.52 0-1.04.2-1.43.59L10.3 9.45l-7.72 7.72c-.78.78-.78 2.05 0 2.83L4 21.41c.39.39.9.59 1.41.59.51 0 1.02-.2 1.41-.59l7.78-7.78 2.81-2.81c.8-.78.8-2.07 0-2.86zM5.41 20L4 18.59l7.72-7.72 1.47 1.35L5.41 20z\"/>\n",
              "  </svg>\n",
              "      </button>\n",
              "      \n",
              "  <style>\n",
              "    .colab-df-container {\n",
              "      display:flex;\n",
              "      flex-wrap:wrap;\n",
              "      gap: 12px;\n",
              "    }\n",
              "\n",
              "    .colab-df-convert {\n",
              "      background-color: #E8F0FE;\n",
              "      border: none;\n",
              "      border-radius: 50%;\n",
              "      cursor: pointer;\n",
              "      display: none;\n",
              "      fill: #1967D2;\n",
              "      height: 32px;\n",
              "      padding: 0 0 0 0;\n",
              "      width: 32px;\n",
              "    }\n",
              "\n",
              "    .colab-df-convert:hover {\n",
              "      background-color: #E2EBFA;\n",
              "      box-shadow: 0px 1px 2px rgba(60, 64, 67, 0.3), 0px 1px 3px 1px rgba(60, 64, 67, 0.15);\n",
              "      fill: #174EA6;\n",
              "    }\n",
              "\n",
              "    [theme=dark] .colab-df-convert {\n",
              "      background-color: #3B4455;\n",
              "      fill: #D2E3FC;\n",
              "    }\n",
              "\n",
              "    [theme=dark] .colab-df-convert:hover {\n",
              "      background-color: #434B5C;\n",
              "      box-shadow: 0px 1px 3px 1px rgba(0, 0, 0, 0.15);\n",
              "      filter: drop-shadow(0px 1px 2px rgba(0, 0, 0, 0.3));\n",
              "      fill: #FFFFFF;\n",
              "    }\n",
              "  </style>\n",
              "\n",
              "      <script>\n",
              "        const buttonEl =\n",
              "          document.querySelector('#df-e8b8385d-258f-4baa-b210-04e843d22a6d button.colab-df-convert');\n",
              "        buttonEl.style.display =\n",
              "          google.colab.kernel.accessAllowed ? 'block' : 'none';\n",
              "\n",
              "        async function convertToInteractive(key) {\n",
              "          const element = document.querySelector('#df-e8b8385d-258f-4baa-b210-04e843d22a6d');\n",
              "          const dataTable =\n",
              "            await google.colab.kernel.invokeFunction('convertToInteractive',\n",
              "                                                     [key], {});\n",
              "          if (!dataTable) return;\n",
              "\n",
              "          const docLinkHtml = 'Like what you see? Visit the ' +\n",
              "            '<a target=\"_blank\" href=https://colab.research.google.com/notebooks/data_table.ipynb>data table notebook</a>'\n",
              "            + ' to learn more about interactive tables.';\n",
              "          element.innerHTML = '';\n",
              "          dataTable['output_type'] = 'display_data';\n",
              "          await google.colab.output.renderOutput(dataTable, element);\n",
              "          const docLink = document.createElement('div');\n",
              "          docLink.innerHTML = docLinkHtml;\n",
              "          element.appendChild(docLink);\n",
              "        }\n",
              "      </script>\n",
              "    </div>\n",
              "  </div>\n",
              "  "
            ]
          },
          "metadata": {},
          "execution_count": 6
        }
      ]
    },
    {
      "cell_type": "code",
      "execution_count": 7,
      "metadata": {
        "colab": {
          "base_uri": "https://localhost:8080/",
          "height": 298
        },
        "id": "XMkcuHQfgCjY",
        "outputId": "0c9352d7-750c-4cff-f13b-c1d8e1f1f0ef"
      },
      "outputs": [
        {
          "output_type": "execute_result",
          "data": {
            "text/plain": [
              "Text(0.5, 0, 'Open price')"
            ]
          },
          "metadata": {},
          "execution_count": 7
        },
        {
          "output_type": "display_data",
          "data": {
            "text/plain": [
              "<Figure size 432x288 with 4 Axes>"
            ],
            "image/png": "[encoded data removed]"
          },
          "metadata": {
            "needs_background": "light"
          }
        }
      ],
      "source": [
        "stock_data['Open'].hist(histtype='bar')\n",
        "plt.xlabel('Open price')"
      ]
    },
    {
      "cell_type": "code",
      "execution_count": 8,
      "metadata": {
        "colab": {
          "base_uri": "https://localhost:8080/",
          "height": 514
        },
        "id": "jIvNEtE4gCjY",
        "outputId": "d32eaf9a-cc40-4582-aa4b-cedf6499ee17"
      },
      "outputs": [
        {
          "output_type": "execute_result",
          "data": {
            "text/plain": [
              "<matplotlib.legend.Legend at 0x7f95487361c0>"
            ]
          },
          "metadata": {},
          "execution_count": 8
        },
        {
          "output_type": "display_data",
          "data": {
            "text/plain": [
              "<Figure size 1152x576 with 1 Axes>"
            ],
            "image/png": "[encoded data removed]"
          },
          "metadata": {
            "needs_background": "light"
          }
        }
      ],
      "source": [
        "stock_data['Open'].plot(label='Open',figsize=(16,8),title='Open Price')\n",
        "plt.legend()"
      ]
    },
    {
      "cell_type": "code",
      "execution_count": null,
      "metadata": {
        "id": "F0f372O4gCjZ"
      },
      "outputs": [],
      "source": [
        "#Create a new column for each dataframe called \"Total Traded\" which is the Open Price multiplied by the Volume Traded.**"
      ]
    },
    {
      "cell_type": "code",
      "source": [
        "stock_data['Total Traded','AAPL'] = stock_data['Open','AAPL']*stock_data['Volume','AAPL']\n",
        "stock_data['Total Traded','AMZN'] = stock_data['Open','AMZN']*stock_data['Volume','AMZN']\n",
        "stock_data['Total Traded','TSLA'] = stock_data['Open','TSLA']*stock_data['Volume','TSLA']"
      ],
      "metadata": {
        "id": "SouNKkAwohK3"
      },
      "execution_count": 25,
      "outputs": []
    },
    {
      "cell_type": "code",
      "source": [
        "stock_data"
      ],
      "metadata": {
        "colab": {
          "base_uri": "https://localhost:8080/",
          "height": 1000
        },
        "id": "5UmEsYkWog7O",
        "outputId": "4fc812b7-734c-4e1b-9d87-93084ba77898"
      },
      "execution_count": 88,
      "outputs": [
        {
          "output_type": "execute_result",
          "data": {
            "text/plain": [
              "             Adj Close                               Close              \\\n",
              "                  AAPL        AMZN        TSLA        AAPL        AMZN   \n",
              "Date                                                                     \n",
              "2023-01-03  124.879326   85.820000  108.099998  125.070000   85.820000   \n",
              "2023-01-04  126.167366   85.139999  113.639999  126.360001   85.139999   \n",
              "2023-01-05  124.829399   83.120003  110.339996  125.019997   83.120003   \n",
              "2023-01-06  129.422394   86.080002  113.059998  129.619995   86.080002   \n",
              "2023-01-09  129.951584   87.360001  119.769997  130.149994   87.360001   \n",
              "2023-01-10  130.530701   89.870003  118.849998  130.729996   89.870003   \n",
              "2023-01-11  133.286499   95.089996  123.220001  133.490005   95.089996   \n",
              "2023-01-12  133.206619   95.269997  123.559998  133.410004   95.269997   \n",
              "2023-01-13  134.554550   98.120003  122.400002  134.759995   98.120003   \n",
              "2023-01-17  135.732758   96.050003  131.490005  135.940002   96.050003   \n",
              "2023-01-18  135.003876   95.459999  128.779999  135.210007   95.459999   \n",
              "2023-01-19  135.063782   93.680000  127.169998  135.270004   93.680000   \n",
              "2023-01-20  137.659805   97.250000  133.419998  137.869995   97.250000   \n",
              "2023-01-23  140.894882   97.519997  143.750000  141.110001   97.519997   \n",
              "2023-01-24  142.312714   96.320000  143.889999  142.529999   96.320000   \n",
              "2023-01-25  141.643738   97.180000  144.429993  141.860001   97.180000   \n",
              "2023-01-26  143.740540   99.220001  160.270004  143.960007   99.220001   \n",
              "2023-01-27  145.707520  102.239998  177.899994  145.929993  102.239998   \n",
              "2023-01-30  142.781998  100.550003  166.660004  143.000000  100.550003   \n",
              "2023-01-31  144.070023  103.129997  173.220001  144.289993  103.129997   \n",
              "2023-02-01  145.208282  105.150002  181.410004  145.429993  105.150002   \n",
              "2023-02-02  150.590088  112.910004  188.270004  150.820007  112.910004   \n",
              "2023-02-03  154.264465  103.389999  189.979996  154.500000  103.389999   \n",
              "2023-02-06  151.498688  102.180000  194.759995  151.729996  102.180000   \n",
              "2023-02-07  154.414230  102.110001  196.809998  154.649994  102.110001   \n",
              "2023-02-08  151.688400  100.050003  201.289993  151.919998  100.050003   \n",
              "2023-02-09  150.639999   98.239998  207.320007  150.869995   98.239998   \n",
              "2023-02-10  151.009995   97.610001  196.889999  151.009995   97.610001   \n",
              "2023-02-13  153.850006   99.540001  194.639999  153.850006   99.540001   \n",
              "2023-02-14  153.199997   99.699997  209.250000  153.199997   99.699997   \n",
              "2023-02-15  155.330002  101.160004  214.240005  155.330002  101.160004   \n",
              "2023-02-16  153.710007   98.150002  202.039993  153.710007   98.150002   \n",
              "2023-02-17  152.550003   97.199997  208.309998  152.550003   97.199997   \n",
              "2023-02-21  148.479996   94.580002  197.369995  148.479996   94.580002   \n",
              "2023-02-22  148.910004   95.790001  200.860001  148.910004   95.790001   \n",
              "2023-02-23  149.399994   95.820000  202.070007  149.399994   95.820000   \n",
              "2023-02-24  146.710007   93.500000  196.880005  146.710007   93.500000   \n",
              "2023-02-27  147.919998   93.760002  207.630005  147.919998   93.760002   \n",
              "2023-02-28  147.410004   94.230003  205.710007  147.410004   94.230003   \n",
              "\n",
              "                              High                                 Low  ...  \\\n",
              "                  TSLA        AAPL        AMZN        TSLA        AAPL  ...   \n",
              "Date                                                                    ...   \n",
              "2023-01-03  108.099998  130.899994   86.959999  118.800003  124.169998  ...   \n",
              "2023-01-04  113.639999  128.660004   86.980003  114.589996  125.080002  ...   \n",
              "2023-01-05  110.339996  127.769997   85.419998  111.750000  124.760002  ...   \n",
              "2023-01-06  113.059998  130.289993   86.400002  114.389999  124.889999  ...   \n",
              "2023-01-09  119.769997  133.410004   89.480003  123.519997  129.889999  ...   \n",
              "2023-01-10  118.849998  131.259995   90.190002  122.760002  128.119995  ...   \n",
              "2023-01-11  123.220001  133.509995   95.260002  125.949997  130.460007  ...   \n",
              "2023-01-12  123.559998  134.259995   97.190002  124.129997  131.440002  ...   \n",
              "2023-01-13  122.400002  134.919998   98.370003  122.629997  131.660004  ...   \n",
              "2023-01-17  131.490005  137.289993   98.889999  131.699997  134.130005  ...   \n",
              "2023-01-18  128.779999  138.610001   99.320000  136.679993  135.029999  ...   \n",
              "2023-01-19  127.169998  136.250000   95.440002  129.990005  133.770004  ...   \n",
              "2023-01-20  133.419998  138.020004   97.349998  133.509995  134.220001  ...   \n",
              "2023-01-23  143.750000  143.320007   97.779999  145.380005  137.899994  ...   \n",
              "2023-01-24  143.889999  143.160004   98.089996  146.500000  140.300003  ...   \n",
              "2023-01-25  144.429993  142.429993   97.239998  146.410004  138.809998  ...   \n",
              "2023-01-26  160.270004  144.250000   99.489998  161.419998  141.899994  ...   \n",
              "2023-01-27  177.899994  147.229996  103.489998  180.679993  143.080002  ...   \n",
              "2023-01-30  166.660004  145.550003  101.739998  179.770004  142.850006  ...   \n",
              "2023-01-31  173.220001  144.339996  103.349998  174.300003  142.279999  ...   \n",
              "2023-02-01  181.410004  146.610001  106.239998  183.809998  141.320007  ...   \n",
              "2023-02-02  188.270004  151.179993  114.000000  196.750000  148.169998  ...   \n",
              "2023-02-03  189.979996  157.380005  108.779999  199.000000  147.830002  ...   \n",
              "2023-02-06  194.759995  153.100006  103.949997  198.169998  150.779999  ...   \n",
              "2023-02-07  196.809998  155.229996  102.410004  197.500000  150.639999  ...   \n",
              "2023-02-08  201.289993  154.580002  102.669998  203.000000  151.169998  ...   \n",
              "2023-02-09  207.320007  154.330002  101.779999  214.000000  150.419998  ...   \n",
              "2023-02-10  196.889999  151.339996   98.820000  206.199997  149.220001  ...   \n",
              "2023-02-13  194.639999  154.259995   99.680000  196.300003  150.919998  ...   \n",
              "2023-02-14  209.250000  153.770004  100.919998  209.820007  150.860001  ...   \n",
              "2023-02-15  214.240005  155.500000  101.169998  214.660004  152.880005  ...   \n",
              "2023-02-16  202.039993  156.330002  100.629997  217.649994  153.350006  ...   \n",
              "2023-02-17  208.309998  153.000000   97.940002  208.440002  150.850006  ...   \n",
              "2023-02-21  197.369995  151.300003   95.610001  209.710007  148.410004  ...   \n",
              "2023-02-22  200.860001  149.949997   97.010002  201.990005  147.160004  ...   \n",
              "2023-02-23  202.070007  150.339996   96.430000  205.139999  147.240005  ...   \n",
              "2023-02-24  196.880005  147.190002   94.139999  197.669998  145.720001  ...   \n",
              "2023-02-27  207.630005  149.169998   94.779999  209.419998  147.449997  ...   \n",
              "2023-02-28  205.710007  149.080002   94.690002  211.229996  146.830002  ...   \n",
              "\n",
              "            Total Traded                       MA5        MA10         MA5  \\\n",
              "                    AMZN          TSLA                                AAPL   \n",
              "Date                                                                         \n",
              "2023-01-03  6.555295e+09  2.741429e+10         NaN         NaN         NaN   \n",
              "2023-01-04  5.962006e+09  1.968224e+10         NaN         NaN         NaN   \n",
              "2023-01-05  5.796535e+09  1.745907e+10         NaN         NaN         NaN   \n",
              "2023-01-06  6.916681e+09  2.275384e+10         NaN         NaN         NaN   \n",
              "2023-01-09  5.708173e+09  2.263618e+10  112.981998         NaN  127.243997   \n",
              "2023-01-10  5.933445e+09  2.029648e+10  115.131998         NaN  128.375996   \n",
              "2023-01-11  9.377265e+09  2.244146e+10  117.047998         NaN  129.801997   \n",
              "2023-01-12  8.263748e+09  2.076177e+10  119.691998         NaN  131.479999   \n",
              "2023-01-13  8.057043e+09  2.106223e+10  121.559999         NaN  132.507999   \n",
              "2023-01-17  7.179463e+09  2.344016e+10  123.904001  118.442999  133.666000   \n",
              "2023-01-18  7.738221e+09  2.672210e+10  125.890001  120.510999  134.562003   \n",
              "2023-01-19  6.537316e+09  2.167135e+10  126.680000  121.863999  134.918002   \n",
              "2023-01-20  6.333814e+09  1.786826e+10  128.652000  124.171999  135.810001   \n",
              "2023-01-23  7.463447e+09  2.759780e+10  132.922000  127.241000  137.080002   \n",
              "2023-01-24  6.487476e+09  2.269397e+10  135.401999  129.653000  138.398001   \n",
              "2023-01-25  8.724853e+09  2.735093e+10  138.531998  132.210999  139.728000   \n",
              "2023-01-26  6.731758e+09  3.756337e+10  145.151999  135.916000  141.466000   \n",
              "2023-01-27  8.736305e+09  4.979951e+10  154.047998  141.349999  143.078000   \n",
              "2023-01-30  7.146244e+09  4.110797e+10  158.629999  145.775999  143.456000   \n",
              "2023-01-31  6.729902e+09  3.238960e+10  164.495999  149.948999  143.807999   \n",
              "2023-02-01  8.248549e+09  3.717878e+10  171.892001  155.212000  144.521997   \n",
              "2023-02-02  1.743650e+10  4.073459e+10  177.492001  161.322000  145.893997   \n",
              "2023-02-03  1.519689e+10  4.279817e+10  179.908002  166.978000  147.607999   \n",
              "2023-02-06  8.434619e+09  3.593616e+10  185.528000  172.078999  149.353998   \n",
              "2023-02-07  1.208995e+10  3.653800e+10  190.245999  177.370999  151.425998   \n",
              "2023-02-08  7.742622e+09  3.543009e+10  194.221997  183.056999  152.723999   \n",
              "2023-02-09  6.547552e+09  4.476234e+10  198.031998  187.762000  152.733997   \n",
              "2023-02-10  5.145324e+09  4.140742e+10  199.413998  189.661000  152.035995   \n",
              "2023-02-13  5.170541e+09  3.353269e+10  199.389999  192.459000  152.459998   \n",
              "2023-02-14  5.530928e+09  4.154651e+10  201.878000  196.062000  152.169998   \n",
              "2023-02-15  4.752118e+09  3.832991e+10  204.468002  199.345000  152.851999   \n",
              "2023-02-16  5.589412e+09  4.839224e+10  203.412000  200.721999  153.420001   \n",
              "2023-02-17  5.870876e+09  4.274556e+10  205.695999  202.554999  153.728003   \n",
              "2023-02-21  5.394375e+09  3.690201e+10  206.241998  202.815999  152.654001   \n",
              "2023-02-22  5.661693e+09  3.796861e+10  204.563998  203.220999  151.796002   \n",
              "2023-02-23  4.658648e+09  2.984427e+10  202.129999  203.299001  150.610001   \n",
              "2023-02-24  5.336242e+09  2.792364e+10  201.098001  202.255000  149.210001   \n",
              "2023-02-27  4.475500e+09  3.253255e+10  200.962003  203.329001  148.284000   \n",
              "2023-02-28  4.094369e+09  3.225078e+10  202.630005  204.436002  148.070001   \n",
              "\n",
              "                  MA10         MA5        MA10         MA5        MA10  \n",
              "                  AAPL        AMZN        AMZN        TSLA        TSLA  \n",
              "Date                                                                    \n",
              "2023-01-03         NaN         NaN         NaN         NaN         NaN  \n",
              "2023-01-04         NaN         NaN         NaN         NaN         NaN  \n",
              "2023-01-05         NaN         NaN         NaN         NaN         NaN  \n",
              "2023-01-06         NaN         NaN         NaN         NaN         NaN  \n",
              "2023-01-09         NaN   85.504001         NaN  112.981998         NaN  \n",
              "2023-01-10         NaN   86.314001         NaN  115.131998         NaN  \n",
              "2023-01-11         NaN   88.304001         NaN  117.047998         NaN  \n",
              "2023-01-12         NaN   90.734000         NaN  119.691998         NaN  \n",
              "2023-01-13         NaN   93.142000         NaN  121.559999         NaN  \n",
              "2023-01-17  130.454999   94.880000   90.192001  123.904001  118.442999  \n",
              "2023-01-18  131.468999   95.998000   91.156001  125.890001  120.510999  \n",
              "2023-01-19  132.360000   95.716000   92.010001  126.680000  121.863999  \n",
              "2023-01-20  133.645000   96.112001   93.423000  128.652000  124.171999  \n",
              "2023-01-23  134.794000   95.992000   94.567000  132.922000  127.241000  \n",
              "2023-01-24  136.032001   96.045999   95.463000  135.401999  129.653000  \n",
              "2023-01-25  137.145001   96.389999   96.193999  138.531998  132.210999  \n",
              "2023-01-26  138.192001   97.498000   96.607000  145.151999  135.916000  \n",
              "2023-01-27  139.444000   98.495999   97.304000  154.047998  141.349999  \n",
              "2023-01-30  140.268001   99.102000   97.547000  158.629999  145.775999  \n",
              "2023-01-31  141.103000  100.464000   98.255000  164.495999  149.948999  \n",
              "2023-02-01  142.124998  102.058000   99.224000  171.892001  155.212000  \n",
              "2023-02-02  143.679999  104.796001  101.147000  177.492001  161.322000  \n",
              "2023-02-03  145.342999  105.026001  101.761000  179.908002  166.978000  \n",
              "2023-02-06  146.404999  105.352000  102.227000  185.528000  172.078999  \n",
              "2023-02-07  147.616998  105.148001  102.806001  190.245999  177.370999  \n",
              "2023-02-08  148.622998  104.128001  103.093001  194.221997  183.056999  \n",
              "2023-02-09  149.313997  101.194000  102.995000  198.031998  187.762000  \n",
              "2023-02-10  149.821997  100.038000  102.532001  199.413998  189.661000  \n",
              "2023-02-13  150.906998   99.510001  102.431001  199.389999  192.459000  \n",
              "2023-02-14  151.797998   99.028000  102.088000  201.878000  196.062000  \n",
              "2023-02-15  152.787999   99.250000  101.689001  204.468002  199.345000  \n",
              "2023-02-16  153.076999   99.232001  100.213000  203.412000  200.721999  \n",
              "2023-02-17  152.881999   99.150000   99.594000  205.695999  202.554999  \n",
              "2023-02-21  152.556999   98.158000   98.834000  206.241998  202.815999  \n",
              "2023-02-22  151.983000   97.376001   98.202000  204.563998  203.220999  \n",
              "2023-02-23  151.731000   96.308000   97.779000  202.129999  203.299001  \n",
              "2023-02-24  151.315001   95.378000   97.305000  201.098001  202.255000  \n",
              "2023-02-27  151.006001   94.690001   96.920000  200.962003  203.329001  \n",
              "2023-02-28  150.362001   94.620001   96.389001  202.630005  204.436002  \n",
              "\n",
              "[39 rows x 29 columns]"
            ],
            "text/html": [
              "\n",
              "  <div id=\"df-23da1b70-265f-40c4-8cf8-42dddf8e4526\">\n",
              "    <div class=\"colab-df-container\">\n",
              "      <div>\n",
              "<style scoped>\n",
              "    .dataframe tbody tr th:only-of-type {\n",
              "        vertical-align: middle;\n",
              "    }\n",
              "\n",
              "    .dataframe tbody tr th {\n",
              "        vertical-align: top;\n",
              "    }\n",
              "\n",
              "    .dataframe thead tr th {\n",
              "        text-align: left;\n",
              "    }\n",
              "\n",
              "    .dataframe thead tr:last-of-type th {\n",
              "        text-align: right;\n",
              "    }\n",
              "</style>\n",
              "<table border=\"1\" class=\"dataframe\">\n",
              "  <thead>\n",
              "    <tr>\n",
              "      <th></th>\n",
              "      <th colspan=\"3\" halign=\"left\">Adj Close</th>\n",
              "      <th colspan=\"3\" halign=\"left\">Close</th>\n",
              "      <th colspan=\"3\" halign=\"left\">High</th>\n",
              "      <th>Low</th>\n",
              "      <th>...</th>\n",
              "      <th colspan=\"2\" halign=\"left\">Total Traded</th>\n",
              "      <th>MA5</th>\n",
              "      <th>MA10</th>\n",
              "      <th>MA5</th>\n",
              "      <th>MA10</th>\n",
              "      <th>MA5</th>\n",
              "      <th>MA10</th>\n",
              "      <th>MA5</th>\n",
              "      <th>MA10</th>\n",
              "    </tr>\n",
              "    <tr>\n",
              "      <th></th>\n",
              "      <th>AAPL</th>\n",
              "      <th>AMZN</th>\n",
              "      <th>TSLA</th>\n",
              "      <th>AAPL</th>\n",
              "      <th>AMZN</th>\n",
              "      <th>TSLA</th>\n",
              "      <th>AAPL</th>\n",
              "      <th>AMZN</th>\n",
              "      <th>TSLA</th>\n",
              "      <th>AAPL</th>\n",
              "      <th>...</th>\n",
              "      <th>AMZN</th>\n",
              "      <th>TSLA</th>\n",
              "      <th></th>\n",
              "      <th></th>\n",
              "      <th>AAPL</th>\n",
              "      <th>AAPL</th>\n",
              "      <th>AMZN</th>\n",
              "      <th>AMZN</th>\n",
              "      <th>TSLA</th>\n",
              "      <th>TSLA</th>\n",
              "    </tr>\n",
              "    <tr>\n",
              "      <th>Date</th>\n",
              "      <th></th>\n",
              "      <th></th>\n",
              "      <th></th>\n",
              "      <th></th>\n",
              "      <th></th>\n",
              "      <th></th>\n",
              "      <th></th>\n",
              "      <th></th>\n",
              "      <th></th>\n",
              "      <th></th>\n",
              "      <th></th>\n",
              "      <th></th>\n",
              "      <th></th>\n",
              "      <th></th>\n",
              "      <th></th>\n",
              "      <th></th>\n",
              "      <th></th>\n",
              "      <th></th>\n",
              "      <th></th>\n",
              "      <th></th>\n",
              "      <th></th>\n",
              "    </tr>\n",
              "  </thead>\n",
              "  <tbody>\n",
              "    <tr>\n",
              "      <th>2023-01-03</th>\n",
              "      <td>124.879326</td>\n",
              "      <td>85.820000</td>\n",
              "      <td>108.099998</td>\n",
              "      <td>125.070000</td>\n",
              "      <td>85.820000</td>\n",
              "      <td>108.099998</td>\n",
              "      <td>130.899994</td>\n",
              "      <td>86.959999</td>\n",
              "      <td>118.800003</td>\n",
              "      <td>124.169998</td>\n",
              "      <td>...</td>\n",
              "      <td>6.555295e+09</td>\n",
              "      <td>2.741429e+10</td>\n",
              "      <td>NaN</td>\n",
              "      <td>NaN</td>\n",
              "      <td>NaN</td>\n",
              "      <td>NaN</td>\n",
              "      <td>NaN</td>\n",
              "      <td>NaN</td>\n",
              "      <td>NaN</td>\n",
              "      <td>NaN</td>\n",
              "    </tr>\n",
              "    <tr>\n",
              "      <th>2023-01-04</th>\n",
              "      <td>126.167366</td>\n",
              "      <td>85.139999</td>\n",
              "      <td>113.639999</td>\n",
              "      <td>126.360001</td>\n",
              "      <td>85.139999</td>\n",
              "      <td>113.639999</td>\n",
              "      <td>128.660004</td>\n",
              "      <td>86.980003</td>\n",
              "      <td>114.589996</td>\n",
              "      <td>125.080002</td>\n",
              "      <td>...</td>\n",
              "      <td>5.962006e+09</td>\n",
              "      <td>1.968224e+10</td>\n",
              "      <td>NaN</td>\n",
              "      <td>NaN</td>\n",
              "      <td>NaN</td>\n",
              "      <td>NaN</td>\n",
              "      <td>NaN</td>\n",
              "      <td>NaN</td>\n",
              "      <td>NaN</td>\n",
              "      <td>NaN</td>\n",
              "    </tr>\n",
              "    <tr>\n",
              "      <th>2023-01-05</th>\n",
              "      <td>124.829399</td>\n",
              "      <td>83.120003</td>\n",
              "      <td>110.339996</td>\n",
              "      <td>125.019997</td>\n",
              "      <td>83.120003</td>\n",
              "      <td>110.339996</td>\n",
              "      <td>127.769997</td>\n",
              "      <td>85.419998</td>\n",
              "      <td>111.750000</td>\n",
              "      <td>124.760002</td>\n",
              "      <td>...</td>\n",
              "      <td>5.796535e+09</td>\n",
              "      <td>1.745907e+10</td>\n",
              "      <td>NaN</td>\n",
              "      <td>NaN</td>\n",
              "      <td>NaN</td>\n",
              "      <td>NaN</td>\n",
              "      <td>NaN</td>\n",
              "      <td>NaN</td>\n",
              "      <td>NaN</td>\n",
              "      <td>NaN</td>\n",
              "    </tr>\n",
              "    <tr>\n",
              "      <th>2023-01-06</th>\n",
              "      <td>129.422394</td>\n",
              "      <td>86.080002</td>\n",
              "      <td>113.059998</td>\n",
              "      <td>129.619995</td>\n",
              "      <td>86.080002</td>\n",
              "      <td>113.059998</td>\n",
              "      <td>130.289993</td>\n",
              "      <td>86.400002</td>\n",
              "      <td>114.389999</td>\n",
              "      <td>124.889999</td>\n",
              "      <td>...</td>\n",
              "      <td>6.916681e+09</td>\n",
              "      <td>2.275384e+10</td>\n",
              "      <td>NaN</td>\n",
              "      <td>NaN</td>\n",
              "      <td>NaN</td>\n",
              "      <td>NaN</td>\n",
              "      <td>NaN</td>\n",
              "      <td>NaN</td>\n",
              "      <td>NaN</td>\n",
              "      <td>NaN</td>\n",
              "    </tr>\n",
              "    <tr>\n",
              "      <th>2023-01-09</th>\n",
              "      <td>129.951584</td>\n",
              "      <td>87.360001</td>\n",
              "      <td>119.769997</td>\n",
              "      <td>130.149994</td>\n",
              "      <td>87.360001</td>\n",
              "      <td>119.769997</td>\n",
              "      <td>133.410004</td>\n",
              "      <td>89.480003</td>\n",
              "      <td>123.519997</td>\n",
              "      <td>129.889999</td>\n",
              "      <td>...</td>\n",
              "      <td>5.708173e+09</td>\n",
              "      <td>2.263618e+10</td>\n",
              "      <td>112.981998</td>\n",
              "      <td>NaN</td>\n",
              "      <td>127.243997</td>\n",
              "      <td>NaN</td>\n",
              "      <td>85.504001</td>\n",
              "      <td>NaN</td>\n",
              "      <td>112.981998</td>\n",
              "      <td>NaN</td>\n",
              "    </tr>\n",
              "    <tr>\n",
              "      <th>2023-01-10</th>\n",
              "      <td>130.530701</td>\n",
              "      <td>89.870003</td>\n",
              "      <td>118.849998</td>\n",
              "      <td>130.729996</td>\n",
              "      <td>89.870003</td>\n",
              "      <td>118.849998</td>\n",
              "      <td>131.259995</td>\n",
              "      <td>90.190002</td>\n",
              "      <td>122.760002</td>\n",
              "      <td>128.119995</td>\n",
              "      <td>...</td>\n",
              "      <td>5.933445e+09</td>\n",
              "      <td>2.029648e+10</td>\n",
              "      <td>115.131998</td>\n",
              "      <td>NaN</td>\n",
              "      <td>128.375996</td>\n",
              "      <td>NaN</td>\n",
              "      <td>86.314001</td>\n",
              "      <td>NaN</td>\n",
              "      <td>115.131998</td>\n",
              "      <td>NaN</td>\n",
              "    </tr>\n",
              "    <tr>\n",
              "      <th>2023-01-11</th>\n",
              "      <td>133.286499</td>\n",
              "      <td>95.089996</td>\n",
              "      <td>123.220001</td>\n",
              "      <td>133.490005</td>\n",
              "      <td>95.089996</td>\n",
              "      <td>123.220001</td>\n",
              "      <td>133.509995</td>\n",
              "      <td>95.260002</td>\n",
              "      <td>125.949997</td>\n",
              "      <td>130.460007</td>\n",
              "      <td>...</td>\n",
              "      <td>9.377265e+09</td>\n",
              "      <td>2.244146e+10</td>\n",
              "      <td>117.047998</td>\n",
              "      <td>NaN</td>\n",
              "      <td>129.801997</td>\n",
              "      <td>NaN</td>\n",
              "      <td>88.304001</td>\n",
              "      <td>NaN</td>\n",
              "      <td>117.047998</td>\n",
              "      <td>NaN</td>\n",
              "    </tr>\n",
              "    <tr>\n",
              "      <th>2023-01-12</th>\n",
              "      <td>133.206619</td>\n",
              "      <td>95.269997</td>\n",
              "      <td>123.559998</td>\n",
              "      <td>133.410004</td>\n",
              "      <td>95.269997</td>\n",
              "      <td>123.559998</td>\n",
              "      <td>134.259995</td>\n",
              "      <td>97.190002</td>\n",
              "      <td>124.129997</td>\n",
              "      <td>131.440002</td>\n",
              "      <td>...</td>\n",
              "      <td>8.263748e+09</td>\n",
              "      <td>2.076177e+10</td>\n",
              "      <td>119.691998</td>\n",
              "      <td>NaN</td>\n",
              "      <td>131.479999</td>\n",
              "      <td>NaN</td>\n",
              "      <td>90.734000</td>\n",
              "      <td>NaN</td>\n",
              "      <td>119.691998</td>\n",
              "      <td>NaN</td>\n",
              "    </tr>\n",
              "    <tr>\n",
              "      <th>2023-01-13</th>\n",
              "      <td>134.554550</td>\n",
              "      <td>98.120003</td>\n",
              "      <td>122.400002</td>\n",
              "      <td>134.759995</td>\n",
              "      <td>98.120003</td>\n",
              "      <td>122.400002</td>\n",
              "      <td>134.919998</td>\n",
              "      <td>98.370003</td>\n",
              "      <td>122.629997</td>\n",
              "      <td>131.660004</td>\n",
              "      <td>...</td>\n",
              "      <td>8.057043e+09</td>\n",
              "      <td>2.106223e+10</td>\n",
              "      <td>121.559999</td>\n",
              "      <td>NaN</td>\n",
              "      <td>132.507999</td>\n",
              "      <td>NaN</td>\n",
              "      <td>93.142000</td>\n",
              "      <td>NaN</td>\n",
              "      <td>121.559999</td>\n",
              "      <td>NaN</td>\n",
              "    </tr>\n",
              "    <tr>\n",
              "      <th>2023-01-17</th>\n",
              "      <td>135.732758</td>\n",
              "      <td>96.050003</td>\n",
              "      <td>131.490005</td>\n",
              "      <td>135.940002</td>\n",
              "      <td>96.050003</td>\n",
              "      <td>131.490005</td>\n",
              "      <td>137.289993</td>\n",
              "      <td>98.889999</td>\n",
              "      <td>131.699997</td>\n",
              "      <td>134.130005</td>\n",
              "      <td>...</td>\n",
              "      <td>7.179463e+09</td>\n",
              "      <td>2.344016e+10</td>\n",
              "      <td>123.904001</td>\n",
              "      <td>118.442999</td>\n",
              "      <td>133.666000</td>\n",
              "      <td>130.454999</td>\n",
              "      <td>94.880000</td>\n",
              "      <td>90.192001</td>\n",
              "      <td>123.904001</td>\n",
              "      <td>118.442999</td>\n",
              "    </tr>\n",
              "    <tr>\n",
              "      <th>2023-01-18</th>\n",
              "      <td>135.003876</td>\n",
              "      <td>95.459999</td>\n",
              "      <td>128.779999</td>\n",
              "      <td>135.210007</td>\n",
              "      <td>95.459999</td>\n",
              "      <td>128.779999</td>\n",
              "      <td>138.610001</td>\n",
              "      <td>99.320000</td>\n",
              "      <td>136.679993</td>\n",
              "      <td>135.029999</td>\n",
              "      <td>...</td>\n",
              "      <td>7.738221e+09</td>\n",
              "      <td>2.672210e+10</td>\n",
              "      <td>125.890001</td>\n",
              "      <td>120.510999</td>\n",
              "      <td>134.562003</td>\n",
              "      <td>131.468999</td>\n",
              "      <td>95.998000</td>\n",
              "      <td>91.156001</td>\n",
              "      <td>125.890001</td>\n",
              "      <td>120.510999</td>\n",
              "    </tr>\n",
              "    <tr>\n",
              "      <th>2023-01-19</th>\n",
              "      <td>135.063782</td>\n",
              "      <td>93.680000</td>\n",
              "      <td>127.169998</td>\n",
              "      <td>135.270004</td>\n",
              "      <td>93.680000</td>\n",
              "      <td>127.169998</td>\n",
              "      <td>136.250000</td>\n",
              "      <td>95.440002</td>\n",
              "      <td>129.990005</td>\n",
              "      <td>133.770004</td>\n",
              "      <td>...</td>\n",
              "      <td>6.537316e+09</td>\n",
              "      <td>2.167135e+10</td>\n",
              "      <td>126.680000</td>\n",
              "      <td>121.863999</td>\n",
              "      <td>134.918002</td>\n",
              "      <td>132.360000</td>\n",
              "      <td>95.716000</td>\n",
              "      <td>92.010001</td>\n",
              "      <td>126.680000</td>\n",
              "      <td>121.863999</td>\n",
              "    </tr>\n",
              "    <tr>\n",
              "      <th>2023-01-20</th>\n",
              "      <td>137.659805</td>\n",
              "      <td>97.250000</td>\n",
              "      <td>133.419998</td>\n",
              "      <td>137.869995</td>\n",
              "      <td>97.250000</td>\n",
              "      <td>133.419998</td>\n",
              "      <td>138.020004</td>\n",
              "      <td>97.349998</td>\n",
              "      <td>133.509995</td>\n",
              "      <td>134.220001</td>\n",
              "      <td>...</td>\n",
              "      <td>6.333814e+09</td>\n",
              "      <td>1.786826e+10</td>\n",
              "      <td>128.652000</td>\n",
              "      <td>124.171999</td>\n",
              "      <td>135.810001</td>\n",
              "      <td>133.645000</td>\n",
              "      <td>96.112001</td>\n",
              "      <td>93.423000</td>\n",
              "      <td>128.652000</td>\n",
              "      <td>124.171999</td>\n",
              "    </tr>\n",
              "    <tr>\n",
              "      <th>2023-01-23</th>\n",
              "      <td>140.894882</td>\n",
              "      <td>97.519997</td>\n",
              "      <td>143.750000</td>\n",
              "      <td>141.110001</td>\n",
              "      <td>97.519997</td>\n",
              "      <td>143.750000</td>\n",
              "      <td>143.320007</td>\n",
              "      <td>97.779999</td>\n",
              "      <td>145.380005</td>\n",
              "      <td>137.899994</td>\n",
              "      <td>...</td>\n",
              "      <td>7.463447e+09</td>\n",
              "      <td>2.759780e+10</td>\n",
              "      <td>132.922000</td>\n",
              "      <td>127.241000</td>\n",
              "      <td>137.080002</td>\n",
              "      <td>134.794000</td>\n",
              "      <td>95.992000</td>\n",
              "      <td>94.567000</td>\n",
              "      <td>132.922000</td>\n",
              "      <td>127.241000</td>\n",
              "    </tr>\n",
              "    <tr>\n",
              "      <th>2023-01-24</th>\n",
              "      <td>142.312714</td>\n",
              "      <td>96.320000</td>\n",
              "      <td>143.889999</td>\n",
              "      <td>142.529999</td>\n",
              "      <td>96.320000</td>\n",
              "      <td>143.889999</td>\n",
              "      <td>143.160004</td>\n",
              "      <td>98.089996</td>\n",
              "      <td>146.500000</td>\n",
              "      <td>140.300003</td>\n",
              "      <td>...</td>\n",
              "      <td>6.487476e+09</td>\n",
              "      <td>2.269397e+10</td>\n",
              "      <td>135.401999</td>\n",
              "      <td>129.653000</td>\n",
              "      <td>138.398001</td>\n",
              "      <td>136.032001</td>\n",
              "      <td>96.045999</td>\n",
              "      <td>95.463000</td>\n",
              "      <td>135.401999</td>\n",
              "      <td>129.653000</td>\n",
              "    </tr>\n",
              "    <tr>\n",
              "      <th>2023-01-25</th>\n",
              "      <td>141.643738</td>\n",
              "      <td>97.180000</td>\n",
              "      <td>144.429993</td>\n",
              "      <td>141.860001</td>\n",
              "      <td>97.180000</td>\n",
              "      <td>144.429993</td>\n",
              "      <td>142.429993</td>\n",
              "      <td>97.239998</td>\n",
              "      <td>146.410004</td>\n",
              "      <td>138.809998</td>\n",
              "      <td>...</td>\n",
              "      <td>8.724853e+09</td>\n",
              "      <td>2.735093e+10</td>\n",
              "      <td>138.531998</td>\n",
              "      <td>132.210999</td>\n",
              "      <td>139.728000</td>\n",
              "      <td>137.145001</td>\n",
              "      <td>96.389999</td>\n",
              "      <td>96.193999</td>\n",
              "      <td>138.531998</td>\n",
              "      <td>132.210999</td>\n",
              "    </tr>\n",
              "    <tr>\n",
              "      <th>2023-01-26</th>\n",
              "      <td>143.740540</td>\n",
              "      <td>99.220001</td>\n",
              "      <td>160.270004</td>\n",
              "      <td>143.960007</td>\n",
              "      <td>99.220001</td>\n",
              "      <td>160.270004</td>\n",
              "      <td>144.250000</td>\n",
              "      <td>99.489998</td>\n",
              "      <td>161.419998</td>\n",
              "      <td>141.899994</td>\n",
              "      <td>...</td>\n",
              "      <td>6.731758e+09</td>\n",
              "      <td>3.756337e+10</td>\n",
              "      <td>145.151999</td>\n",
              "      <td>135.916000</td>\n",
              "      <td>141.466000</td>\n",
              "      <td>138.192001</td>\n",
              "      <td>97.498000</td>\n",
              "      <td>96.607000</td>\n",
              "      <td>145.151999</td>\n",
              "      <td>135.916000</td>\n",
              "    </tr>\n",
              "    <tr>\n",
              "      <th>2023-01-27</th>\n",
              "      <td>145.707520</td>\n",
              "      <td>102.239998</td>\n",
              "      <td>177.899994</td>\n",
              "      <td>145.929993</td>\n",
              "      <td>102.239998</td>\n",
              "      <td>177.899994</td>\n",
              "      <td>147.229996</td>\n",
              "      <td>103.489998</td>\n",
              "      <td>180.679993</td>\n",
              "      <td>143.080002</td>\n",
              "      <td>...</td>\n",
              "      <td>8.736305e+09</td>\n",
              "      <td>4.979951e+10</td>\n",
              "      <td>154.047998</td>\n",
              "      <td>141.349999</td>\n",
              "      <td>143.078000</td>\n",
              "      <td>139.444000</td>\n",
              "      <td>98.495999</td>\n",
              "      <td>97.304000</td>\n",
              "      <td>154.047998</td>\n",
              "      <td>141.349999</td>\n",
              "    </tr>\n",
              "    <tr>\n",
              "      <th>2023-01-30</th>\n",
              "      <td>142.781998</td>\n",
              "      <td>100.550003</td>\n",
              "      <td>166.660004</td>\n",
              "      <td>143.000000</td>\n",
              "      <td>100.550003</td>\n",
              "      <td>166.660004</td>\n",
              "      <td>145.550003</td>\n",
              "      <td>101.739998</td>\n",
              "      <td>179.770004</td>\n",
              "      <td>142.850006</td>\n",
              "      <td>...</td>\n",
              "      <td>7.146244e+09</td>\n",
              "      <td>4.110797e+10</td>\n",
              "      <td>158.629999</td>\n",
              "      <td>145.775999</td>\n",
              "      <td>143.456000</td>\n",
              "      <td>140.268001</td>\n",
              "      <td>99.102000</td>\n",
              "      <td>97.547000</td>\n",
              "      <td>158.629999</td>\n",
              "      <td>145.775999</td>\n",
              "    </tr>\n",
              "    <tr>\n",
              "      <th>2023-01-31</th>\n",
              "      <td>144.070023</td>\n",
              "      <td>103.129997</td>\n",
              "      <td>173.220001</td>\n",
              "      <td>144.289993</td>\n",
              "      <td>103.129997</td>\n",
              "      <td>173.220001</td>\n",
              "      <td>144.339996</td>\n",
              "      <td>103.349998</td>\n",
              "      <td>174.300003</td>\n",
              "      <td>142.279999</td>\n",
              "      <td>...</td>\n",
              "      <td>6.729902e+09</td>\n",
              "      <td>3.238960e+10</td>\n",
              "      <td>164.495999</td>\n",
              "      <td>149.948999</td>\n",
              "      <td>143.807999</td>\n",
              "      <td>141.103000</td>\n",
              "      <td>100.464000</td>\n",
              "      <td>98.255000</td>\n",
              "      <td>164.495999</td>\n",
              "      <td>149.948999</td>\n",
              "    </tr>\n",
              "    <tr>\n",
              "      <th>2023-02-01</th>\n",
              "      <td>145.208282</td>\n",
              "      <td>105.150002</td>\n",
              "      <td>181.410004</td>\n",
              "      <td>145.429993</td>\n",
              "      <td>105.150002</td>\n",
              "      <td>181.410004</td>\n",
              "      <td>146.610001</td>\n",
              "      <td>106.239998</td>\n",
              "      <td>183.809998</td>\n",
              "      <td>141.320007</td>\n",
              "      <td>...</td>\n",
              "      <td>8.248549e+09</td>\n",
              "      <td>3.717878e+10</td>\n",
              "      <td>171.892001</td>\n",
              "      <td>155.212000</td>\n",
              "      <td>144.521997</td>\n",
              "      <td>142.124998</td>\n",
              "      <td>102.058000</td>\n",
              "      <td>99.224000</td>\n",
              "      <td>171.892001</td>\n",
              "      <td>155.212000</td>\n",
              "    </tr>\n",
              "    <tr>\n",
              "      <th>2023-02-02</th>\n",
              "      <td>150.590088</td>\n",
              "      <td>112.910004</td>\n",
              "      <td>188.270004</td>\n",
              "      <td>150.820007</td>\n",
              "      <td>112.910004</td>\n",
              "      <td>188.270004</td>\n",
              "      <td>151.179993</td>\n",
              "      <td>114.000000</td>\n",
              "      <td>196.750000</td>\n",
              "      <td>148.169998</td>\n",
              "      <td>...</td>\n",
              "      <td>1.743650e+10</td>\n",
              "      <td>4.073459e+10</td>\n",
              "      <td>177.492001</td>\n",
              "      <td>161.322000</td>\n",
              "      <td>145.893997</td>\n",
              "      <td>143.679999</td>\n",
              "      <td>104.796001</td>\n",
              "      <td>101.147000</td>\n",
              "      <td>177.492001</td>\n",
              "      <td>161.322000</td>\n",
              "    </tr>\n",
              "    <tr>\n",
              "      <th>2023-02-03</th>\n",
              "      <td>154.264465</td>\n",
              "      <td>103.389999</td>\n",
              "      <td>189.979996</td>\n",
              "      <td>154.500000</td>\n",
              "      <td>103.389999</td>\n",
              "      <td>189.979996</td>\n",
              "      <td>157.380005</td>\n",
              "      <td>108.779999</td>\n",
              "      <td>199.000000</td>\n",
              "      <td>147.830002</td>\n",
              "      <td>...</td>\n",
              "      <td>1.519689e+10</td>\n",
              "      <td>4.279817e+10</td>\n",
              "      <td>179.908002</td>\n",
              "      <td>166.978000</td>\n",
              "      <td>147.607999</td>\n",
              "      <td>145.342999</td>\n",
              "      <td>105.026001</td>\n",
              "      <td>101.761000</td>\n",
              "      <td>179.908002</td>\n",
              "      <td>166.978000</td>\n",
              "    </tr>\n",
              "    <tr>\n",
              "      <th>2023-02-06</th>\n",
              "      <td>151.498688</td>\n",
              "      <td>102.180000</td>\n",
              "      <td>194.759995</td>\n",
              "      <td>151.729996</td>\n",
              "      <td>102.180000</td>\n",
              "      <td>194.759995</td>\n",
              "      <td>153.100006</td>\n",
              "      <td>103.949997</td>\n",
              "      <td>198.169998</td>\n",
              "      <td>150.779999</td>\n",
              "      <td>...</td>\n",
              "      <td>8.434619e+09</td>\n",
              "      <td>3.593616e+10</td>\n",
              "      <td>185.528000</td>\n",
              "      <td>172.078999</td>\n",
              "      <td>149.353998</td>\n",
              "      <td>146.404999</td>\n",
              "      <td>105.352000</td>\n",
              "      <td>102.227000</td>\n",
              "      <td>185.528000</td>\n",
              "      <td>172.078999</td>\n",
              "    </tr>\n",
              "    <tr>\n",
              "      <th>2023-02-07</th>\n",
              "      <td>154.414230</td>\n",
              "      <td>102.110001</td>\n",
              "      <td>196.809998</td>\n",
              "      <td>154.649994</td>\n",
              "      <td>102.110001</td>\n",
              "      <td>196.809998</td>\n",
              "      <td>155.229996</td>\n",
              "      <td>102.410004</td>\n",
              "      <td>197.500000</td>\n",
              "      <td>150.639999</td>\n",
              "      <td>...</td>\n",
              "      <td>1.208995e+10</td>\n",
              "      <td>3.653800e+10</td>\n",
              "      <td>190.245999</td>\n",
              "      <td>177.370999</td>\n",
              "      <td>151.425998</td>\n",
              "      <td>147.616998</td>\n",
              "      <td>105.148001</td>\n",
              "      <td>102.806001</td>\n",
              "      <td>190.245999</td>\n",
              "      <td>177.370999</td>\n",
              "    </tr>\n",
              "    <tr>\n",
              "      <th>2023-02-08</th>\n",
              "      <td>151.688400</td>\n",
              "      <td>100.050003</td>\n",
              "      <td>201.289993</td>\n",
              "      <td>151.919998</td>\n",
              "      <td>100.050003</td>\n",
              "      <td>201.289993</td>\n",
              "      <td>154.580002</td>\n",
              "      <td>102.669998</td>\n",
              "      <td>203.000000</td>\n",
              "      <td>151.169998</td>\n",
              "      <td>...</td>\n",
              "      <td>7.742622e+09</td>\n",
              "      <td>3.543009e+10</td>\n",
              "      <td>194.221997</td>\n",
              "      <td>183.056999</td>\n",
              "      <td>152.723999</td>\n",
              "      <td>148.622998</td>\n",
              "      <td>104.128001</td>\n",
              "      <td>103.093001</td>\n",
              "      <td>194.221997</td>\n",
              "      <td>183.056999</td>\n",
              "    </tr>\n",
              "    <tr>\n",
              "      <th>2023-02-09</th>\n",
              "      <td>150.639999</td>\n",
              "      <td>98.239998</td>\n",
              "      <td>207.320007</td>\n",
              "      <td>150.869995</td>\n",
              "      <td>98.239998</td>\n",
              "      <td>207.320007</td>\n",
              "      <td>154.330002</td>\n",
              "      <td>101.779999</td>\n",
              "      <td>214.000000</td>\n",
              "      <td>150.419998</td>\n",
              "      <td>...</td>\n",
              "      <td>6.547552e+09</td>\n",
              "      <td>4.476234e+10</td>\n",
              "      <td>198.031998</td>\n",
              "      <td>187.762000</td>\n",
              "      <td>152.733997</td>\n",
              "      <td>149.313997</td>\n",
              "      <td>101.194000</td>\n",
              "      <td>102.995000</td>\n",
              "      <td>198.031998</td>\n",
              "      <td>187.762000</td>\n",
              "    </tr>\n",
              "    <tr>\n",
              "      <th>2023-02-10</th>\n",
              "      <td>151.009995</td>\n",
              "      <td>97.610001</td>\n",
              "      <td>196.889999</td>\n",
              "      <td>151.009995</td>\n",
              "      <td>97.610001</td>\n",
              "      <td>196.889999</td>\n",
              "      <td>151.339996</td>\n",
              "      <td>98.820000</td>\n",
              "      <td>206.199997</td>\n",
              "      <td>149.220001</td>\n",
              "      <td>...</td>\n",
              "      <td>5.145324e+09</td>\n",
              "      <td>4.140742e+10</td>\n",
              "      <td>199.413998</td>\n",
              "      <td>189.661000</td>\n",
              "      <td>152.035995</td>\n",
              "      <td>149.821997</td>\n",
              "      <td>100.038000</td>\n",
              "      <td>102.532001</td>\n",
              "      <td>199.413998</td>\n",
              "      <td>189.661000</td>\n",
              "    </tr>\n",
              "    <tr>\n",
              "      <th>2023-02-13</th>\n",
              "      <td>153.850006</td>\n",
              "      <td>99.540001</td>\n",
              "      <td>194.639999</td>\n",
              "      <td>153.850006</td>\n",
              "      <td>99.540001</td>\n",
              "      <td>194.639999</td>\n",
              "      <td>154.259995</td>\n",
              "      <td>99.680000</td>\n",
              "      <td>196.300003</td>\n",
              "      <td>150.919998</td>\n",
              "      <td>...</td>\n",
              "      <td>5.170541e+09</td>\n",
              "      <td>3.353269e+10</td>\n",
              "      <td>199.389999</td>\n",
              "      <td>192.459000</td>\n",
              "      <td>152.459998</td>\n",
              "      <td>150.906998</td>\n",
              "      <td>99.510001</td>\n",
              "      <td>102.431001</td>\n",
              "      <td>199.389999</td>\n",
              "      <td>192.459000</td>\n",
              "    </tr>\n",
              "    <tr>\n",
              "      <th>2023-02-14</th>\n",
              "      <td>153.199997</td>\n",
              "      <td>99.699997</td>\n",
              "      <td>209.250000</td>\n",
              "      <td>153.199997</td>\n",
              "      <td>99.699997</td>\n",
              "      <td>209.250000</td>\n",
              "      <td>153.770004</td>\n",
              "      <td>100.919998</td>\n",
              "      <td>209.820007</td>\n",
              "      <td>150.860001</td>\n",
              "      <td>...</td>\n",
              "      <td>5.530928e+09</td>\n",
              "      <td>4.154651e+10</td>\n",
              "      <td>201.878000</td>\n",
              "      <td>196.062000</td>\n",
              "      <td>152.169998</td>\n",
              "      <td>151.797998</td>\n",
              "      <td>99.028000</td>\n",
              "      <td>102.088000</td>\n",
              "      <td>201.878000</td>\n",
              "      <td>196.062000</td>\n",
              "    </tr>\n",
              "    <tr>\n",
              "      <th>2023-02-15</th>\n",
              "      <td>155.330002</td>\n",
              "      <td>101.160004</td>\n",
              "      <td>214.240005</td>\n",
              "      <td>155.330002</td>\n",
              "      <td>101.160004</td>\n",
              "      <td>214.240005</td>\n",
              "      <td>155.500000</td>\n",
              "      <td>101.169998</td>\n",
              "      <td>214.660004</td>\n",
              "      <td>152.880005</td>\n",
              "      <td>...</td>\n",
              "      <td>4.752118e+09</td>\n",
              "      <td>3.832991e+10</td>\n",
              "      <td>204.468002</td>\n",
              "      <td>199.345000</td>\n",
              "      <td>152.851999</td>\n",
              "      <td>152.787999</td>\n",
              "      <td>99.250000</td>\n",
              "      <td>101.689001</td>\n",
              "      <td>204.468002</td>\n",
              "      <td>199.345000</td>\n",
              "    </tr>\n",
              "    <tr>\n",
              "      <th>2023-02-16</th>\n",
              "      <td>153.710007</td>\n",
              "      <td>98.150002</td>\n",
              "      <td>202.039993</td>\n",
              "      <td>153.710007</td>\n",
              "      <td>98.150002</td>\n",
              "      <td>202.039993</td>\n",
              "      <td>156.330002</td>\n",
              "      <td>100.629997</td>\n",
              "      <td>217.649994</td>\n",
              "      <td>153.350006</td>\n",
              "      <td>...</td>\n",
              "      <td>5.589412e+09</td>\n",
              "      <td>4.839224e+10</td>\n",
              "      <td>203.412000</td>\n",
              "      <td>200.721999</td>\n",
              "      <td>153.420001</td>\n",
              "      <td>153.076999</td>\n",
              "      <td>99.232001</td>\n",
              "      <td>100.213000</td>\n",
              "      <td>203.412000</td>\n",
              "      <td>200.721999</td>\n",
              "    </tr>\n",
              "    <tr>\n",
              "      <th>2023-02-17</th>\n",
              "      <td>152.550003</td>\n",
              "      <td>97.199997</td>\n",
              "      <td>208.309998</td>\n",
              "      <td>152.550003</td>\n",
              "      <td>97.199997</td>\n",
              "      <td>208.309998</td>\n",
              "      <td>153.000000</td>\n",
              "      <td>97.940002</td>\n",
              "      <td>208.440002</td>\n",
              "      <td>150.850006</td>\n",
              "      <td>...</td>\n",
              "      <td>5.870876e+09</td>\n",
              "      <td>4.274556e+10</td>\n",
              "      <td>205.695999</td>\n",
              "      <td>202.554999</td>\n",
              "      <td>153.728003</td>\n",
              "      <td>152.881999</td>\n",
              "      <td>99.150000</td>\n",
              "      <td>99.594000</td>\n",
              "      <td>205.695999</td>\n",
              "      <td>202.554999</td>\n",
              "    </tr>\n",
              "    <tr>\n",
              "      <th>2023-02-21</th>\n",
              "      <td>148.479996</td>\n",
              "      <td>94.580002</td>\n",
              "      <td>197.369995</td>\n",
              "      <td>148.479996</td>\n",
              "      <td>94.580002</td>\n",
              "      <td>197.369995</td>\n",
              "      <td>151.300003</td>\n",
              "      <td>95.610001</td>\n",
              "      <td>209.710007</td>\n",
              "      <td>148.410004</td>\n",
              "      <td>...</td>\n",
              "      <td>5.394375e+09</td>\n",
              "      <td>3.690201e+10</td>\n",
              "      <td>206.241998</td>\n",
              "      <td>202.815999</td>\n",
              "      <td>152.654001</td>\n",
              "      <td>152.556999</td>\n",
              "      <td>98.158000</td>\n",
              "      <td>98.834000</td>\n",
              "      <td>206.241998</td>\n",
              "      <td>202.815999</td>\n",
              "    </tr>\n",
              "    <tr>\n",
              "      <th>2023-02-22</th>\n",
              "      <td>148.910004</td>\n",
              "      <td>95.790001</td>\n",
              "      <td>200.860001</td>\n",
              "      <td>148.910004</td>\n",
              "      <td>95.790001</td>\n",
              "      <td>200.860001</td>\n",
              "      <td>149.949997</td>\n",
              "      <td>97.010002</td>\n",
              "      <td>201.990005</td>\n",
              "      <td>147.160004</td>\n",
              "      <td>...</td>\n",
              "      <td>5.661693e+09</td>\n",
              "      <td>3.796861e+10</td>\n",
              "      <td>204.563998</td>\n",
              "      <td>203.220999</td>\n",
              "      <td>151.796002</td>\n",
              "      <td>151.983000</td>\n",
              "      <td>97.376001</td>\n",
              "      <td>98.202000</td>\n",
              "      <td>204.563998</td>\n",
              "      <td>203.220999</td>\n",
              "    </tr>\n",
              "    <tr>\n",
              "      <th>2023-02-23</th>\n",
              "      <td>149.399994</td>\n",
              "      <td>95.820000</td>\n",
              "      <td>202.070007</td>\n",
              "      <td>149.399994</td>\n",
              "      <td>95.820000</td>\n",
              "      <td>202.070007</td>\n",
              "      <td>150.339996</td>\n",
              "      <td>96.430000</td>\n",
              "      <td>205.139999</td>\n",
              "      <td>147.240005</td>\n",
              "      <td>...</td>\n",
              "      <td>4.658648e+09</td>\n",
              "      <td>2.984427e+10</td>\n",
              "      <td>202.129999</td>\n",
              "      <td>203.299001</td>\n",
              "      <td>150.610001</td>\n",
              "      <td>151.731000</td>\n",
              "      <td>96.308000</td>\n",
              "      <td>97.779000</td>\n",
              "      <td>202.129999</td>\n",
              "      <td>203.299001</td>\n",
              "    </tr>\n",
              "    <tr>\n",
              "      <th>2023-02-24</th>\n",
              "      <td>146.710007</td>\n",
              "      <td>93.500000</td>\n",
              "      <td>196.880005</td>\n",
              "      <td>146.710007</td>\n",
              "      <td>93.500000</td>\n",
              "      <td>196.880005</td>\n",
              "      <td>147.190002</td>\n",
              "      <td>94.139999</td>\n",
              "      <td>197.669998</td>\n",
              "      <td>145.720001</td>\n",
              "      <td>...</td>\n",
              "      <td>5.336242e+09</td>\n",
              "      <td>2.792364e+10</td>\n",
              "      <td>201.098001</td>\n",
              "      <td>202.255000</td>\n",
              "      <td>149.210001</td>\n",
              "      <td>151.315001</td>\n",
              "      <td>95.378000</td>\n",
              "      <td>97.305000</td>\n",
              "      <td>201.098001</td>\n",
              "      <td>202.255000</td>\n",
              "    </tr>\n",
              "    <tr>\n",
              "      <th>2023-02-27</th>\n",
              "      <td>147.919998</td>\n",
              "      <td>93.760002</td>\n",
              "      <td>207.630005</td>\n",
              "      <td>147.919998</td>\n",
              "      <td>93.760002</td>\n",
              "      <td>207.630005</td>\n",
              "      <td>149.169998</td>\n",
              "      <td>94.779999</td>\n",
              "      <td>209.419998</td>\n",
              "      <td>147.449997</td>\n",
              "      <td>...</td>\n",
              "      <td>4.475500e+09</td>\n",
              "      <td>3.253255e+10</td>\n",
              "      <td>200.962003</td>\n",
              "      <td>203.329001</td>\n",
              "      <td>148.284000</td>\n",
              "      <td>151.006001</td>\n",
              "      <td>94.690001</td>\n",
              "      <td>96.920000</td>\n",
              "      <td>200.962003</td>\n",
              "      <td>203.329001</td>\n",
              "    </tr>\n",
              "    <tr>\n",
              "      <th>2023-02-28</th>\n",
              "      <td>147.410004</td>\n",
              "      <td>94.230003</td>\n",
              "      <td>205.710007</td>\n",
              "      <td>147.410004</td>\n",
              "      <td>94.230003</td>\n",
              "      <td>205.710007</td>\n",
              "      <td>149.080002</td>\n",
              "      <td>94.690002</td>\n",
              "      <td>211.229996</td>\n",
              "      <td>146.830002</td>\n",
              "      <td>...</td>\n",
              "      <td>4.094369e+09</td>\n",
              "      <td>3.225078e+10</td>\n",
              "      <td>202.630005</td>\n",
              "      <td>204.436002</td>\n",
              "      <td>148.070001</td>\n",
              "      <td>150.362001</td>\n",
              "      <td>94.620001</td>\n",
              "      <td>96.389001</td>\n",
              "      <td>202.630005</td>\n",
              "      <td>204.436002</td>\n",
              "    </tr>\n",
              "  </tbody>\n",
              "</table>\n",
              "<p>39 rows × 29 columns</p>\n",
              "</div>\n",
              "      <button class=\"colab-df-convert\" onclick=\"convertToInteractive('df-23da1b70-265f-40c4-8cf8-42dddf8e4526')\"\n",
              "              title=\"Convert this dataframe to an interactive table.\"\n",
              "              style=\"display:none;\">\n",
              "        \n",
              "  <svg xmlns=\"http://www.w3.org/2000/svg\" height=\"24px\"viewBox=\"0 0 24 24\"\n",
              "       width=\"24px\">\n",
              "    <path d=\"M0 0h24v24H0V0z\" fill=\"none\"/>\n",
              "    <path d=\"M18.56 5.44l.94 2.06.94-2.06 2.06-.94-2.06-.94-.94-2.06-.94 2.06-2.06.94zm-11 1L8.5 8.5l.94-2.06 2.06-.94-2.06-.94L8.5 2.5l-.94 2.06-2.06.94zm10 10l.94 2.06.94-2.06 2.06-.94-2.06-.94-.94-2.06-.94 2.06-2.06.94z\"/><path d=\"M17.41 7.96l-1.37-1.37c-.4-.4-.92-.59-1.43-.59-.52 0-1.04.2-1.43.59L10.3 9.45l-7.72 7.72c-.78.78-.78 2.05 0 2.83L4 21.41c.39.39.9.59 1.41.59.51 0 1.02-.2 1.41-.59l7.78-7.78 2.81-2.81c.8-.78.8-2.07 0-2.86zM5.41 20L4 18.59l7.72-7.72 1.47 1.35L5.41 20z\"/>\n",
              "  </svg>\n",
              "      </button>\n",
              "      \n",
              "  <style>\n",
              "    .colab-df-container {\n",
              "      display:flex;\n",
              "      flex-wrap:wrap;\n",
              "      gap: 12px;\n",
              "    }\n",
              "\n",
              "    .colab-df-convert {\n",
              "      background-color: #E8F0FE;\n",
              "      border: none;\n",
              "      border-radius: 50%;\n",
              "      cursor: pointer;\n",
              "      display: none;\n",
              "      fill: #1967D2;\n",
              "      height: 32px;\n",
              "      padding: 0 0 0 0;\n",
              "      width: 32px;\n",
              "    }\n",
              "\n",
              "    .colab-df-convert:hover {\n",
              "      background-color: #E2EBFA;\n",
              "      box-shadow: 0px 1px 2px rgba(60, 64, 67, 0.3), 0px 1px 3px 1px rgba(60, 64, 67, 0.15);\n",
              "      fill: #174EA6;\n",
              "    }\n",
              "\n",
              "    [theme=dark] .colab-df-convert {\n",
              "      background-color: #3B4455;\n",
              "      fill: #D2E3FC;\n",
              "    }\n",
              "\n",
              "    [theme=dark] .colab-df-convert:hover {\n",
              "      background-color: #434B5C;\n",
              "      box-shadow: 0px 1px 3px 1px rgba(0, 0, 0, 0.15);\n",
              "      filter: drop-shadow(0px 1px 2px rgba(0, 0, 0, 0.3));\n",
              "      fill: #FFFFFF;\n",
              "    }\n",
              "  </style>\n",
              "\n",
              "      <script>\n",
              "        const buttonEl =\n",
              "          document.querySelector('#df-23da1b70-265f-40c4-8cf8-42dddf8e4526 button.colab-df-convert');\n",
              "        buttonEl.style.display =\n",
              "          google.colab.kernel.accessAllowed ? 'block' : 'none';\n",
              "\n",
              "        async function convertToInteractive(key) {\n",
              "          const element = document.querySelector('#df-23da1b70-265f-40c4-8cf8-42dddf8e4526');\n",
              "          const dataTable =\n",
              "            await google.colab.kernel.invokeFunction('convertToInteractive',\n",
              "                                                     [key], {});\n",
              "          if (!dataTable) return;\n",
              "\n",
              "          const docLinkHtml = 'Like what you see? Visit the ' +\n",
              "            '<a target=\"_blank\" href=https://colab.research.google.com/notebooks/data_table.ipynb>data table notebook</a>'\n",
              "            + ' to learn more about interactive tables.';\n",
              "          element.innerHTML = '';\n",
              "          dataTable['output_type'] = 'display_data';\n",
              "          await google.colab.output.renderOutput(dataTable, element);\n",
              "          const docLink = document.createElement('div');\n",
              "          docLink.innerHTML = docLinkHtml;\n",
              "          element.appendChild(docLink);\n",
              "        }\n",
              "      </script>\n",
              "    </div>\n",
              "  </div>\n",
              "  "
            ]
          },
          "metadata": {},
          "execution_count": 88
        }
      ]
    },
    {
      "cell_type": "code",
      "execution_count": 36,
      "metadata": {
        "id": "ikgnCV4BgCjZ"
      },
      "outputs": [],
      "source": [
        "# ** Plot this \"Total Traded\" against the time index.**"
      ]
    },
    {
      "cell_type": "code",
      "execution_count": 13,
      "metadata": {
        "colab": {
          "base_uri": "https://localhost:8080/",
          "height": 313
        },
        "id": "tH3oDQklgCjZ",
        "outputId": "f03b6393-dcf6-4e86-ba83-bfcfbcbdf442"
      },
      "outputs": [
        {
          "output_type": "execute_result",
          "data": {
            "text/plain": [
              "Text(0, 0.5, 'Total Traded')"
            ]
          },
          "metadata": {},
          "execution_count": 13
        },
        {
          "output_type": "display_data",
          "data": {
            "text/plain": [
              "<Figure size 432x288 with 1 Axes>"
            ],
            "image/png": "[encoded data removed]"
          },
          "metadata": {
            "needs_background": "light"
          }
        }
      ],
      "source": [
        "stock_data['Total Traded','TSLA'].plot(label='TESLA')\n",
        "stock_data['Total Traded','AAPL'].plot(label='APPLE')\n",
        "stock_data['Total Traded','AMZN'].plot(label='AMAZON')\n",
        "plt.legend()\n",
        "plt.ylabel('Total Traded')"
      ]
    },
    {
      "cell_type": "code",
      "execution_count": null,
      "metadata": {
        "id": "Ix1ka_NSgCjZ"
      },
      "outputs": [],
      "source": [
        "#looks like there was huge amount of money traded for Amazon on the second day"
      ]
    },
    {
      "cell_type": "code",
      "source": [
        "stock_data['Total Traded','AAPL'].argmax()"
      ],
      "metadata": {
        "colab": {
          "base_uri": "https://localhost:8080/"
        },
        "id": "u8stm7z_Cgqe",
        "outputId": "44c5a39e-6df4-4534-b027-c03ad904174f"
      },
      "execution_count": 17,
      "outputs": [
        {
          "output_type": "execute_result",
          "data": {
            "text/plain": [
              "22"
            ]
          },
          "metadata": {},
          "execution_count": 17
        }
      ]
    },
    {
      "cell_type": "code",
      "execution_count": 15,
      "metadata": {
        "colab": {
          "base_uri": "https://localhost:8080/"
        },
        "id": "4Ayj3skdgCjZ",
        "outputId": "a5a878ee-2d9f-4f27-da50-0f6c157e534f"
      },
      "outputs": [
        {
          "output_type": "stream",
          "name": "stdout",
          "text": [
            "22\n",
            "21\n",
            "17\n"
          ]
        }
      ],
      "source": [
        "for i in stock_data['Total Traded']:\n",
        "  print(stock_data['Total Traded',i].argmax())\n",
        "  "
      ]
    },
    {
      "cell_type": "code",
      "execution_count": 39,
      "metadata": {
        "id": "gYtpx2dagCjZ"
      },
      "outputs": [],
      "source": [
        "#MA (Moving Averages)"
      ]
    },
    {
      "cell_type": "code",
      "execution_count": 23,
      "metadata": {
        "id": "fPrEpAwxgCjZ"
      },
      "outputs": [],
      "source": [
        "for i in stock_data['Close']:\n",
        "  stock_data['MA5',i] = stock_data['Close', i].rolling(5).mean()\n",
        "  stock_data['MA10',i] = stock_data['Close', i].rolling(10).mean()\n"
      ]
    },
    {
      "cell_type": "code",
      "source": [
        "stock_data[['Close','MA5','MA10']].plot(label='stock_data',figsize=(16,8))"
      ],
      "metadata": {
        "colab": {
          "base_uri": "https://localhost:8080/",
          "height": 500
        },
        "id": "GcHUPf0nGkuh",
        "outputId": "5d6f8f73-1dec-435e-fda8-0aac20e3fd79"
      },
      "execution_count": 24,
      "outputs": [
        {
          "output_type": "execute_result",
          "data": {
            "text/plain": [
              "<AxesSubplot:xlabel='Date'>"
            ]
          },
          "metadata": {},
          "execution_count": 24
        },
        {
          "output_type": "display_data",
          "data": {
            "text/plain": [
              "<Figure size 1152x576 with 1 Axes>"
            ],
            "image/png": "[encoded data removed]"
          },
          "metadata": {
            "needs_background": "light"
          }
        }
      ]
    },
    {
      "cell_type": "code",
      "source": [
        "#Stock price with MA5,10,15,30 for AAPL"
      ],
      "metadata": {
        "id": "iWj0EsprNkga"
      },
      "execution_count": null,
      "outputs": []
    },
    {
      "cell_type": "code",
      "source": [
        "MA_AAPL = pd.DataFrame()\n",
        "ma = [5,10,15,30]\n",
        "for i in ma:\n",
        "  MA_AAPL['MA5',i] = stock_data['Close','AAPL'].rolling(i).mean()\n",
        "MA_AAPL['Close'] = stock_data['Close','AAPL']\n"
      ],
      "metadata": {
        "id": "7olPlYihHtqN"
      },
      "execution_count": 43,
      "outputs": []
    },
    {
      "cell_type": "code",
      "source": [
        "MA_AAPL\n"
      ],
      "metadata": {
        "id": "kXs9wMnJNAo0"
      },
      "execution_count": null,
      "outputs": []
    },
    {
      "cell_type": "code",
      "source": [
        "MA_AAPL.plot(label = 'MA_AAPL', ylabel = 'Price', xlabel = 'Data', figsize=(16,8), title = 'AAPL')"
      ],
      "metadata": {
        "colab": {
          "base_uri": "https://localhost:8080/",
          "height": 514
        },
        "id": "jkIqxzYYIrLw",
        "outputId": "a8efd433-877c-41c8-9069-c5ade447dc27"
      },
      "execution_count": 50,
      "outputs": [
        {
          "output_type": "execute_result",
          "data": {
            "text/plain": [
              "<AxesSubplot:title={'center':'AAPL'}, xlabel='Data', ylabel='Price'>"
            ]
          },
          "metadata": {},
          "execution_count": 50
        },
        {
          "output_type": "display_data",
          "data": {
            "text/plain": [
              "<Figure size 1152x576 with 1 Axes>"
            ],
            "image/png": "[encoded data removed]"
          },
          "metadata": {
            "needs_background": "light"
          }
        }
      ]
    },
    {
      "cell_type": "code",
      "source": [
        "#Stock price with MA5,10,15,30 for AAPL"
      ],
      "metadata": {
        "id": "eUisVpK8Nr5W"
      },
      "execution_count": null,
      "outputs": []
    },
    {
      "cell_type": "code",
      "source": [
        "MA_TSLA = pd.DataFrame()\n",
        "\n",
        "for i in ma:\n",
        "  MA_TSLA['MA5',i] = stock_data['Close','TSLA'].rolling(i).mean()\n",
        "MA_TSLA['Close'] = stock_data['Close','TSLA']\n",
        "MA_TSLA.plot(label = 'MA_TSLA', ylabel = 'Price', xlabel = 'Data', figsize=(16,8), title = 'TSLA')"
      ],
      "metadata": {
        "colab": {
          "base_uri": "https://localhost:8080/",
          "height": 514
        },
        "id": "m0PKCepVMzwE",
        "outputId": "889568c6-5375-4e23-e3bc-22fa99cb7e67"
      },
      "execution_count": 52,
      "outputs": [
        {
          "output_type": "execute_result",
          "data": {
            "text/plain": [
              "<AxesSubplot:title={'center':'TSLA'}, xlabel='Data', ylabel='Price'>"
            ]
          },
          "metadata": {},
          "execution_count": 52
        },
        {
          "output_type": "display_data",
          "data": {
            "text/plain": [
              "<Figure size 1152x576 with 1 Axes>"
            ],
            "image/png": "[encoded data removed]"
          },
          "metadata": {
            "needs_background": "light"
          }
        }
      ]
    },
    {
      "cell_type": "code",
      "source": [
        "#Stock price with MA5,10,15,30 for AAPL"
      ],
      "metadata": {
        "id": "WICWkgZCNt3o"
      },
      "execution_count": null,
      "outputs": []
    },
    {
      "cell_type": "code",
      "source": [
        "MA_AMZN = pd.DataFrame()\n",
        "\n",
        "for i in ma:\n",
        "  MA_AMZN['MA5',i] = stock_data['Close','AMZN'].rolling(i).mean()\n",
        "MA_AMZN['Close'] = stock_data['Close','AMZN']\n",
        "MA_AMZN.plot(label = 'MA_AMZN', ylabel = 'Price', xlabel = 'Data', figsize=(16,8), title = 'AMZN')"
      ],
      "metadata": {
        "colab": {
          "base_uri": "https://localhost:8080/",
          "height": 514
        },
        "id": "BAQuZvXNNR0D",
        "outputId": "1b90adec-8136-479e-c318-138c4bce50bb"
      },
      "execution_count": 53,
      "outputs": [
        {
          "output_type": "execute_result",
          "data": {
            "text/plain": [
              "<AxesSubplot:title={'center':'AMZN'}, xlabel='Data', ylabel='Price'>"
            ]
          },
          "metadata": {},
          "execution_count": 53
        },
        {
          "output_type": "display_data",
          "data": {
            "text/plain": [
              "<Figure size 1152x576 with 1 Axes>"
            ],
            "image/png": "[encoded data removed]"
          },
          "metadata": {
            "needs_background": "light"
          }
        }
      ]
    },
    {
      "cell_type": "code",
      "execution_count": null,
      "metadata": {
        "id": "vGGPl7IQgCja"
      },
      "outputs": [],
      "source": [
        "#Finally lets see if there is a relationship between these stocks\n",
        "#We can see this easily through a scatter matrix plot. \n",
        "#Import scatter_matrix from pandas.plotting and use it to create a scatter matrix plot of all the stocks'opening price. \n",
        "#You may need to rearrange the columns into a new single dataframe. Hints and info can be found here: https://pandas.pydata.org/pandas-docs/stable/visualization.html#scatter-matrix-plot **"
      ]
    },
    {
      "cell_type": "code",
      "execution_count": 54,
      "metadata": {
        "id": "_C_pY3vfgCja"
      },
      "outputs": [],
      "source": [
        "from pandas.plotting import scatter_matrix"
      ]
    },
    {
      "cell_type": "code",
      "execution_count": 56,
      "metadata": {
        "id": "-3aJfqM0gCja"
      },
      "outputs": [],
      "source": [
        "car_comp = pd.concat([stock_data['Open','AAPL'],stock_data['Open','AAPL'],stock_data['Open','AAPL']],axis=1)"
      ]
    },
    {
      "cell_type": "code",
      "source": [
        "car_comp"
      ],
      "metadata": {
        "id": "OZ1yY4y1OVUY"
      },
      "execution_count": null,
      "outputs": []
    },
    {
      "cell_type": "code",
      "execution_count": 59,
      "metadata": {
        "id": "V-NuLnPkgCja"
      },
      "outputs": [],
      "source": [
        "car_comp.columns = ['AAPL Open','TSLA Open','AMZN Open']"
      ]
    },
    {
      "cell_type": "code",
      "source": [
        "car_comp"
      ],
      "metadata": {
        "id": "tk0MS_bHOisY"
      },
      "execution_count": null,
      "outputs": []
    },
    {
      "cell_type": "code",
      "execution_count": 61,
      "metadata": {
        "colab": {
          "base_uri": "https://localhost:8080/",
          "height": 502
        },
        "id": "H9ZC5kqKgCja",
        "outputId": "aa633f1d-3b3f-4b9d-c7df-523a3f1f05c9"
      },
      "outputs": [
        {
          "output_type": "display_data",
          "data": {
            "text/plain": [
              "<Figure size 576x576 with 9 Axes>"
            ],
            "image/png": "[encoded data removed]"
          },
          "metadata": {
            "needs_background": "light"
          }
        }
      ],
      "source": [
        "# You can use a semi-colon to remove the axes print outs\n",
        "scatter_matrix(car_comp,figsize=(8,8),alpha=0.2,hist_kwds={'bins':50});"
      ]
    },
    {
      "cell_type": "code",
      "execution_count": 62,
      "metadata": {
        "id": "-nTtNLkVgCja"
      },
      "outputs": [],
      "source": [
        "import seaborn as sns\n"
      ]
    },
    {
      "cell_type": "code",
      "execution_count": 71,
      "metadata": {
        "colab": {
          "base_uri": "https://localhost:8080/",
          "height": 403
        },
        "id": "u_Ze49U5gCja",
        "outputId": "ee7132bb-2106-4981-87b3-91e6976efdcb"
      },
      "outputs": [
        {
          "output_type": "stream",
          "name": "stderr",
          "text": [
            "/usr/local/lib/python3.9/dist-packages/seaborn/distributions.py:2619: FutureWarning: `distplot` is a deprecated function and will be removed in a future version. Please adapt your code to use either `displot` (a figure-level function with similar flexibility) or `histplot` (an axes-level function for histograms).\n",
            "  warnings.warn(msg, FutureWarning)\n",
            "/usr/local/lib/python3.9/dist-packages/seaborn/distributions.py:2619: FutureWarning: `distplot` is a deprecated function and will be removed in a future version. Please adapt your code to use either `displot` (a figure-level function with similar flexibility) or `histplot` (an axes-level function for histograms).\n",
            "  warnings.warn(msg, FutureWarning)\n",
            "/usr/local/lib/python3.9/dist-packages/seaborn/distributions.py:2619: FutureWarning: `distplot` is a deprecated function and will be removed in a future version. Please adapt your code to use either `displot` (a figure-level function with similar flexibility) or `histplot` (an axes-level function for histograms).\n",
            "  warnings.warn(msg, FutureWarning)\n"
          ]
        },
        {
          "output_type": "display_data",
          "data": {
            "text/plain": [
              "<Figure size 432x288 with 1 Axes>"
            ],
            "image/png": "[encoded data removed]"
          },
          "metadata": {
            "needs_background": "light"
          }
        }
      ],
      "source": [
        "sns.set_style()\n",
        "for i in stock_data['Close']:\n",
        "  sns.distplot(stock_data['Close',i])"
      ]
    },
    {
      "cell_type": "code",
      "source": [
        "sns.set_style()\n",
        "sns.distplot(stock_data['Close'])"
      ],
      "metadata": {
        "colab": {
          "base_uri": "https://localhost:8080/",
          "height": 337
        },
        "id": "iYF1zkq3SEFh",
        "outputId": "dd97a4bf-e63a-4281-9947-37743f25b963"
      },
      "execution_count": 73,
      "outputs": [
        {
          "output_type": "stream",
          "name": "stderr",
          "text": [
            "/usr/local/lib/python3.9/dist-packages/seaborn/distributions.py:2619: FutureWarning: `distplot` is a deprecated function and will be removed in a future version. Please adapt your code to use either `displot` (a figure-level function with similar flexibility) or `histplot` (an axes-level function for histograms).\n",
            "  warnings.warn(msg, FutureWarning)\n"
          ]
        },
        {
          "output_type": "execute_result",
          "data": {
            "text/plain": [
              "<AxesSubplot:ylabel='Density'>"
            ]
          },
          "metadata": {},
          "execution_count": 73
        },
        {
          "output_type": "display_data",
          "data": {
            "text/plain": [
              "<Figure size 432x288 with 1 Axes>"
            ],
            "image/png": "[encoded data removed]"
          },
          "metadata": {
            "needs_background": "light"
          }
        }
      ]
    },
    {
      "cell_type": "code",
      "source": [
        "MA_AAPL['Open'] = (stock_data['Open','AAPL'])\n",
        "MA_AAPL"
      ],
      "metadata": {
        "id": "_VCyBOrNUpi_"
      },
      "execution_count": null,
      "outputs": []
    },
    {
      "cell_type": "code",
      "execution_count": 82,
      "metadata": {
        "colab": {
          "base_uri": "https://localhost:8080/",
          "height": 386
        },
        "id": "adk91NiMgCja",
        "outputId": "9c49b7fa-51ce-437f-cc44-8aac58193ee8"
      },
      "outputs": [
        {
          "output_type": "execute_result",
          "data": {
            "text/plain": [
              "<seaborn.axisgrid.FacetGrid at 0x7f95307bc580>"
            ]
          },
          "metadata": {},
          "execution_count": 82
        },
        {
          "output_type": "display_data",
          "data": {
            "text/plain": [
              "<Figure size 360x360 with 1 Axes>"
            ],
            "image/png": "[encoded data removed]"
          },
          "metadata": {
            "needs_background": "light"
          }
        }
      ],
      "source": [
        "sns.lmplot(x='Open',y='Close', data=MA_AAPL)"
      ]
    },
    {
      "cell_type": "code",
      "source": [
        "sns.lmplot(x='Open',y='Close', data = stock_data)"
      ],
      "metadata": {
        "colab": {
          "base_uri": "https://localhost:8080/",
          "height": 663
        },
        "id": "CIQjOHhrWyPQ",
        "outputId": "1dc576e0-641e-4bf5-cc8b-572f0d4bb4b2"
      },
      "execution_count": 90,
      "outputs": [
        {
          "output_type": "error",
          "ename": "ValueError",
          "evalue": "ignored",
          "traceback": [
            "\u001b[0;31m---------------------------------------------------------------------------\u001b[0m",
            "\u001b[0;31mValueError\u001b[0m                                Traceback (most recent call last)",
            "\u001b[0;32m<ipython-input-90-c24798acf603>\u001b[0m in \u001b[0;36m<module>\u001b[0;34m\u001b[0m\n\u001b[0;32m----> 1\u001b[0;31m \u001b[0msns\u001b[0m\u001b[0;34m.\u001b[0m\u001b[0mlmplot\u001b[0m\u001b[0;34m(\u001b[0m\u001b[0mx\u001b[0m\u001b[0;34m=\u001b[0m\u001b[0;34m'Open'\u001b[0m\u001b[0;34m,\u001b[0m\u001b[0my\u001b[0m\u001b[0;34m=\u001b[0m\u001b[0;34m'Close'\u001b[0m\u001b[0;34m,\u001b[0m \u001b[0mdata\u001b[0m \u001b[0;34m=\u001b[0m \u001b[0mstock_data\u001b[0m\u001b[0;34m)\u001b[0m\u001b[0;34m\u001b[0m\u001b[0;34m\u001b[0m\u001b[0m\n\u001b[0m",
            "\u001b[0;32m/usr/local/lib/python3.9/dist-packages/seaborn/_decorators.py\u001b[0m in \u001b[0;36minner_f\u001b[0;34m(*args, **kwargs)\u001b[0m\n\u001b[1;32m     44\u001b[0m             )\n\u001b[1;32m     45\u001b[0m         \u001b[0mkwargs\u001b[0m\u001b[0;34m.\u001b[0m\u001b[0mupdate\u001b[0m\u001b[0;34m(\u001b[0m\u001b[0;34m{\u001b[0m\u001b[0mk\u001b[0m\u001b[0;34m:\u001b[0m \u001b[0marg\u001b[0m \u001b[0;32mfor\u001b[0m \u001b[0mk\u001b[0m\u001b[0;34m,\u001b[0m \u001b[0marg\u001b[0m \u001b[0;32min\u001b[0m \u001b[0mzip\u001b[0m\u001b[0;34m(\u001b[0m\u001b[0msig\u001b[0m\u001b[0;34m.\u001b[0m\u001b[0mparameters\u001b[0m\u001b[0;34m,\u001b[0m \u001b[0margs\u001b[0m\u001b[0;34m)\u001b[0m\u001b[0;34m}\u001b[0m\u001b[0;34m)\u001b[0m\u001b[0;34m\u001b[0m\u001b[0;34m\u001b[0m\u001b[0m\n\u001b[0;32m---> 46\u001b[0;31m         \u001b[0;32mreturn\u001b[0m \u001b[0mf\u001b[0m\u001b[0;34m(\u001b[0m\u001b[0;34m**\u001b[0m\u001b[0mkwargs\u001b[0m\u001b[0;34m)\u001b[0m\u001b[0;34m\u001b[0m\u001b[0;34m\u001b[0m\u001b[0m\n\u001b[0m\u001b[1;32m     47\u001b[0m     \u001b[0;32mreturn\u001b[0m \u001b[0minner_f\u001b[0m\u001b[0;34m\u001b[0m\u001b[0;34m\u001b[0m\u001b[0m\n\u001b[1;32m     48\u001b[0m \u001b[0;34m\u001b[0m\u001b[0m\n",
            "\u001b[0;32m/usr/local/lib/python3.9/dist-packages/seaborn/regression.py\u001b[0m in \u001b[0;36mlmplot\u001b[0;34m(x, y, data, hue, col, row, palette, col_wrap, height, aspect, markers, sharex, sharey, hue_order, col_order, row_order, legend, legend_out, x_estimator, x_bins, x_ci, scatter, fit_reg, ci, n_boot, units, seed, order, logistic, lowess, robust, logx, x_partial, y_partial, truncate, x_jitter, y_jitter, scatter_kws, line_kws, facet_kws, size)\u001b[0m\n\u001b[1;32m    632\u001b[0m         \u001b[0max\u001b[0m\u001b[0;34m.\u001b[0m\u001b[0mautoscale_view\u001b[0m\u001b[0;34m(\u001b[0m\u001b[0mscaley\u001b[0m\u001b[0;34m=\u001b[0m\u001b[0;32mFalse\u001b[0m\u001b[0;34m)\u001b[0m\u001b[0;34m\u001b[0m\u001b[0;34m\u001b[0m\u001b[0m\n\u001b[1;32m    633\u001b[0m \u001b[0;34m\u001b[0m\u001b[0m\n\u001b[0;32m--> 634\u001b[0;31m     \u001b[0mfacets\u001b[0m\u001b[0;34m.\u001b[0m\u001b[0mmap_dataframe\u001b[0m\u001b[0;34m(\u001b[0m\u001b[0mupdate_datalim\u001b[0m\u001b[0;34m,\u001b[0m \u001b[0mx\u001b[0m\u001b[0;34m=\u001b[0m\u001b[0mx\u001b[0m\u001b[0;34m,\u001b[0m \u001b[0my\u001b[0m\u001b[0;34m=\u001b[0m\u001b[0my\u001b[0m\u001b[0;34m)\u001b[0m\u001b[0;34m\u001b[0m\u001b[0;34m\u001b[0m\u001b[0m\n\u001b[0m\u001b[1;32m    635\u001b[0m \u001b[0;34m\u001b[0m\u001b[0m\n\u001b[1;32m    636\u001b[0m     \u001b[0;31m# Draw the regression plot on each facet\u001b[0m\u001b[0;34m\u001b[0m\u001b[0;34m\u001b[0m\u001b[0m\n",
            "\u001b[0;32m/usr/local/lib/python3.9/dist-packages/seaborn/axisgrid.py\u001b[0m in \u001b[0;36mmap_dataframe\u001b[0;34m(self, func, *args, **kwargs)\u001b[0m\n\u001b[1;32m    775\u001b[0m \u001b[0;34m\u001b[0m\u001b[0m\n\u001b[1;32m    776\u001b[0m             \u001b[0;31m# Draw the plot\u001b[0m\u001b[0;34m\u001b[0m\u001b[0;34m\u001b[0m\u001b[0m\n\u001b[0;32m--> 777\u001b[0;31m             \u001b[0mself\u001b[0m\u001b[0;34m.\u001b[0m\u001b[0m_facet_plot\u001b[0m\u001b[0;34m(\u001b[0m\u001b[0mfunc\u001b[0m\u001b[0;34m,\u001b[0m \u001b[0max\u001b[0m\u001b[0;34m,\u001b[0m \u001b[0margs\u001b[0m\u001b[0;34m,\u001b[0m \u001b[0mkwargs\u001b[0m\u001b[0;34m)\u001b[0m\u001b[0;34m\u001b[0m\u001b[0;34m\u001b[0m\u001b[0m\n\u001b[0m\u001b[1;32m    778\u001b[0m \u001b[0;34m\u001b[0m\u001b[0m\n\u001b[1;32m    779\u001b[0m         \u001b[0;31m# For axis labels, prefer to use positional args for backcompat\u001b[0m\u001b[0;34m\u001b[0m\u001b[0;34m\u001b[0m\u001b[0m\n",
            "\u001b[0;32m/usr/local/lib/python3.9/dist-packages/seaborn/axisgrid.py\u001b[0m in \u001b[0;36m_facet_plot\u001b[0;34m(self, func, ax, plot_args, plot_kwargs)\u001b[0m\n\u001b[1;32m    804\u001b[0m             \u001b[0mplot_args\u001b[0m \u001b[0;34m=\u001b[0m \u001b[0;34m[\u001b[0m\u001b[0;34m]\u001b[0m\u001b[0;34m\u001b[0m\u001b[0;34m\u001b[0m\u001b[0m\n\u001b[1;32m    805\u001b[0m             \u001b[0mplot_kwargs\u001b[0m\u001b[0;34m[\u001b[0m\u001b[0;34m\"ax\"\u001b[0m\u001b[0;34m]\u001b[0m \u001b[0;34m=\u001b[0m \u001b[0max\u001b[0m\u001b[0;34m\u001b[0m\u001b[0;34m\u001b[0m\u001b[0m\n\u001b[0;32m--> 806\u001b[0;31m         \u001b[0mfunc\u001b[0m\u001b[0;34m(\u001b[0m\u001b[0;34m*\u001b[0m\u001b[0mplot_args\u001b[0m\u001b[0;34m,\u001b[0m \u001b[0;34m**\u001b[0m\u001b[0mplot_kwargs\u001b[0m\u001b[0;34m)\u001b[0m\u001b[0;34m\u001b[0m\u001b[0;34m\u001b[0m\u001b[0m\n\u001b[0m\u001b[1;32m    807\u001b[0m \u001b[0;34m\u001b[0m\u001b[0m\n\u001b[1;32m    808\u001b[0m         \u001b[0;31m# Sort out the supporting information\u001b[0m\u001b[0;34m\u001b[0m\u001b[0;34m\u001b[0m\u001b[0m\n",
            "\u001b[0;32m/usr/local/lib/python3.9/dist-packages/seaborn/regression.py\u001b[0m in \u001b[0;36mupdate_datalim\u001b[0;34m(data, x, y, ax, **kws)\u001b[0m\n\u001b[1;32m    629\u001b[0m     \u001b[0;32mdef\u001b[0m \u001b[0mupdate_datalim\u001b[0m\u001b[0;34m(\u001b[0m\u001b[0mdata\u001b[0m\u001b[0;34m,\u001b[0m \u001b[0mx\u001b[0m\u001b[0;34m,\u001b[0m \u001b[0my\u001b[0m\u001b[0;34m,\u001b[0m \u001b[0max\u001b[0m\u001b[0;34m,\u001b[0m \u001b[0;34m**\u001b[0m\u001b[0mkws\u001b[0m\u001b[0;34m)\u001b[0m\u001b[0;34m:\u001b[0m\u001b[0;34m\u001b[0m\u001b[0;34m\u001b[0m\u001b[0m\n\u001b[1;32m    630\u001b[0m         \u001b[0mxys\u001b[0m \u001b[0;34m=\u001b[0m \u001b[0mnp\u001b[0m\u001b[0;34m.\u001b[0m\u001b[0masarray\u001b[0m\u001b[0;34m(\u001b[0m\u001b[0mdata\u001b[0m\u001b[0;34m[\u001b[0m\u001b[0;34m[\u001b[0m\u001b[0mx\u001b[0m\u001b[0;34m,\u001b[0m \u001b[0my\u001b[0m\u001b[0;34m]\u001b[0m\u001b[0;34m]\u001b[0m\u001b[0;34m)\u001b[0m\u001b[0;34m.\u001b[0m\u001b[0mastype\u001b[0m\u001b[0;34m(\u001b[0m\u001b[0mfloat\u001b[0m\u001b[0;34m)\u001b[0m\u001b[0;34m\u001b[0m\u001b[0;34m\u001b[0m\u001b[0m\n\u001b[0;32m--> 631\u001b[0;31m         \u001b[0max\u001b[0m\u001b[0;34m.\u001b[0m\u001b[0mupdate_datalim\u001b[0m\u001b[0;34m(\u001b[0m\u001b[0mxys\u001b[0m\u001b[0;34m,\u001b[0m \u001b[0mupdatey\u001b[0m\u001b[0;34m=\u001b[0m\u001b[0;32mFalse\u001b[0m\u001b[0;34m)\u001b[0m\u001b[0;34m\u001b[0m\u001b[0;34m\u001b[0m\u001b[0m\n\u001b[0m\u001b[1;32m    632\u001b[0m         \u001b[0max\u001b[0m\u001b[0;34m.\u001b[0m\u001b[0mautoscale_view\u001b[0m\u001b[0;34m(\u001b[0m\u001b[0mscaley\u001b[0m\u001b[0;34m=\u001b[0m\u001b[0;32mFalse\u001b[0m\u001b[0;34m)\u001b[0m\u001b[0;34m\u001b[0m\u001b[0;34m\u001b[0m\u001b[0m\n\u001b[1;32m    633\u001b[0m \u001b[0;34m\u001b[0m\u001b[0m\n",
            "\u001b[0;32m/usr/local/lib/python3.9/dist-packages/matplotlib/axes/_base.py\u001b[0m in \u001b[0;36mupdate_datalim\u001b[0;34m(self, xys, updatex, updatey)\u001b[0m\n\u001b[1;32m   2481\u001b[0m         \u001b[0;32mif\u001b[0m \u001b[0;32mnot\u001b[0m \u001b[0mnp\u001b[0m\u001b[0;34m.\u001b[0m\u001b[0many\u001b[0m\u001b[0;34m(\u001b[0m\u001b[0mnp\u001b[0m\u001b[0;34m.\u001b[0m\u001b[0misfinite\u001b[0m\u001b[0;34m(\u001b[0m\u001b[0mxys\u001b[0m\u001b[0;34m)\u001b[0m\u001b[0;34m)\u001b[0m\u001b[0;34m:\u001b[0m\u001b[0;34m\u001b[0m\u001b[0;34m\u001b[0m\u001b[0m\n\u001b[1;32m   2482\u001b[0m             \u001b[0;32mreturn\u001b[0m\u001b[0;34m\u001b[0m\u001b[0;34m\u001b[0m\u001b[0m\n\u001b[0;32m-> 2483\u001b[0;31m         self.dataLim.update_from_data_xy(xys, self.ignore_existing_data_limits,\n\u001b[0m\u001b[1;32m   2484\u001b[0m                                          updatex=updatex, updatey=updatey)\n\u001b[1;32m   2485\u001b[0m         \u001b[0mself\u001b[0m\u001b[0;34m.\u001b[0m\u001b[0mignore_existing_data_limits\u001b[0m \u001b[0;34m=\u001b[0m \u001b[0;32mFalse\u001b[0m\u001b[0;34m\u001b[0m\u001b[0;34m\u001b[0m\u001b[0m\n",
            "\u001b[0;32m/usr/local/lib/python3.9/dist-packages/matplotlib/transforms.py\u001b[0m in \u001b[0;36mupdate_from_data_xy\u001b[0;34m(self, xy, ignore, updatex, updatey)\u001b[0m\n\u001b[1;32m    965\u001b[0m             \u001b[0;32mreturn\u001b[0m\u001b[0;34m\u001b[0m\u001b[0;34m\u001b[0m\u001b[0m\n\u001b[1;32m    966\u001b[0m \u001b[0;34m\u001b[0m\u001b[0m\n\u001b[0;32m--> 967\u001b[0;31m         \u001b[0mpath\u001b[0m \u001b[0;34m=\u001b[0m \u001b[0mPath\u001b[0m\u001b[0;34m(\u001b[0m\u001b[0mxy\u001b[0m\u001b[0;34m)\u001b[0m\u001b[0;34m\u001b[0m\u001b[0;34m\u001b[0m\u001b[0m\n\u001b[0m\u001b[1;32m    968\u001b[0m         self.update_from_path(path, ignore=ignore,\n\u001b[1;32m    969\u001b[0m                               updatex=updatex, updatey=updatey)\n",
            "\u001b[0;32m/usr/local/lib/python3.9/dist-packages/matplotlib/path.py\u001b[0m in \u001b[0;36m__init__\u001b[0;34m(self, vertices, codes, _interpolation_steps, closed, readonly)\u001b[0m\n\u001b[1;32m    128\u001b[0m         \"\"\"\n\u001b[1;32m    129\u001b[0m         \u001b[0mvertices\u001b[0m \u001b[0;34m=\u001b[0m \u001b[0m_to_unmasked_float_array\u001b[0m\u001b[0;34m(\u001b[0m\u001b[0mvertices\u001b[0m\u001b[0;34m)\u001b[0m\u001b[0;34m\u001b[0m\u001b[0;34m\u001b[0m\u001b[0m\n\u001b[0;32m--> 130\u001b[0;31m         \u001b[0m_api\u001b[0m\u001b[0;34m.\u001b[0m\u001b[0mcheck_shape\u001b[0m\u001b[0;34m(\u001b[0m\u001b[0;34m(\u001b[0m\u001b[0;32mNone\u001b[0m\u001b[0;34m,\u001b[0m \u001b[0;36m2\u001b[0m\u001b[0;34m)\u001b[0m\u001b[0;34m,\u001b[0m \u001b[0mvertices\u001b[0m\u001b[0;34m=\u001b[0m\u001b[0mvertices\u001b[0m\u001b[0;34m)\u001b[0m\u001b[0;34m\u001b[0m\u001b[0;34m\u001b[0m\u001b[0m\n\u001b[0m\u001b[1;32m    131\u001b[0m \u001b[0;34m\u001b[0m\u001b[0m\n\u001b[1;32m    132\u001b[0m         \u001b[0;32mif\u001b[0m \u001b[0mcodes\u001b[0m \u001b[0;32mis\u001b[0m \u001b[0;32mnot\u001b[0m \u001b[0;32mNone\u001b[0m\u001b[0;34m:\u001b[0m\u001b[0;34m\u001b[0m\u001b[0;34m\u001b[0m\u001b[0m\n",
            "\u001b[0;32m/usr/local/lib/python3.9/dist-packages/matplotlib/_api/__init__.py\u001b[0m in \u001b[0;36mcheck_shape\u001b[0;34m(_shape, **kwargs)\u001b[0m\n\u001b[1;32m    162\u001b[0m                                     for n in target_shape))\n\u001b[1;32m    163\u001b[0m \u001b[0;34m\u001b[0m\u001b[0m\n\u001b[0;32m--> 164\u001b[0;31m             raise ValueError(\n\u001b[0m\u001b[1;32m    165\u001b[0m                 \u001b[0;34mf\"{k!r} must be {len(target_shape)}D \"\u001b[0m\u001b[0;34m\u001b[0m\u001b[0;34m\u001b[0m\u001b[0m\n\u001b[1;32m    166\u001b[0m                 \u001b[0;34mf\"with shape ({text_shape}). \"\u001b[0m\u001b[0;34m\u001b[0m\u001b[0;34m\u001b[0m\u001b[0m\n",
            "\u001b[0;31mValueError\u001b[0m: 'vertices' must be 2D with shape (M, 2). Your input has shape (39, 6)."
          ]
        },
        {
          "output_type": "display_data",
          "data": {
            "text/plain": [
              "<Figure size 360x360 with 1 Axes>"
            ],
            "image/png": "[encoded data removed]"
          },
          "metadata": {
            "needs_background": "light"
          }
        }
      ]
    },
    {
      "cell_type": "code",
      "execution_count": 83,
      "metadata": {
        "colab": {
          "base_uri": "https://localhost:8080/",
          "height": 331
        },
        "id": "4MmOvv8JgCja",
        "outputId": "56e6279f-9141-4f1d-945e-f200c41a7e04"
      },
      "outputs": [
        {
          "output_type": "execute_result",
          "data": {
            "text/plain": [
              "<AxesSubplot:>"
            ]
          },
          "metadata": {},
          "execution_count": 83
        },
        {
          "output_type": "display_data",
          "data": {
            "text/plain": [
              "<Figure size 432x288 with 2 Axes>"
            ],
            "image/png": "[encoded data removed]"
          },
          "metadata": {
            "needs_background": "light"
          }
        }
      ],
      "source": [
        "corr = MA_AAPL.corr()\n",
        "sns.heatmap(corr)"
      ]
    },
    {
      "cell_type": "code",
      "execution_count": null,
      "metadata": {
        "id": "ipV9nZl0gCja"
      },
      "outputs": [],
      "source": []
    }
  ],
  "metadata": {
    "anaconda-cloud": {},
    "kernelspec": {
      "display_name": "Python 3 (ipykernel)",
      "language": "python",
      "name": "python3"
    },
    "language_info": {
      "codemirror_mode": {
        "name": "ipython",
        "version": 3
      },
      "file_extension": ".py",
      "mimetype": "text/x-python",
      "name": "python",
      "nbconvert_exporter": "python",
      "pygments_lexer": "ipython3",
      "version": "3.9.13"
    },
    "colab": {
      "provenance": [],
      "include_colab_link": true
    }
  },
  "nbformat": 4,
  "nbformat_minor": 0
}