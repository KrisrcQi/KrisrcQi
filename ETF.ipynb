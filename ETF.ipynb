{
  "nbformat": 4,
  "nbformat_minor": 0,
  "metadata": {
    "colab": {
      "provenance": [],
      "toc_visible": true,
      "authorship_tag": "ABX9TyOyR9y21pW5GbbBJmfQj/uZ",
      "include_colab_link": true
    },
    "kernelspec": {
      "name": "python3",
      "display_name": "Python 3"
    },
    "language_info": {
      "name": "python"
    }
  },
  "cells": [
    {
      "cell_type": "markdown",
      "metadata": {
        "id": "view-in-github",
        "colab_type": "text"
      },
      "source": [
        "<a href=\"https://colab.research.google.com/github/KrisrcQi/KrisrcQi/blob/main/ETF.ipynb\" target=\"_parent\"><img src=\"https://colab.research.google.com/assets/colab-badge.svg\" alt=\"Open In Colab\"/></a>"
      ]
    },
    {
      "cell_type": "code",
      "source": [
        "## Package import and theme seting for plot \n",
        "\n",
        "import math\n",
        "import numpy as np\n",
        "import scipy.stats as scs\n",
        "import statsmodels.api as sm\n",
        "import seaborn as sns\n",
        "from pylab import mpl, plt\n",
        "\n",
        "sns.set_theme()\n",
        "mpl.rcParams['font.family'] = 'serif'\n"
      ],
      "metadata": {
        "id": "yBjcS9-2hs5O"
      },
      "execution_count": null,
      "outputs": []
    },
    {
      "cell_type": "code",
      "source": [
        "## Data reading and data information\n",
        "\n",
        "import pandas as pd\n",
        "\n",
        "rawdata = pd.read_csv('34 ETFs 2016-2020.csv',\n",
        "                  index_col=0, parse_dates=True).dropna()\n",
        "\n",
        "# rawdata = rawdata.dropna\n",
        "rawdata.info()\n",
        "# print(rawdata.head())\n",
        "# scs.describe(rawdata)\n",
        "des = rawdata.describe().round(2)\n",
        "des.to_csv('descriptive statistic')\n"
      ],
      "metadata": {
        "colab": {
          "base_uri": "https://localhost:8080/"
        },
        "id": "spLAxpU6hckc",
        "outputId": "f794f3de-1453-409e-d4fe-cc895b8c2479"
      },
      "execution_count": null,
      "outputs": [
        {
          "output_type": "stream",
          "name": "stdout",
          "text": [
            "<class 'pandas.core.frame.DataFrame'>\n",
            "DatetimeIndex: 262 entries, 2016-01-03 to 2021-01-01\n",
            "Data columns (total 34 columns):\n",
            " #   Column                                          Non-Null Count  Dtype  \n",
            "---  ------                                          --------------  -----  \n",
            " 0   Non-ferrous metals ETF                          262 non-null    float64\n",
            " 1   Coal ETF                                        262 non-null    float64\n",
            " 2   Steel ETF                                       262 non-null    float64\n",
            " 3   Photovoltaic ETF                                262 non-null    float64\n",
            " 4   CSI 1000 ETF                                    262 non-null    float64\n",
            " 5   New Energy Vehicle ETF                          262 non-null    float64\n",
            " 6   Chip ETF                                        262 non-null    float64\n",
            " 7   Semi conductor ETF                              262 non-null    float64\n",
            " 8   CSI 500 ETF                                     262 non-null    float64\n",
            " 9   Communication ETF                               262 non-null    float64\n",
            " 10  Military manufacture ETF                        262 non-null    float64\n",
            " 11  Innovative drug ETF                             262 non-null    float64\n",
            " 12  Pharmaceutical ETF                              262 non-null    float64\n",
            " 13  Agriculture ETF                                 262 non-null    float64\n",
            " 14  Medical ETF                                     262 non-null    float64\n",
            " 15  AI ETF                                          262 non-null    float64\n",
            " 16  SSE Composite Index ETF                         262 non-null    float64\n",
            " 17  CSI 800 ETF                                     262 non-null    float64\n",
            " 18  Bank ETF                                        262 non-null    float64\n",
            " 19  Liquor ETF                                      262 non-null    float64\n",
            " 20  CSI 50 ETF                                      262 non-null    float64\n",
            " 21  Science and Technology Innovation Board 50 ETF  262 non-null    float64\n",
            " 22  CSI 300 ETF                                     262 non-null    float64\n",
            " 23  Real-estate ETF                                 262 non-null    float64\n",
            " 24  5G ETF                                          262 non-null    float64\n",
            " 25  Consume ETF                                     262 non-null    float64\n",
            " 26  Computer ETF                                    262 non-null    float64\n",
            " 27  CSI 100 ETF                                     262 non-null    float64\n",
            " 28  Gold ETF                                        262 non-null    float64\n",
            " 29  Hang Seng Index ETF                             262 non-null    float64\n",
            " 30  Investing bank and Insurance ETF                262 non-null    float64\n",
            " 31  Home appliances ETF                             262 non-null    float64\n",
            " 32  S&P 500 index ETF                               262 non-null    float64\n",
            " 33  Media ETF                                       262 non-null    float64\n",
            "dtypes: float64(34)\n",
            "memory usage: 71.6 KB\n"
          ]
        }
      ]
    },
    {
      "cell_type": "code",
      "source": [
        "## Descriptive statistic analysis encompassed skewness and kurtosis\n",
        "\n",
        "des = rawdata.describe().round(2)\n",
        "des.loc['Skewness'] = rawdata.skew()\n",
        "des.loc['Kurtosis'] = rawdata.kurt()\n",
        "print(des)\n",
        "# des.to_csv('des.csv')"
      ],
      "metadata": {
        "id": "1NzOW_ej8g8b"
      },
      "execution_count": null,
      "outputs": []
    },
    {
      "cell_type": "code",
      "source": [
        "## Correlation analysis \n",
        "\n",
        "correlation = rawdata.corr()\n",
        "print(correlation)\n",
        "correlation.to_csv('correlation.csv')\n"
      ],
      "metadata": {
        "id": "Y9zUzedpXYfE"
      },
      "execution_count": null,
      "outputs": []
    },
    {
      "cell_type": "code",
      "source": [
        "## Jarque-Bera test \n",
        "\n",
        "mean = rawdata.mean()\n",
        "std = rawdata.std()\n",
        "\n",
        "x = std \n",
        "y = mean \n",
        "\n",
        "lin_reg = sm.OLS(y,x).fit()\n",
        "lin_reg.summary()"
      ],
      "metadata": {
        "colab": {
          "base_uri": "https://localhost:8080/",
          "height": 445
        },
        "id": "wdKqri7o_9Vl",
        "outputId": "16821233-9970-4f02-8df2-00e5a30ef29d"
      },
      "execution_count": null,
      "outputs": [
        {
          "output_type": "execute_result",
          "data": {
            "text/plain": [
              "<class 'statsmodels.iolib.summary.Summary'>\n",
              "\"\"\"\n",
              "                                 OLS Regression Results                                \n",
              "=======================================================================================\n",
              "Dep. Variable:                      y   R-squared (uncentered):                   0.386\n",
              "Model:                            OLS   Adj. R-squared (uncentered):              0.367\n",
              "Method:                 Least Squares   F-statistic:                              20.73\n",
              "Date:                Fri, 16 Dec 2022   Prob (F-statistic):                    6.83e-05\n",
              "Time:                        18:58:54   Log-Likelihood:                         -55.731\n",
              "No. Observations:                  34   AIC:                                      113.5\n",
              "Df Residuals:                      33   BIC:                                      115.0\n",
              "Df Model:                           1                                                  \n",
              "Covariance Type:            nonrobust                                                  \n",
              "==============================================================================\n",
              "                 coef    std err          t      P>|t|      [0.025      0.975]\n",
              "------------------------------------------------------------------------------\n",
              "x1             1.9755      0.434      4.554      0.000       1.093       2.858\n",
              "==============================================================================\n",
              "Omnibus:                       26.019   Durbin-Watson:                   2.305\n",
              "Prob(Omnibus):                  0.000   Jarque-Bera (JB):               43.684\n",
              "Skew:                           1.984   Prob(JB):                     3.27e-10\n",
              "Kurtosis:                       6.885   Cond. No.                         1.00\n",
              "==============================================================================\n",
              "\n",
              "Notes:\n",
              "[1] R² is computed without centering (uncentered) since the model does not contain a constant.\n",
              "[2] Standard Errors assume that the covariance matrix of the errors is correctly specified.\n",
              "\"\"\""
            ],
            "text/html": [
              "<table class=\"simpletable\">\n",
              "<caption>OLS Regression Results</caption>\n",
              "<tr>\n",
              "  <th>Dep. Variable:</th>            <td>y</td>        <th>  R-squared (uncentered):</th>      <td>   0.386</td>\n",
              "</tr>\n",
              "<tr>\n",
              "  <th>Model:</th>                   <td>OLS</td>       <th>  Adj. R-squared (uncentered):</th> <td>   0.367</td>\n",
              "</tr>\n",
              "<tr>\n",
              "  <th>Method:</th>             <td>Least Squares</td>  <th>  F-statistic:       </th>          <td>   20.73</td>\n",
              "</tr>\n",
              "<tr>\n",
              "  <th>Date:</th>             <td>Fri, 16 Dec 2022</td> <th>  Prob (F-statistic):</th>          <td>6.83e-05</td>\n",
              "</tr>\n",
              "<tr>\n",
              "  <th>Time:</th>                 <td>18:58:54</td>     <th>  Log-Likelihood:    </th>          <td> -55.731</td>\n",
              "</tr>\n",
              "<tr>\n",
              "  <th>No. Observations:</th>      <td>    34</td>      <th>  AIC:               </th>          <td>   113.5</td>\n",
              "</tr>\n",
              "<tr>\n",
              "  <th>Df Residuals:</th>          <td>    33</td>      <th>  BIC:               </th>          <td>   115.0</td>\n",
              "</tr>\n",
              "<tr>\n",
              "  <th>Df Model:</th>              <td>     1</td>      <th>                     </th>              <td> </td>   \n",
              "</tr>\n",
              "<tr>\n",
              "  <th>Covariance Type:</th>      <td>nonrobust</td>    <th>                     </th>              <td> </td>   \n",
              "</tr>\n",
              "</table>\n",
              "<table class=\"simpletable\">\n",
              "<tr>\n",
              "   <td></td>     <th>coef</th>     <th>std err</th>      <th>t</th>      <th>P>|t|</th>  <th>[0.025</th>    <th>0.975]</th>  \n",
              "</tr>\n",
              "<tr>\n",
              "  <th>x1</th> <td>    1.9755</td> <td>    0.434</td> <td>    4.554</td> <td> 0.000</td> <td>    1.093</td> <td>    2.858</td>\n",
              "</tr>\n",
              "</table>\n",
              "<table class=\"simpletable\">\n",
              "<tr>\n",
              "  <th>Omnibus:</th>       <td>26.019</td> <th>  Durbin-Watson:     </th> <td>   2.305</td>\n",
              "</tr>\n",
              "<tr>\n",
              "  <th>Prob(Omnibus):</th> <td> 0.000</td> <th>  Jarque-Bera (JB):  </th> <td>  43.684</td>\n",
              "</tr>\n",
              "<tr>\n",
              "  <th>Skew:</th>          <td> 1.984</td> <th>  Prob(JB):          </th> <td>3.27e-10</td>\n",
              "</tr>\n",
              "<tr>\n",
              "  <th>Kurtosis:</th>      <td> 6.885</td> <th>  Cond. No.          </th> <td>    1.00</td>\n",
              "</tr>\n",
              "</table><br/><br/>Notes:<br/>[1] R² is computed without centering (uncentered) since the model does not contain a constant.<br/>[2] Standard Errors assume that the covariance matrix of the errors is correctly specified."
            ]
          },
          "metadata": {},
          "execution_count": 59
        }
      ]
    },
    {
      "cell_type": "code",
      "execution_count": null,
      "metadata": {
        "id": "JxIyXHy9gu1S"
      },
      "outputs": [],
      "source": [
        "\n",
        "def print_statistics(array):\n",
        "    ''' Prints selected statistics.\n",
        "    Parameters\n",
        "    ==========\n",
        "    array: ndarray\n",
        "    object to generate statistics on\n",
        "    '''\n",
        "    sta = scs.describe(array)\n",
        "    print('%14s %15s' % ('statistic', 'value'))\n",
        "    print(30 * '-')\n",
        "    print('%14s %15.5f' % ('size', sta[0]))\n",
        "    print('%14s %15.5f' % ('min', sta[1][0]))\n",
        "    print('%14s %15.5f' % ('max', sta[1][1]))\n",
        "    print('%14s %15.5f' % ('mean', sta[2]))\n",
        "    print('%14s %15.5f' % ('std', np.sqrt(sta[3])))\n",
        "    print('%14s %15.5f' % ('skew', sta[4]))\n",
        "    print('%14s %15.5f' % ('kurtosis', sta[5]))\n"
      ]
    },
    {
      "cell_type": "code",
      "source": [],
      "metadata": {
        "id": "fPBpCHAuhbS-"
      },
      "execution_count": null,
      "outputs": []
    }
  ]
}