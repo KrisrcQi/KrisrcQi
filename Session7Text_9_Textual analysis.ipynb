{
  "cells": [
    {
      "cell_type": "markdown",
      "metadata": {
        "id": "view-in-github",
        "colab_type": "text"
      },
      "source": [
        "<a href=\"https://colab.research.google.com/github/KrisrcQi/KrisrcQi/blob/Financial-information-course/Session7Text_9_Textual%20analysis.ipynb\" target=\"_parent\"><img src=\"https://colab.research.google.com/assets/colab-badge.svg\" alt=\"Open In Colab\"/></a>"
      ]
    },
    {
      "cell_type": "code",
      "execution_count": 122,
      "id": "04f65db8",
      "metadata": {
        "id": "04f65db8"
      },
      "outputs": [],
      "source": [
        "# Import libraries\n",
        "from urllib.request import urlopen, Request\n",
        "from bs4 import BeautifulSoup\n",
        "import os\n",
        "import pandas as pd\n",
        "import matplotlib.pyplot as plt\n",
        "%matplotlib inline  \n"
      ]
    },
    {
      "cell_type": "code",
      "execution_count": 123,
      "id": "0e0fe50d",
      "metadata": {
        "id": "0e0fe50d"
      },
      "outputs": [],
      "source": [
        "#counting words"
      ]
    },
    {
      "cell_type": "code",
      "execution_count": 124,
      "id": "f2c4a701",
      "metadata": {
        "id": "f2c4a701"
      },
      "outputs": [],
      "source": [
        "martysSpeech=\"You know what I hate? Anybody who drives an S.U.V. I'd really like to find Mr. It-Costs-Me-100-Dollars-To-Gas-Up and kick him square in the teeth. Booyah. Be like, I'm Marty Stepp, the best ever. Booyah!\"\n"
      ]
    },
    {
      "cell_type": "code",
      "execution_count": 125,
      "id": "3a27a7e7",
      "metadata": {
        "colab": {
          "base_uri": "https://localhost:8080/"
        },
        "id": "3a27a7e7",
        "outputId": "b832b3e7-8415-4109-cc5f-63aa6220eb4e"
      },
      "outputs": [
        {
          "output_type": "execute_result",
          "data": {
            "text/plain": [
              "['You',\n",
              " 'know',\n",
              " 'what',\n",
              " 'I',\n",
              " 'hate?',\n",
              " 'Anybody',\n",
              " 'who',\n",
              " 'drives',\n",
              " 'an',\n",
              " 'S.U.V.',\n",
              " \"I'd\",\n",
              " 'really',\n",
              " 'like',\n",
              " 'to',\n",
              " 'find',\n",
              " 'Mr.',\n",
              " 'It-Costs-Me-100-Dollars-To-Gas-Up',\n",
              " 'and',\n",
              " 'kick',\n",
              " 'him',\n",
              " 'square',\n",
              " 'in',\n",
              " 'the',\n",
              " 'teeth.',\n",
              " 'Booyah.',\n",
              " 'Be',\n",
              " 'like,',\n",
              " \"I'm\",\n",
              " 'Marty',\n",
              " 'Stepp,',\n",
              " 'the',\n",
              " 'best',\n",
              " 'ever.',\n",
              " 'Booyah!']"
            ]
          },
          "metadata": {},
          "execution_count": 125
        }
      ],
      "source": [
        "martysSpeech.split()"
      ]
    },
    {
      "cell_type": "code",
      "execution_count": 126,
      "id": "48a30807",
      "metadata": {
        "colab": {
          "base_uri": "https://localhost:8080/"
        },
        "id": "48a30807",
        "outputId": "c77ecc4c-5d8a-4272-8ffe-7276c5b6b35f"
      },
      "outputs": [
        {
          "output_type": "execute_result",
          "data": {
            "text/plain": [
              "0"
            ]
          },
          "metadata": {},
          "execution_count": 126
        }
      ],
      "source": [
        "martysSpeech.split().count(\"booyah\")"
      ]
    },
    {
      "cell_type": "code",
      "execution_count": 127,
      "id": "ec01563f",
      "metadata": {
        "colab": {
          "base_uri": "https://localhost:8080/"
        },
        "id": "ec01563f",
        "outputId": "1ecfb2a7-75b4-4b22-e530-cce3eb46e3d8"
      },
      "outputs": [
        {
          "output_type": "execute_result",
          "data": {
            "text/plain": [
              "1"
            ]
          },
          "metadata": {},
          "execution_count": 127
        }
      ],
      "source": [
        "martysSpeech.lower().split().count(\"booyah!\")"
      ]
    },
    {
      "cell_type": "code",
      "execution_count": 128,
      "id": "b68a28d1",
      "metadata": {
        "colab": {
          "base_uri": "https://localhost:8080/"
        },
        "id": "b68a28d1",
        "outputId": "54044749-1cec-40d9-8e33-fb803747ad6f"
      },
      "outputs": [
        {
          "output_type": "execute_result",
          "data": {
            "text/plain": [
              "1"
            ]
          },
          "metadata": {},
          "execution_count": 128
        }
      ],
      "source": [
        "martysSpeech.split().count(\"what\")"
      ]
    },
    {
      "cell_type": "code",
      "execution_count": 129,
      "id": "49839e1e",
      "metadata": {
        "id": "49839e1e"
      },
      "outputs": [],
      "source": [
        "# Tokenization"
      ]
    },
    {
      "cell_type": "code",
      "source": [
        "import nltk.tokenize\n",
        "import nltk\n",
        "nltk.download('punkt')\n"
      ],
      "metadata": {
        "colab": {
          "base_uri": "https://localhost:8080/"
        },
        "id": "bPy3_DugGjEr",
        "outputId": "c59aceff-4ca8-4c5b-e962-63f561d02980"
      },
      "id": "bPy3_DugGjEr",
      "execution_count": 130,
      "outputs": [
        {
          "output_type": "stream",
          "name": "stderr",
          "text": [
            "[nltk_data] Downloading package punkt to /root/nltk_data...\n",
            "[nltk_data]   Package punkt is already up-to-date!\n"
          ]
        },
        {
          "output_type": "execute_result",
          "data": {
            "text/plain": [
              "True"
            ]
          },
          "metadata": {},
          "execution_count": 130
        }
      ]
    },
    {
      "cell_type": "code",
      "execution_count": 131,
      "id": "a19458a5",
      "metadata": {
        "colab": {
          "base_uri": "https://localhost:8080/"
        },
        "id": "a19458a5",
        "outputId": "c865d773-d485-4215-8cb6-226e6f599ca9"
      },
      "outputs": [
        {
          "output_type": "execute_result",
          "data": {
            "text/plain": [
              "nltk.tokenize.regexp.WordPunctTokenizer"
            ]
          },
          "metadata": {},
          "execution_count": 131
        }
      ],
      "source": [
        "nltk.tokenize.WordPunctTokenizer"
      ]
    },
    {
      "cell_type": "code",
      "execution_count": 132,
      "id": "386508ab",
      "metadata": {
        "id": "386508ab"
      },
      "outputs": [],
      "source": [
        "from nltk.tokenize import sent_tokenize #by sentence\n"
      ]
    },
    {
      "cell_type": "code",
      "execution_count": 133,
      "id": "c29bcef5",
      "metadata": {
        "colab": {
          "base_uri": "https://localhost:8080/"
        },
        "id": "c29bcef5",
        "outputId": "604760e0-442e-48ea-dba6-83c89b2a85e6"
      },
      "outputs": [
        {
          "output_type": "stream",
          "name": "stdout",
          "text": [
            "['Hello Mr. Smith, how are you doing today?', 'The weather is great, and city is awesome.The sky is pinkish-blue.', \"You shouldn't eat cardboard\"]\n"
          ]
        }
      ],
      "source": [
        "text=\"\"\"Hello Mr. Smith, how are you doing today? The weather is great, and city is awesome.The sky is pinkish-blue. You shouldn't eat cardboard\"\"\"\n",
        "tokenized_text = sent_tokenize(text)\n",
        "print(tokenized_text)\n"
      ]
    },
    {
      "cell_type": "code",
      "execution_count": 134,
      "id": "7968d57c",
      "metadata": {
        "colab": {
          "base_uri": "https://localhost:8080/"
        },
        "id": "7968d57c",
        "outputId": "1926136d-64ff-480f-d312-36bbadcc495b"
      },
      "outputs": [
        {
          "output_type": "stream",
          "name": "stdout",
          "text": [
            "['Hello', 'Mr.', 'Smith', ',', 'how', 'are', 'you', 'doing', 'today', '?', 'The', 'weather', 'is', 'great', ',', 'and', 'city', 'is', 'awesome.The', 'sky', 'is', 'pinkish-blue', '.', 'You', 'should', \"n't\", 'eat', 'cardboard']\n"
          ]
        }
      ],
      "source": [
        "from nltk.tokenize import word_tokenize\n",
        "tokenized_word=word_tokenize(text)\n",
        "print(tokenized_word)\n"
      ]
    },
    {
      "cell_type": "code",
      "execution_count": null,
      "id": "ef499346",
      "metadata": {
        "id": "ef499346"
      },
      "outputs": [],
      "source": [
        "#Frequency distribution"
      ]
    },
    {
      "cell_type": "code",
      "execution_count": 135,
      "id": "47843523",
      "metadata": {
        "colab": {
          "base_uri": "https://localhost:8080/"
        },
        "id": "47843523",
        "outputId": "56bfcfa7-a49a-4224-851e-52caf334d91b"
      },
      "outputs": [
        {
          "output_type": "stream",
          "name": "stdout",
          "text": [
            "<FreqDist with 25 samples and 28 outcomes>\n"
          ]
        }
      ],
      "source": [
        "from nltk.probability import FreqDist\n",
        "fdist = FreqDist(tokenized_word)\n",
        "print(fdist)"
      ]
    },
    {
      "cell_type": "code",
      "execution_count": 136,
      "id": "679e48ee",
      "metadata": {
        "colab": {
          "base_uri": "https://localhost:8080/"
        },
        "id": "679e48ee",
        "outputId": "e92f50d7-c68f-42d8-b461-9e54f5171922"
      },
      "outputs": [
        {
          "output_type": "execute_result",
          "data": {
            "text/plain": [
              "[('is', 3), (',', 2)]"
            ]
          },
          "metadata": {},
          "execution_count": 136
        }
      ],
      "source": [
        "fdist.most_common(2)"
      ]
    },
    {
      "cell_type": "code",
      "execution_count": 137,
      "id": "27d0ae29",
      "metadata": {
        "colab": {
          "base_uri": "https://localhost:8080/",
          "height": 338
        },
        "id": "27d0ae29",
        "outputId": "2c0215b9-50f1-43aa-e47b-33ea8552159d"
      },
      "outputs": [
        {
          "output_type": "display_data",
          "data": {
            "text/plain": [
              "<Figure size 432x288 with 1 Axes>"
            ],
            "image/png": "[encoded data removed]"
          },
          "metadata": {
            "needs_background": "light"
          }
        }
      ],
      "source": [
        "# Frequency Distribution Plot\n",
        "import matplotlib.pyplot as plt\n",
        "fdist.plot(30,cumulative=False)\n",
        "plt.show()"
      ]
    },
    {
      "cell_type": "code",
      "execution_count": null,
      "id": "38736cec",
      "metadata": {
        "id": "38736cec"
      },
      "outputs": [],
      "source": [
        "#Stopwords"
      ]
    },
    {
      "cell_type": "code",
      "source": [
        "import nltk\n",
        "nltk.download('stopwords')"
      ],
      "metadata": {
        "colab": {
          "base_uri": "https://localhost:8080/"
        },
        "id": "hMURi3DqlTNA",
        "outputId": "30a08a43-e9a0-491c-cdaf-e44490c80820"
      },
      "id": "hMURi3DqlTNA",
      "execution_count": 138,
      "outputs": [
        {
          "output_type": "stream",
          "name": "stderr",
          "text": [
            "[nltk_data] Downloading package stopwords to /root/nltk_data...\n",
            "[nltk_data]   Package stopwords is already up-to-date!\n"
          ]
        },
        {
          "output_type": "execute_result",
          "data": {
            "text/plain": [
              "True"
            ]
          },
          "metadata": {},
          "execution_count": 138
        }
      ]
    },
    {
      "cell_type": "code",
      "execution_count": 139,
      "id": "4ef94d67",
      "metadata": {
        "colab": {
          "base_uri": "https://localhost:8080/"
        },
        "id": "4ef94d67",
        "outputId": "28261315-eb34-4fab-c188-d9045c10fe63"
      },
      "outputs": [
        {
          "output_type": "stream",
          "name": "stdout",
          "text": [
            "{'when', 're', 'shouldn', \"wouldn't\", 'a', 'his', 'was', \"weren't\", 'below', 'themselves', 'will', \"she's\", 'again', 'once', 'both', 'very', 'd', 'll', 'hadn', 'their', 'some', 'but', 'ours', 'it', 'from', 'be', 'under', 'won', 'that', 'each', 't', 'do', 'herself', 'before', 'mightn', 'whom', 'until', 'by', 'so', 'am', 'and', 'with', 'is', 'out', 'where', 'this', 'of', 'our', 'theirs', 'were', 'the', \"it's\", 'no', 'm', 's', 'which', 'doesn', \"needn't\", 'its', 'further', 'during', 'too', 'y', 'had', 'itself', 'nor', \"haven't\", 'ma', \"you'll\", 'why', 'isn', 'yours', 'my', 'you', 'hers', 'needn', 'did', 'any', 'he', 'more', 'what', 'have', \"mustn't\", 'down', 'an', \"you've\", 'yourself', 'into', 'here', 'because', \"shouldn't\", 'ain', 'up', 'those', 'in', 'being', 'mustn', 'these', 'how', 'there', 'if', \"don't\", 'him', 'not', 'haven', 'don', \"won't\", \"that'll\", 'most', 'ourselves', 'your', 'only', 'off', \"shan't\", 'yourselves', 'as', 'about', 'then', \"should've\", \"isn't\", 'now', 'own', 'we', 'hasn', \"aren't\", 've', \"mightn't\", 'few', 'they', \"wasn't\", 'just', \"hasn't\", 'for', 'shan', 'all', 'at', 'does', 'to', 'over', 'should', 'such', \"couldn't\", 'having', 'doing', 'who', \"hadn't\", 'weren', 'between', \"didn't\", 'or', 'himself', 'didn', 'o', 'me', 'wasn', 'same', 'myself', 'wouldn', 'through', 'other', \"doesn't\", 'on', 'her', 'them', 'has', 'than', 'while', 'couldn', 'can', \"you're\", 'are', 'above', 'against', \"you'd\", 'she', 'i', 'been', 'aren', 'after'}\n"
          ]
        }
      ],
      "source": [
        "from nltk.corpus import stopwords\n",
        "stop_words=set(stopwords.words(\"english\"))\n",
        "print(stop_words)"
      ]
    },
    {
      "cell_type": "code",
      "execution_count": 140,
      "id": "0d63b687",
      "metadata": {
        "colab": {
          "base_uri": "https://localhost:8080/"
        },
        "id": "0d63b687",
        "outputId": "9867e5ab-2b58-43b8-ea52-7dbde40933c4"
      },
      "outputs": [
        {
          "output_type": "stream",
          "name": "stdout",
          "text": [
            "Tokenized Sentence: ['Hello', 'Mr.', 'Smith', ',', 'how', 'are', 'you', 'doing', 'today', '?', 'The', 'weather', 'is', 'great', ',', 'and', 'city', 'is', 'awesome.The', 'sky', 'is', 'pinkish-blue', '.', 'You', 'should', \"n't\", 'eat', 'cardboard']\n",
            "Filterd Sentence: ['Hello', 'Mr.', 'Smith', ',', 'today', '?', 'The', 'weather', 'great', ',', 'city', 'awesome.The', 'sky', 'pinkish-blue', '.', 'You', \"n't\", 'eat', 'cardboard']\n"
          ]
        }
      ],
      "source": [
        "filtered_sent=[]\n",
        "for z in tokenized_word:\n",
        "    if z not in stop_words:\n",
        "        filtered_sent.append(z)\n",
        "print(\"Tokenized Sentence:\",tokenized_word)\n",
        "print(\"Filterd Sentence:\",filtered_sent)"
      ]
    },
    {
      "cell_type": "code",
      "execution_count": 141,
      "id": "4f99120d",
      "metadata": {
        "colab": {
          "base_uri": "https://localhost:8080/"
        },
        "id": "4f99120d",
        "outputId": "30199fcf-5a07-4336-bbb2-870d7d1c9e4b"
      },
      "outputs": [
        {
          "output_type": "stream",
          "name": "stdout",
          "text": [
            "['This', 'sample', 'sentence', ',', 'showing', 'stop', 'words', 'filtration', '.']\n"
          ]
        },
        {
          "output_type": "stream",
          "name": "stderr",
          "text": [
            "[nltk_data] Downloading package stopwords to /root/nltk_data...\n",
            "[nltk_data]   Package stopwords is already up-to-date!\n",
            "[nltk_data] Downloading package punkt to /root/nltk_data...\n",
            "[nltk_data]   Package punkt is already up-to-date!\n"
          ]
        }
      ],
      "source": [
        "import nltk\n",
        "nltk.download('stopwords')\n",
        "nltk.download('punkt')\n",
        "\n",
        "from nltk.tokenize import word_tokenize\n",
        "\n",
        "example_sent = \"This is a sample sentence, showing off the stop words filtration.\"\n",
        "stop_words = set(stopwords.words('english'))\n",
        "word_tokens = word_tokenize(example_sent)\n",
        "\n",
        "filtered_sentence = [w for w in word_tokens if not w in stop_words]\n",
        "print(filtered_sentence)"
      ]
    },
    {
      "cell_type": "code",
      "execution_count": 142,
      "id": "3d187ea2",
      "metadata": {
        "colab": {
          "base_uri": "https://localhost:8080/"
        },
        "id": "3d187ea2",
        "outputId": "d6d09728-463d-4fd4-98eb-48cfd479e03d"
      },
      "outputs": [
        {
          "output_type": "stream",
          "name": "stdout",
          "text": [
            "Tokenized Sentence: ['Hello', 'Mr.', 'Smith', ',', 'how', 'are', 'you', 'doing', 'today', '?', 'The', 'weather', 'is', 'great', ',', 'and', 'city', 'is', 'awesome.The', 'sky', 'is', 'pinkish-blue', '.', 'You', 'should', \"n't\", 'eat', 'cardboard']\n",
            "Filterd Sentence: ['Hello', 'Mr.', 'Smith', ',', 'today', '?', 'The', 'weather', 'great', ',', 'city', 'awesome.The', 'sky', 'pinkish-blue', '.', 'You', \"n't\", 'eat', 'cardboard']\n",
            "Filtered Sentence: ['Hello', 'Mr.', 'Smith', ',', 'today', '?', 'The', 'weather', 'great', ',', 'city', 'awesome.The', 'sky', 'pinkish-blue', '.', 'You', \"n't\", 'eat', 'cardboard']\n",
            "Stemmed Sentence: ['hello', 'mr.', 'smith', ',', 'today', '?', 'the', 'weather', 'great', ',', 'citi', 'awesome.th', 'sky', 'pinkish-blu', '.', 'you', \"n't\", 'eat', 'cardboard']\n"
          ]
        }
      ],
      "source": [
        "# Stemming\n",
        "from nltk.stem import PorterStemmer\n",
        "from nltk.tokenize import sent_tokenize, word_tokenize\n",
        "\n",
        "filtered_sent=[]\n",
        "for z in tokenized_word:\n",
        "    if z not in stop_words:\n",
        "        filtered_sent.append(z)\n",
        "print(\"Tokenized Sentence:\",tokenized_word)\n",
        "print(\"Filterd Sentence:\",filtered_sent)\n",
        "\n",
        "ps = PorterStemmer()\n",
        "\n",
        "stemmed_words=[]\n",
        "for w in filtered_sent:\n",
        "    stemmed_words.append(ps.stem(w))\n",
        "\n",
        "print(\"Filtered Sentence:\",filtered_sent)\n",
        "print(\"Stemmed Sentence:\",stemmed_words)"
      ]
    },
    {
      "cell_type": "code",
      "source": [
        "#Lexicon Normalization\n",
        "#performing stemming and Lemmatization"
      ],
      "metadata": {
        "id": "meHYFhZMles8"
      },
      "id": "meHYFhZMles8",
      "execution_count": 143,
      "outputs": []
    },
    {
      "cell_type": "code",
      "source": [
        "import nltk\n",
        "nltk.download('omw-1.4')"
      ],
      "metadata": {
        "colab": {
          "base_uri": "https://localhost:8080/"
        },
        "id": "viseb1mwlg-w",
        "outputId": "8cda8880-b051-4c47-e88e-5bce9b3de971"
      },
      "id": "viseb1mwlg-w",
      "execution_count": 144,
      "outputs": [
        {
          "output_type": "stream",
          "name": "stderr",
          "text": [
            "[nltk_data] Downloading package omw-1.4 to /root/nltk_data...\n",
            "[nltk_data]   Package omw-1.4 is already up-to-date!\n"
          ]
        },
        {
          "output_type": "execute_result",
          "data": {
            "text/plain": [
              "True"
            ]
          },
          "metadata": {},
          "execution_count": 144
        }
      ]
    },
    {
      "cell_type": "code",
      "execution_count": 145,
      "id": "f285f65a",
      "metadata": {
        "colab": {
          "base_uri": "https://localhost:8080/"
        },
        "id": "f285f65a",
        "outputId": "4cd554f2-dfee-4ebc-bfbc-57baba80cea8"
      },
      "outputs": [
        {
          "output_type": "stream",
          "name": "stdout",
          "text": [
            "Lemmatized Word: fly\n",
            "Stemmed Word: fli\n"
          ]
        }
      ],
      "source": [
        "\n",
        "from nltk.stem.wordnet import WordNetLemmatizer\n",
        "lem = WordNetLemmatizer()\n",
        "\n",
        "from nltk.stem.porter import PorterStemmer\n",
        "stem = PorterStemmer()\n",
        "\n",
        "word = \"flying\"\n",
        "print(\"Lemmatized Word:\",lem.lemmatize(word,\"v\"))\n",
        "print(\"Stemmed Word:\",stem.stem(word))"
      ]
    },
    {
      "cell_type": "code",
      "execution_count": 146,
      "id": "bd7f3701",
      "metadata": {
        "colab": {
          "base_uri": "https://localhost:8080/"
        },
        "id": "bd7f3701",
        "outputId": "95096434-51fd-43c1-edd7-bba33e73eb77"
      },
      "outputs": [
        {
          "output_type": "stream",
          "name": "stderr",
          "text": [
            "[nltk_data] Downloading package wordnet to /root/nltk_data...\n",
            "[nltk_data]   Package wordnet is already up-to-date!\n",
            "[nltk_data] Downloading package omw-1.4 to /root/nltk_data...\n",
            "[nltk_data]   Package omw-1.4 is already up-to-date!\n"
          ]
        }
      ],
      "source": [
        "nltk.download('wordnet')\n",
        "nltk.download('omw-1.4')\n",
        "from nltk.stem import WordNetLemmatizer, PorterStemmer, SnowballStemmer\n",
        "\n",
        "stemmer = PorterStemmer()\n",
        "lemmatizer = WordNetLemmatizer()\n",
        "\n",
        "word = \"considering\"\n",
        "\n",
        "stemmed_word =  stemmer.stem(word)\n",
        "lemmatised_word = lemmatizer.lemmatize(word)"
      ]
    },
    {
      "cell_type": "code",
      "execution_count": 147,
      "id": "e6c15faa",
      "metadata": {
        "colab": {
          "base_uri": "https://localhost:8080/",
          "height": 35
        },
        "id": "e6c15faa",
        "outputId": "49b3af20-d9e8-46a5-b424-ddc33468da1c"
      },
      "outputs": [
        {
          "output_type": "execute_result",
          "data": {
            "text/plain": [
              "'consid'"
            ],
            "application/vnd.google.colaboratory.intrinsic+json": {
              "type": "string"
            }
          },
          "metadata": {},
          "execution_count": 147
        }
      ],
      "source": [
        "stemmed_word \n"
      ]
    },
    {
      "cell_type": "code",
      "execution_count": 149,
      "id": "46b37be1",
      "metadata": {
        "colab": {
          "base_uri": "https://localhost:8080/",
          "height": 35
        },
        "id": "46b37be1",
        "outputId": "e2532e0c-7a04-4d28-a9f6-e9ca9b9327f8"
      },
      "outputs": [
        {
          "output_type": "execute_result",
          "data": {
            "text/plain": [
              "'considering'"
            ],
            "application/vnd.google.colaboratory.intrinsic+json": {
              "type": "string"
            }
          },
          "metadata": {},
          "execution_count": 149
        }
      ],
      "source": [
        "lemmatised_word "
      ]
    },
    {
      "cell_type": "code",
      "execution_count": null,
      "id": "0a72adea",
      "metadata": {
        "id": "0a72adea"
      },
      "outputs": [],
      "source": [
        "#Tagging"
      ]
    },
    {
      "cell_type": "code",
      "execution_count": 150,
      "id": "e1487218",
      "metadata": {
        "id": "e1487218"
      },
      "outputs": [],
      "source": [
        "sent = \"Albert Einstein was born in Ulm, Germany in 1879.\""
      ]
    },
    {
      "cell_type": "code",
      "execution_count": 151,
      "id": "c0baf95b",
      "metadata": {
        "colab": {
          "base_uri": "https://localhost:8080/"
        },
        "id": "c0baf95b",
        "outputId": "55c277c6-605e-4547-9088-62a23fdcafd3"
      },
      "outputs": [
        {
          "output_type": "stream",
          "name": "stdout",
          "text": [
            "['Albert', 'Einstein', 'was', 'born', 'in', 'Ulm', ',', 'Germany', 'in', '1879', '.']\n"
          ]
        }
      ],
      "source": [
        "tokens=nltk.word_tokenize(sent)\n",
        "print(tokens)"
      ]
    },
    {
      "cell_type": "code",
      "source": [
        "import nltk\n",
        "nltk.download('averaged_perceptron_tagger')"
      ],
      "metadata": {
        "colab": {
          "base_uri": "https://localhost:8080/"
        },
        "id": "WghMe8h7l82V",
        "outputId": "9144c4fe-207a-4935-eb82-e4fccff5dd2c"
      },
      "id": "WghMe8h7l82V",
      "execution_count": 152,
      "outputs": [
        {
          "output_type": "stream",
          "name": "stderr",
          "text": [
            "[nltk_data] Downloading package averaged_perceptron_tagger to\n",
            "[nltk_data]     /root/nltk_data...\n",
            "[nltk_data]   Package averaged_perceptron_tagger is already up-to-\n",
            "[nltk_data]       date!\n"
          ]
        },
        {
          "output_type": "execute_result",
          "data": {
            "text/plain": [
              "True"
            ]
          },
          "metadata": {},
          "execution_count": 152
        }
      ]
    },
    {
      "cell_type": "code",
      "execution_count": 153,
      "id": "a72fde1d",
      "metadata": {
        "colab": {
          "base_uri": "https://localhost:8080/"
        },
        "id": "a72fde1d",
        "outputId": "80708001-c3fc-480e-e8a7-b696a4808a07"
      },
      "outputs": [
        {
          "output_type": "execute_result",
          "data": {
            "text/plain": [
              "[('Albert', 'NNP'),\n",
              " ('Einstein', 'NNP'),\n",
              " ('was', 'VBD'),\n",
              " ('born', 'VBN'),\n",
              " ('in', 'IN'),\n",
              " ('Ulm', 'NNP'),\n",
              " (',', ','),\n",
              " ('Germany', 'NNP'),\n",
              " ('in', 'IN'),\n",
              " ('1879', 'CD'),\n",
              " ('.', '.')]"
            ]
          },
          "metadata": {},
          "execution_count": 153
        }
      ],
      "source": [
        "nltk.pos_tag(tokens)"
      ]
    },
    {
      "cell_type": "code",
      "execution_count": 154,
      "id": "81a9653c",
      "metadata": {
        "id": "81a9653c"
      },
      "outputs": [],
      "source": [
        "import nltk\n",
        "from nltk.tokenize import PunktSentenceTokenizer\n"
      ]
    },
    {
      "cell_type": "code",
      "source": [
        "sent = \"\"\"Albert Einstein was born in Ulm, Germany in 1879.\"\"\""
      ],
      "metadata": {
        "id": "dB05pWWd7mY7"
      },
      "id": "dB05pWWd7mY7",
      "execution_count": 155,
      "outputs": []
    },
    {
      "cell_type": "code",
      "execution_count": 156,
      "id": "c316d79a",
      "metadata": {
        "colab": {
          "base_uri": "https://localhost:8080/"
        },
        "id": "c316d79a",
        "outputId": "6fd0cc69-5e08-4aee-b909-c0a819546189"
      },
      "outputs": [
        {
          "output_type": "stream",
          "name": "stdout",
          "text": [
            "Albert Einstein was born in Ulm, Germany in 1879.\n"
          ]
        }
      ],
      "source": [
        "sample_text = sent\n",
        "print(sample_text)"
      ]
    },
    {
      "cell_type": "code",
      "execution_count": 157,
      "id": "d11c56a3",
      "metadata": {
        "colab": {
          "base_uri": "https://localhost:8080/"
        },
        "id": "d11c56a3",
        "outputId": "64eda02a-d4c1-4ea7-b1b0-40a738e0344d"
      },
      "outputs": [
        {
          "output_type": "stream",
          "name": "stdout",
          "text": [
            "<nltk.tokenize.punkt.PunktSentenceTokenizer object at 0x7f4b068334f0>\n"
          ]
        }
      ],
      "source": [
        "custom_sent_tokenizer = PunktSentenceTokenizer(sample_text)\n",
        "print(custom_sent_tokenizer)"
      ]
    },
    {
      "cell_type": "code",
      "execution_count": 158,
      "id": "f6440741",
      "metadata": {
        "colab": {
          "base_uri": "https://localhost:8080/"
        },
        "id": "f6440741",
        "outputId": "9d5056ce-8037-4e44-ce7e-2a10f03cf7de"
      },
      "outputs": [
        {
          "output_type": "stream",
          "name": "stdout",
          "text": [
            "['Albert Einstein was born in Ulm, Germany in 1879.']\n"
          ]
        }
      ],
      "source": [
        "tokenized = custom_sent_tokenizer.tokenize(sample_text)\n",
        "print(tokenized)"
      ]
    },
    {
      "cell_type": "code",
      "execution_count": 159,
      "id": "309834c5",
      "metadata": {
        "colab": {
          "base_uri": "https://localhost:8080/"
        },
        "id": "309834c5",
        "outputId": "b55ed1ed-959b-468d-db50-8d9aaba6c093"
      },
      "outputs": [
        {
          "output_type": "stream",
          "name": "stdout",
          "text": [
            "[('Albert', 'NNP'), ('Einstein', 'NNP'), ('was', 'VBD'), ('born', 'VBN'), ('in', 'IN'), ('Ulm', 'NNP'), (',', ','), ('Germany', 'NNP'), ('in', 'IN'), ('1879', 'CD'), ('.', '.')]\n"
          ]
        }
      ],
      "source": [
        "def process_content():\n",
        "    try:\n",
        "        for i in tokenized[:5]:\n",
        "            words = nltk.word_tokenize(i)\n",
        "            tagged = nltk.pos_tag(words)\n",
        "            print(tagged)\n",
        "\n",
        "    except Exception as e:\n",
        "        print(str(e))\n",
        "\n",
        "\n",
        "process_content()"
      ]
    },
    {
      "cell_type": "code",
      "execution_count": 160,
      "id": "5be6b794",
      "metadata": {
        "colab": {
          "base_uri": "https://localhost:8080/"
        },
        "id": "5be6b794",
        "outputId": "6c05fcbd-4251-4683-ca86-213638bba6de"
      },
      "outputs": [
        {
          "output_type": "execute_result",
          "data": {
            "text/plain": [
              "['__add__',\n",
              " '__class__',\n",
              " '__contains__',\n",
              " '__delattr__',\n",
              " '__dir__',\n",
              " '__doc__',\n",
              " '__eq__',\n",
              " '__format__',\n",
              " '__ge__',\n",
              " '__getattribute__',\n",
              " '__getitem__',\n",
              " '__getnewargs__',\n",
              " '__gt__',\n",
              " '__hash__',\n",
              " '__init__',\n",
              " '__init_subclass__',\n",
              " '__iter__',\n",
              " '__le__',\n",
              " '__len__',\n",
              " '__lt__',\n",
              " '__mod__',\n",
              " '__mul__',\n",
              " '__ne__',\n",
              " '__new__',\n",
              " '__reduce__',\n",
              " '__reduce_ex__',\n",
              " '__repr__',\n",
              " '__rmod__',\n",
              " '__rmul__',\n",
              " '__setattr__',\n",
              " '__sizeof__',\n",
              " '__str__',\n",
              " '__subclasshook__',\n",
              " 'capitalize',\n",
              " 'casefold',\n",
              " 'center',\n",
              " 'count',\n",
              " 'encode',\n",
              " 'endswith',\n",
              " 'expandtabs',\n",
              " 'find',\n",
              " 'format',\n",
              " 'format_map',\n",
              " 'index',\n",
              " 'isalnum',\n",
              " 'isalpha',\n",
              " 'isascii',\n",
              " 'isdecimal',\n",
              " 'isdigit',\n",
              " 'isidentifier',\n",
              " 'islower',\n",
              " 'isnumeric',\n",
              " 'isprintable',\n",
              " 'isspace',\n",
              " 'istitle',\n",
              " 'isupper',\n",
              " 'join',\n",
              " 'ljust',\n",
              " 'lower',\n",
              " 'lstrip',\n",
              " 'maketrans',\n",
              " 'partition',\n",
              " 'removeprefix',\n",
              " 'removesuffix',\n",
              " 'replace',\n",
              " 'rfind',\n",
              " 'rindex',\n",
              " 'rjust',\n",
              " 'rpartition',\n",
              " 'rsplit',\n",
              " 'rstrip',\n",
              " 'split',\n",
              " 'splitlines',\n",
              " 'startswith',\n",
              " 'strip',\n",
              " 'swapcase',\n",
              " 'title',\n",
              " 'translate',\n",
              " 'upper',\n",
              " 'zfill']"
            ]
          },
          "metadata": {},
          "execution_count": 160
        }
      ],
      "source": [
        "dir(\"hello world!\")"
      ]
    },
    {
      "cell_type": "code",
      "execution_count": null,
      "id": "b3401288",
      "metadata": {
        "id": "b3401288"
      },
      "outputs": [],
      "source": [
        "#IDF"
      ]
    },
    {
      "cell_type": "code",
      "source": [
        "#Importing required module\n",
        "import numpy as np\n",
        "from nltk.tokenize import  word_tokenize \n",
        "import nltk\n",
        "nltk.download('punkt')"
      ],
      "metadata": {
        "colab": {
          "base_uri": "https://localhost:8080/"
        },
        "id": "vFGakiz-rClr",
        "outputId": "18abc8d8-d392-4e98-969d-435c55594441"
      },
      "id": "vFGakiz-rClr",
      "execution_count": 161,
      "outputs": [
        {
          "output_type": "stream",
          "name": "stderr",
          "text": [
            "[nltk_data] Downloading package punkt to /root/nltk_data...\n",
            "[nltk_data]   Package punkt is already up-to-date!\n"
          ]
        },
        {
          "output_type": "execute_result",
          "data": {
            "text/plain": [
              "True"
            ]
          },
          "metadata": {},
          "execution_count": 161
        }
      ]
    },
    {
      "cell_type": "code",
      "execution_count": 163,
      "id": "0aa065c5",
      "metadata": {
        "id": "0aa065c5"
      },
      "outputs": [],
      "source": [
        "#Example text corpus for our tutorial\n",
        "text = ['Topic sentences are similar to mini thesis statements.\\\n",
        "        Like a thesis statement, a topic sentence has a specific \\\n",
        "        main point. Whereas the thesis is the main point of the essay',\\\n",
        "        'the topic sentence is the main point of the paragraph.\\\n",
        "        Like the thesis statement, a topic sentence has a unifying function. \\\n",
        "        But a thesis statement or topic sentence alone doesn’t guarantee unity.', \\\n",
        "        'An essay is unified if all the paragraphs relate to the thesis,\\\n",
        "        whereas a paragraph is unified if all the sentences relate to the topic sentence.']\n",
        " \n",
        "#Preprocessing the text data\n",
        "sentences = []\n",
        "word_set = []\n",
        " \n",
        "for sent in text:\n",
        "    x = [i.lower() for  i in word_tokenize(sent) if i.isalpha()]\n",
        "    sentences.append(x)\n",
        "    for word in x:\n",
        "        if word not in word_set:\n",
        "            word_set.append(word)\n",
        " \n",
        "#Set of vocab \n",
        "word_set = set(word_set)\n",
        "#Total documents in our corpus\n",
        "total_documents = len(sentences)\n",
        " \n",
        "#Creating an index for each word in our vocab.\n",
        "index_dict = {} #Dictionary to store index for each word\n",
        "i = 0\n",
        "for word in word_set:\n",
        "    index_dict[word] = i\n",
        "    i += 1"
      ]
    },
    {
      "cell_type": "code",
      "execution_count": 164,
      "id": "8c4dd6ef",
      "metadata": {
        "id": "8c4dd6ef"
      },
      "outputs": [],
      "source": [
        "#Create a count dictionary\n",
        " \n",
        "def count_dict(sentences):\n",
        "    word_count = {}\n",
        "    for word in word_set:\n",
        "        word_count[word] = 0\n",
        "        for sent in sentences:\n",
        "            if word in sent:\n",
        "                word_count[word] += 1\n",
        "    return word_count\n",
        " \n",
        "word_count = count_dict(sentences)"
      ]
    },
    {
      "cell_type": "code",
      "execution_count": 165,
      "id": "6ed6ffa6",
      "metadata": {
        "id": "6ed6ffa6"
      },
      "outputs": [],
      "source": [
        "#Term Frequency\n",
        "def termfreq(document, word):\n",
        "    N = len(document)\n",
        "    occurance = len([token for token in document if token == word])\n",
        "    return occurance/N"
      ]
    },
    {
      "cell_type": "code",
      "execution_count": 166,
      "id": "fb60925b",
      "metadata": {
        "id": "fb60925b"
      },
      "outputs": [],
      "source": [
        "#Inverse Document Frequency\n",
        " \n",
        "def inverse_doc_freq(word):\n",
        "    try:\n",
        "        word_occurance = word_count[word] + 1\n",
        "    except:\n",
        "        word_occurance = 1\n",
        "    return np.log(total_documents/word_occurance)"
      ]
    },
    {
      "cell_type": "code",
      "execution_count": 167,
      "id": "f61c31df",
      "metadata": {
        "colab": {
          "base_uri": "https://localhost:8080/"
        },
        "id": "f61c31df",
        "outputId": "ce60297e-e14d-4b9d-d750-dbaab3aad807"
      },
      "outputs": [
        {
          "output_type": "execute_result",
          "data": {
            "text/plain": [
              "-0.2876820724517809"
            ]
          },
          "metadata": {},
          "execution_count": 167
        }
      ],
      "source": [
        "inverse_doc_freq(word)"
      ]
    },
    {
      "cell_type": "code",
      "execution_count": 168,
      "id": "95300116",
      "metadata": {
        "id": "95300116"
      },
      "outputs": [],
      "source": [
        "def tf_idf(sentence):\n",
        "    tf_idf_vec = np.zeros((len(word_set),))\n",
        "    for word in sentence:\n",
        "        tf = termfreq(sentence,word)\n",
        "        idf = inverse_doc_freq(word)\n",
        "         \n",
        "        value = tf*idf\n",
        "        tf_idf_vec[index_dict[word]] = value \n",
        "    return tf_idf_vec"
      ]
    },
    {
      "cell_type": "code",
      "execution_count": 169,
      "id": "6c459036",
      "metadata": {
        "colab": {
          "base_uri": "https://localhost:8080/"
        },
        "id": "6c459036",
        "outputId": "9fd3b5ab-0aa8-4e26-f4ff-c76bee3b4aa9"
      },
      "outputs": [
        {
          "output_type": "stream",
          "name": "stdout",
          "text": [
            "[ 0.          0.          0.0135155   0.         -0.02876821  0.\n",
            "  0.          0.          0.0135155   0.          0.          0.\n",
            "  0.          0.          0.         -0.0095894   0.          0.\n",
            "  0.          0.          0.0135155   0.          0.          0.\n",
            " -0.0191788   0.0135155   0.          0.          0.0135155   0.\n",
            "  0.          0.         -0.0095894   0.          0.         -0.02876821\n",
            " -0.02876821]\n"
          ]
        }
      ],
      "source": [
        "#TF-IDF Encoded text corpus\n",
        "vectors = []\n",
        "for sent in sentences:\n",
        "    vec = tf_idf(sent)\n",
        "    vectors.append(vec)\n",
        " \n",
        "print(vectors[0])"
      ]
    },
    {
      "cell_type": "code",
      "execution_count": 170,
      "id": "1d2e527c",
      "metadata": {
        "id": "1d2e527c"
      },
      "outputs": [],
      "source": [
        "#Sentiment analysis"
      ]
    },
    {
      "cell_type": "code",
      "execution_count": 171,
      "id": "087a6a16",
      "metadata": {
        "id": "087a6a16"
      },
      "outputs": [],
      "source": [
        "finwiz_url = 'https://finviz.com/quote.ashx?t='\n",
        "news_tables = {}\n",
        "tickers = ['AMZN', 'TSLA', 'GOOG']\n",
        "for ticker in tickers:\n",
        "    url = finwiz_url + ticker\n",
        "    req = Request(url=url,headers={'User-Agent': 'Mozilla/5.0 (Windows NT 6.1; WOW64; rv:20.0) Gecko/20100101 Firefox/20.0'}) \n",
        "    response = urlopen(req)  \n",
        "      \n",
        "    # Read the contents of the file into 'html'\n",
        "    html = BeautifulSoup(response)\n",
        "    # Find 'news-table' in the Soup and load it into 'news_table'\n",
        "    news_table = html.find(id='news-table')\n",
        "    # Add the table to our dictionary\n",
        "    news_tables[ticker] = news_table"
      ]
    },
    {
      "cell_type": "code",
      "execution_count": 182,
      "id": "4ab390ef",
      "metadata": {
        "colab": {
          "base_uri": "https://localhost:8080/"
        },
        "id": "4ab390ef",
        "outputId": "041f2a8c-0290-483c-cf8c-648967f6f130"
      },
      "outputs": [
        {
          "output_type": "stream",
          "name": "stdout",
          "text": [
            "Amazon's Next Pillar Could Be Generating Billions\n",
            "Mar-16-23 10:15AM\n",
            "The Threat of E-Commerce Doesn't Scare This Unstoppable Business\n",
            "08:10AM\n",
            "3 No-Brainer Stocks I'd Buy Right Now Without Hesitation\n",
            "07:43AM\n",
            "The Market Is Sleeping On This Stock; Here's Why You Shouldn't\n",
            "06:39AM\n"
          ]
        }
      ],
      "source": [
        "# Read one single day of headlines for ‘AMZN’ \n",
        "amzn = news_tables['AMZN']\n",
        "# Get all the table rows tagged in HTML with <tr> into ‘amzn_tr’\n",
        "amzn_tr = amzn.findAll('tr')\n",
        "for i, table_row in enumerate(amzn_tr):\n",
        " # Read the text of the element ‘a’ into ‘link_text’\n",
        " a_text = table_row.a.text\n",
        " # Read the text of the element ‘td’ into ‘data_text’\n",
        " td_text = table_row.td.text\n",
        " # Print the contents of ‘link_text’ and ‘data_text’ \n",
        " print(a_text)\n",
        " print(td_text)\n",
        " # Exit after printing 4 rows of data\n",
        " if i == 3:\n",
        "  break"
      ]
    },
    {
      "cell_type": "code",
      "execution_count": 181,
      "id": "d82108f3",
      "metadata": {
        "colab": {
          "base_uri": "https://localhost:8080/"
        },
        "id": "d82108f3",
        "outputId": "10d6e38e-5e5e-419f-9ac9-928a08bdec6f"
      },
      "outputs": [
        {
          "output_type": "stream",
          "name": "stdout",
          "text": [
            "[['AMZN', 'Mar-16-23', '10:15AM', \"Mar-16-23 10:15AMAmazon's Next Pillar Could Be Generating Billions Motley Fool\"], ['AMZN', 'Mar-15-23', '03:29PM', 'Mar-15-23 03:29PMHow Much Do Memberships Cost at Costco, Sams Club and Other Warehouse Stores? GOBankingRates'], ['AMZN', 'Mar-14-23', '06:33PM', 'Mar-14-23 06:33PMThe 10 Best Stocks to Buy in March 2023 Motley Fool'], ['AMZN', 'Mar-13-23', '07:18PM', 'Mar-13-23 07:18PMRivian Stock Falls on Amazon News. It Might Be an Overreaction. Barrons.com'], ['AMZN', 'Mar-12-23', '06:30PM', 'Mar-12-23 06:30PMIs It Safe to Store Your Credit Card Info on Amazon? Motley Fool']]\n"
          ]
        }
      ],
      "source": [
        "parsed_news = []\n",
        "# Iterate through the news\n",
        "for file_name, news_table in news_tables.items():\n",
        "    # Iterate through all tr tags in 'news_table'\n",
        "    for x in news_table.findAll('tr'):\n",
        "        # read the text from each tr tag into text\n",
        "        text = x.get_text() \n",
        "        # splite text in the td tag into a list \n",
        "        date_scrape = x.td.text.split()\n",
        "        # if the length of 'date_scrape' is 1, load 'time' as the only element\n",
        "        if len(date_scrape) == 1:\n",
        "            time = date_scrape[0]\n",
        "            \n",
        "        # else load 'date' as the 1st element and 'time' as the second  \n",
        "        else:\n",
        "            date = date_scrape[0]\n",
        "            time = date_scrape[1]\n",
        "        # Extract the ticker from the file name, get the string up to the 1st '_'  \n",
        "            ticker = file_name.split('_')[0]\n",
        "        \n",
        "        # Append ticker, date, time and headline as a list to the 'parsed_news' list\n",
        "            parsed_news.append([ticker, date, time, text])\n",
        "        \n",
        "print(parsed_news[:5]) # print first 5 rows of news"
      ]
    },
    {
      "cell_type": "code",
      "execution_count": 184,
      "id": "990d44f2",
      "metadata": {
        "colab": {
          "base_uri": "https://localhost:8080/",
          "height": 206
        },
        "id": "990d44f2",
        "outputId": "f6cc8afc-c2fa-4ee4-bd25-11ac9b78342c"
      },
      "outputs": [
        {
          "output_type": "execute_result",
          "data": {
            "text/plain": [
              "  ticker       date     time  \\\n",
              "0   AMZN  Mar-16-23  10:15AM   \n",
              "1   AMZN  Mar-15-23  03:29PM   \n",
              "2   AMZN  Mar-14-23  06:33PM   \n",
              "3   AMZN  Mar-13-23  07:18PM   \n",
              "4   AMZN  Mar-12-23  06:30PM   \n",
              "\n",
              "                                            headline  \n",
              "0  Mar-16-23 10:15AMAmazon's Next Pillar Could Be...  \n",
              "1  Mar-15-23 03:29PMHow Much Do Memberships Cost ...  \n",
              "2  Mar-14-23 06:33PMThe 10 Best Stocks to Buy in ...  \n",
              "3  Mar-13-23 07:18PMRivian Stock Falls on Amazon ...  \n",
              "4  Mar-12-23 06:30PMIs It Safe to Store Your Cred...  "
            ],
            "text/html": [
              "\n",
              "  <div id=\"df-f3804074-0299-4e00-a834-b0d64be7e384\">\n",
              "    <div class=\"colab-df-container\">\n",
              "      <div>\n",
              "<style scoped>\n",
              "    .dataframe tbody tr th:only-of-type {\n",
              "        vertical-align: middle;\n",
              "    }\n",
              "\n",
              "    .dataframe tbody tr th {\n",
              "        vertical-align: top;\n",
              "    }\n",
              "\n",
              "    .dataframe thead th {\n",
              "        text-align: right;\n",
              "    }\n",
              "</style>\n",
              "<table border=\"1\" class=\"dataframe\">\n",
              "  <thead>\n",
              "    <tr style=\"text-align: right;\">\n",
              "      <th></th>\n",
              "      <th>ticker</th>\n",
              "      <th>date</th>\n",
              "      <th>time</th>\n",
              "      <th>headline</th>\n",
              "    </tr>\n",
              "  </thead>\n",
              "  <tbody>\n",
              "    <tr>\n",
              "      <th>0</th>\n",
              "      <td>AMZN</td>\n",
              "      <td>Mar-16-23</td>\n",
              "      <td>10:15AM</td>\n",
              "      <td>Mar-16-23 10:15AMAmazon's Next Pillar Could Be...</td>\n",
              "    </tr>\n",
              "    <tr>\n",
              "      <th>1</th>\n",
              "      <td>AMZN</td>\n",
              "      <td>Mar-15-23</td>\n",
              "      <td>03:29PM</td>\n",
              "      <td>Mar-15-23 03:29PMHow Much Do Memberships Cost ...</td>\n",
              "    </tr>\n",
              "    <tr>\n",
              "      <th>2</th>\n",
              "      <td>AMZN</td>\n",
              "      <td>Mar-14-23</td>\n",
              "      <td>06:33PM</td>\n",
              "      <td>Mar-14-23 06:33PMThe 10 Best Stocks to Buy in ...</td>\n",
              "    </tr>\n",
              "    <tr>\n",
              "      <th>3</th>\n",
              "      <td>AMZN</td>\n",
              "      <td>Mar-13-23</td>\n",
              "      <td>07:18PM</td>\n",
              "      <td>Mar-13-23 07:18PMRivian Stock Falls on Amazon ...</td>\n",
              "    </tr>\n",
              "    <tr>\n",
              "      <th>4</th>\n",
              "      <td>AMZN</td>\n",
              "      <td>Mar-12-23</td>\n",
              "      <td>06:30PM</td>\n",
              "      <td>Mar-12-23 06:30PMIs It Safe to Store Your Cred...</td>\n",
              "    </tr>\n",
              "  </tbody>\n",
              "</table>\n",
              "</div>\n",
              "      <button class=\"colab-df-convert\" onclick=\"convertToInteractive('df-f3804074-0299-4e00-a834-b0d64be7e384')\"\n",
              "              title=\"Convert this dataframe to an interactive table.\"\n",
              "              style=\"display:none;\">\n",
              "        \n",
              "  <svg xmlns=\"http://www.w3.org/2000/svg\" height=\"24px\"viewBox=\"0 0 24 24\"\n",
              "       width=\"24px\">\n",
              "    <path d=\"M0 0h24v24H0V0z\" fill=\"none\"/>\n",
              "    <path d=\"M18.56 5.44l.94 2.06.94-2.06 2.06-.94-2.06-.94-.94-2.06-.94 2.06-2.06.94zm-11 1L8.5 8.5l.94-2.06 2.06-.94-2.06-.94L8.5 2.5l-.94 2.06-2.06.94zm10 10l.94 2.06.94-2.06 2.06-.94-2.06-.94-.94-2.06-.94 2.06-2.06.94z\"/><path d=\"M17.41 7.96l-1.37-1.37c-.4-.4-.92-.59-1.43-.59-.52 0-1.04.2-1.43.59L10.3 9.45l-7.72 7.72c-.78.78-.78 2.05 0 2.83L4 21.41c.39.39.9.59 1.41.59.51 0 1.02-.2 1.41-.59l7.78-7.78 2.81-2.81c.8-.78.8-2.07 0-2.86zM5.41 20L4 18.59l7.72-7.72 1.47 1.35L5.41 20z\"/>\n",
              "  </svg>\n",
              "      </button>\n",
              "      \n",
              "  <style>\n",
              "    .colab-df-container {\n",
              "      display:flex;\n",
              "      flex-wrap:wrap;\n",
              "      gap: 12px;\n",
              "    }\n",
              "\n",
              "    .colab-df-convert {\n",
              "      background-color: #E8F0FE;\n",
              "      border: none;\n",
              "      border-radius: 50%;\n",
              "      cursor: pointer;\n",
              "      display: none;\n",
              "      fill: #1967D2;\n",
              "      height: 32px;\n",
              "      padding: 0 0 0 0;\n",
              "      width: 32px;\n",
              "    }\n",
              "\n",
              "    .colab-df-convert:hover {\n",
              "      background-color: #E2EBFA;\n",
              "      box-shadow: 0px 1px 2px rgba(60, 64, 67, 0.3), 0px 1px 3px 1px rgba(60, 64, 67, 0.15);\n",
              "      fill: #174EA6;\n",
              "    }\n",
              "\n",
              "    [theme=dark] .colab-df-convert {\n",
              "      background-color: #3B4455;\n",
              "      fill: #D2E3FC;\n",
              "    }\n",
              "\n",
              "    [theme=dark] .colab-df-convert:hover {\n",
              "      background-color: #434B5C;\n",
              "      box-shadow: 0px 1px 3px 1px rgba(0, 0, 0, 0.15);\n",
              "      filter: drop-shadow(0px 1px 2px rgba(0, 0, 0, 0.3));\n",
              "      fill: #FFFFFF;\n",
              "    }\n",
              "  </style>\n",
              "\n",
              "      <script>\n",
              "        const buttonEl =\n",
              "          document.querySelector('#df-f3804074-0299-4e00-a834-b0d64be7e384 button.colab-df-convert');\n",
              "        buttonEl.style.display =\n",
              "          google.colab.kernel.accessAllowed ? 'block' : 'none';\n",
              "\n",
              "        async function convertToInteractive(key) {\n",
              "          const element = document.querySelector('#df-f3804074-0299-4e00-a834-b0d64be7e384');\n",
              "          const dataTable =\n",
              "            await google.colab.kernel.invokeFunction('convertToInteractive',\n",
              "                                                     [key], {});\n",
              "          if (!dataTable) return;\n",
              "\n",
              "          const docLinkHtml = 'Like what you see? Visit the ' +\n",
              "            '<a target=\"_blank\" href=https://colab.research.google.com/notebooks/data_table.ipynb>data table notebook</a>'\n",
              "            + ' to learn more about interactive tables.';\n",
              "          element.innerHTML = '';\n",
              "          dataTable['output_type'] = 'display_data';\n",
              "          await google.colab.output.renderOutput(dataTable, element);\n",
              "          const docLink = document.createElement('div');\n",
              "          docLink.innerHTML = docLinkHtml;\n",
              "          element.appendChild(docLink);\n",
              "        }\n",
              "      </script>\n",
              "    </div>\n",
              "  </div>\n",
              "  "
            ]
          },
          "metadata": {},
          "execution_count": 184
        }
      ],
      "source": [
        "# Set column names\n",
        "columns = ['ticker', 'date', 'time', 'headline']\n",
        "# Convert the parsed_news list into a DataFrame called 'parsed_news'\n",
        "parsed_news = pd.DataFrame(parsed_news, columns=columns)\n",
        "\n",
        "parsed_news.head()"
      ]
    },
    {
      "cell_type": "code",
      "execution_count": 185,
      "id": "54a18067",
      "metadata": {
        "colab": {
          "base_uri": "https://localhost:8080/"
        },
        "id": "54a18067",
        "outputId": "85a77523-7f93-4b76-f4e9-aeabf14387f5"
      },
      "outputs": [
        {
          "output_type": "execute_result",
          "data": {
            "text/plain": [
              "[('Yahoo', 19),\n",
              " ('Finance', 19),\n",
              " ('Video', 11),\n",
              " ('to', 9),\n",
              " ('the', 9),\n",
              " ('in', 8),\n",
              " ('Wall', 8),\n",
              " ('Street', 8),\n",
              " ('and', 7),\n",
              " ('for', 7)]"
            ]
          },
          "metadata": {},
          "execution_count": 185
        }
      ],
      "source": [
        "from collections import Counter\n",
        "Counter(\" \".join(parsed_news[\"headline\"]).split()).most_common(10)"
      ]
    },
    {
      "cell_type": "code",
      "execution_count": 186,
      "id": "a9628174",
      "metadata": {
        "id": "a9628174"
      },
      "outputs": [],
      "source": [
        "for title in parsed_news['headline']:\n",
        "    score = \" \".split().count('growth')\n",
        "    "
      ]
    },
    {
      "cell_type": "code",
      "execution_count": 187,
      "id": "076a2529",
      "metadata": {
        "colab": {
          "base_uri": "https://localhost:8080/"
        },
        "id": "076a2529",
        "outputId": "522dfeea-852b-44c9-fd3c-0021d4d1a93f"
      },
      "outputs": [
        {
          "output_type": "stream",
          "name": "stdout",
          "text": [
            "0\n"
          ]
        }
      ],
      "source": [
        "print(score)"
      ]
    },
    {
      "cell_type": "code",
      "execution_count": 188,
      "id": "b8be4478",
      "metadata": {
        "id": "b8be4478"
      },
      "outputs": [],
      "source": [
        "text=\"This is my test text. We're keeping this text short to keep things manageable.\""
      ]
    },
    {
      "cell_type": "code",
      "source": [
        "from collections import Counter \n",
        "import re"
      ],
      "metadata": {
        "id": "YLtaRrwDuecS"
      },
      "id": "YLtaRrwDuecS",
      "execution_count": 189,
      "outputs": []
    },
    {
      "cell_type": "code",
      "execution_count": 190,
      "id": "7aeb38fd",
      "metadata": {
        "id": "7aeb38fd"
      },
      "outputs": [],
      "source": [
        "# word_counts = count_words_fast(text)         \n",
        "# (num_unique, counts) = word_stats(word_counts)\n",
        "# print(num_unique, sum(counts)) \n"
      ]
    },
    {
      "cell_type": "code",
      "source": [
        "text=\"This is my test text. We're keeping this text short to keep things manageable.\"\n",
        "word_counts = Counter(re.findall('\\w+',text))\n",
        "print(word_counts)"
      ],
      "metadata": {
        "colab": {
          "base_uri": "https://localhost:8080/"
        },
        "id": "lHGGkq7zugND",
        "outputId": "3e723ad1-a1e8-454a-d9bd-4cbd522d0e50"
      },
      "id": "lHGGkq7zugND",
      "execution_count": 191,
      "outputs": [
        {
          "output_type": "stream",
          "name": "stdout",
          "text": [
            "Counter({'text': 2, 'This': 1, 'is': 1, 'my': 1, 'test': 1, 'We': 1, 're': 1, 'keeping': 1, 'this': 1, 'short': 1, 'to': 1, 'keep': 1, 'things': 1, 'manageable': 1})\n"
          ]
        }
      ]
    },
    {
      "cell_type": "code",
      "execution_count": 192,
      "id": "3ebd4bd1",
      "metadata": {
        "id": "3ebd4bd1"
      },
      "outputs": [],
      "source": [
        "import wordcloud\n",
        "from wordcloud import WordCloud"
      ]
    },
    {
      "cell_type": "code",
      "execution_count": 193,
      "id": "899f42c5",
      "metadata": {
        "colab": {
          "base_uri": "https://localhost:8080/",
          "height": 198
        },
        "id": "899f42c5",
        "outputId": "a8aa5894-b7a8-4085-84a2-c36e431da56a"
      },
      "outputs": [
        {
          "output_type": "display_data",
          "data": {
            "text/plain": [
              "<Figure size 432x288 with 1 Axes>"
            ],
            "image/png": "[encoded data removed]"
          },
          "metadata": {
            "needs_background": "light"
          }
        }
      ],
      "source": [
        "# Create and generate a word cloud image:\n",
        "wordcloud = WordCloud().generate(text)\n",
        "\n",
        "# Display the generated image:\n",
        "plt.imshow(wordcloud, interpolation='bilinear')\n",
        "plt.axis(\"off\")\n",
        "plt.show()"
      ]
    },
    {
      "cell_type": "code",
      "execution_count": null,
      "id": "84fee0fc",
      "metadata": {
        "id": "84fee0fc"
      },
      "outputs": [],
      "source": []
    },
    {
      "cell_type": "code",
      "execution_count": null,
      "id": "c8692531",
      "metadata": {
        "id": "c8692531"
      },
      "outputs": [],
      "source": [
        "#Good job!"
      ]
    }
  ],
  "metadata": {
    "kernelspec": {
      "display_name": "Python 3 (ipykernel)",
      "language": "python",
      "name": "python3"
    },
    "language_info": {
      "codemirror_mode": {
        "name": "ipython",
        "version": 3
      },
      "file_extension": ".py",
      "mimetype": "text/x-python",
      "name": "python",
      "nbconvert_exporter": "python",
      "pygments_lexer": "ipython3",
      "version": "3.9.13"
    },
    "colab": {
      "provenance": [],
      "include_colab_link": true
    }
  },
  "nbformat": 4,
  "nbformat_minor": 5
}